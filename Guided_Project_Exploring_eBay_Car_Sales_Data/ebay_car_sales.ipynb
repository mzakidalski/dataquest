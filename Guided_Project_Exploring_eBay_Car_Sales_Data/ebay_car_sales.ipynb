{
 "cells": [
  {
   "metadata": {},
   "cell_type": "markdown",
   "source": [
    "## Table of contents\n",
    "1. [The aim of the project and dataset description](#the-aim-of-the-project-and-dataset-description)"
   ],
   "id": "89f4f682f37a414d"
  },
  {
   "metadata": {},
   "cell_type": "markdown",
   "source": "## The aim of the project and dataset description",
   "id": "3afd587d616ddbeb"
  },
  {
   "metadata": {},
   "cell_type": "markdown",
   "source": [
    "The dataset in this project contains data about [classified](https://en.wikipedia.org/wiki/Classified_advertising) section od the German eBay website. It is a 50 000 sample of the original [Kaggle dataset](https://www.kaggle.com/datasets/sijovm/used-cars-data-from-ebay-kleinanzeigen) crawled from the German eBay.\n",
    "\n",
    "It contains the following columns:\n",
    "- **dateCrawled** - the date at which the particular entry has been crawled.\n",
    "- **name** - name of the car.\n",
    "- **seller** - whether the seller is private or a dealer.\n",
    "- **offerType** - the listing type.\n",
    "- **price** - the listed selling price of the car.\n",
    "- **abtest** - whether the listing is included in an A/B test.\n",
    "- **vehicleType** - the type of the vehicle.\n",
    "- **yearOfRegistration** - the year in which the car was first registered.\n",
    "- **gearbox** - the type of transmission.\n",
    "- **powerPS** - the power of the car in PS.\n",
    "- **model** - the car model name.\n",
    "- **odometer** - the number of kilometers the car has driven.\n",
    "- **monthOfRegistration** - the month in which the car was first registered.\n",
    "- **fuelType** - what type of fuel the car uses.\n",
    "- **brand** - the brand of the car.\n",
    "- **notRepairedDamage** - if the car has a damage which is not yet repaired.\n",
    "- **dateCreated** - the date the eBay listing was created.\n",
    "- **nrOfPictures** - the number of pictures in the ad.\n",
    "- **postalCode** - the postal code for the location of the vehicle.\n",
    "- **lastSeenOnline** - when the crawler saw this ad last online."
   ],
   "id": "c30aad3fd5f5f639"
  },
  {
   "metadata": {},
   "cell_type": "markdown",
   "source": "",
   "id": "ffefacb9545da888"
  },
  {
   "metadata": {},
   "cell_type": "markdown",
   "source": "",
   "id": "6a28f93c4bf5d4ed"
  }
 ],
 "metadata": {
  "kernelspec": {
   "display_name": "Python 3",
   "language": "python",
   "name": "python3"
  },
  "language_info": {
   "codemirror_mode": {
    "name": "ipython",
    "version": 2
   },
   "file_extension": ".py",
   "mimetype": "text/x-python",
   "name": "python",
   "nbconvert_exporter": "python",
   "pygments_lexer": "ipython2",
   "version": "2.7.6"
  }
 },
 "nbformat": 4,
 "nbformat_minor": 5
}
