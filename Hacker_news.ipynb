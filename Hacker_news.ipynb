{
 "cells": [
  {
   "cell_type": "markdown",
   "metadata": {
    "collapsed": true,
    "jupyter": {
     "outputs_hidden": true
    }
   },
   "source": [
    "# Exploring Hacker News posts\n",
    "\n",
    "## Dataset\n",
    "\n",
    "This dataset contains information about posts from the [HackerNews](https://www.ycombinator.com/) which is Reddit-style, technology-and-startup-oriented webpage where user can submit their stories (a.k.a. posts), receive comments and votes.\n",
    "\n",
    "The [source dataset](https://www.kaggle.com/datasets/hacker-news/hacker-news-posts) has been randomly down-sampled to about 20,000 rows after removing all submissions without any comments.\n",
    "\n",
    "The dataset contains the following columns:\n",
    "- **id** - the unique identifier from Hacker News for the post;\n",
    "- **title** - the title of the post;\n",
    "- **url** - the URL that the posts links to, if the post has a URL;\n",
    "- **num_points** - the number of points the post acquired, calculated as the total - number of upvotes minus the total number of downvotes;\n",
    "- **num_comments** - the number of comments on the post;\n",
    "- **author** - the username of the person who submitted the post;\n",
    "- **created_at** - the date and time of the post's submission.\n"
   ]
  },
  {
   "cell_type": "markdown",
   "metadata": {},
   "source": [
    "## Research problem\n",
    "\n",
    "This analysis focuses on two kinds of posts:\n",
    "- **Ask HN** - created by users to ask the Hacker News community a specific question;\n",
    "- **Show HN** - made to show the community a project, product, or sth to take a look at.\n",
    "\n",
    "The questions we are to answer are:\n",
    "1. Which posts on average receive more comments: **Ask HN** or **Show HN**?\n",
    "2. Do **Ask HN** posts create at a certain time receive more comments on average?\n",
    "\n",
    "Additional problems considered in this notebook:\n",
    "1. The average number of comments per hour the **Show HN** posts receive.\n",
    "2. Which posts on average receive more points: **Ask HN** or **Show HN**?\n",
    "3. Determine if posts created at a certain time are more likely to receive points."
   ]
  },
  {
   "cell_type": "markdown",
   "metadata": {},
   "source": [
    "## Dataset loading"
   ]
  },
  {
   "cell_type": "code",
   "execution_count": 1,
   "metadata": {},
   "outputs": [
    {
     "ename": "UnicodeDecodeError",
     "evalue": "'charmap' codec can't decode byte 0x83 in position 5227: character maps to <undefined>",
     "output_type": "error",
     "traceback": [
      "\u001b[1;31m---------------------------------------------------------------------------\u001b[0m",
      "\u001b[1;31mUnicodeDecodeError\u001b[0m                        Traceback (most recent call last)",
      "Cell \u001b[1;32mIn[1], line 4\u001b[0m\n\u001b[0;32m      1\u001b[0m \u001b[38;5;28;01mfrom\u001b[39;00m\u001b[38;5;250m \u001b[39m\u001b[38;5;21;01mcsv\u001b[39;00m\u001b[38;5;250m \u001b[39m\u001b[38;5;28;01mimport\u001b[39;00m reader\n\u001b[0;32m      3\u001b[0m file \u001b[38;5;241m=\u001b[39m \u001b[38;5;28mopen\u001b[39m(\u001b[38;5;124m\"\u001b[39m\u001b[38;5;124mhacker_news.csv\u001b[39m\u001b[38;5;124m\"\u001b[39m)\n\u001b[1;32m----> 4\u001b[0m hn \u001b[38;5;241m=\u001b[39m \u001b[38;5;28;43mlist\u001b[39;49m\u001b[43m(\u001b[49m\u001b[43mreader\u001b[49m\u001b[43m(\u001b[49m\u001b[43mfile\u001b[49m\u001b[43m)\u001b[49m\u001b[43m)\u001b[49m\n\u001b[0;32m      6\u001b[0m \u001b[38;5;28mprint\u001b[39m(\u001b[38;5;124m\"\u001b[39m\u001b[38;5;124mFirst five rows of the \u001b[39m\u001b[38;5;124m'\u001b[39m\u001b[38;5;124mHacker News\u001b[39m\u001b[38;5;124m'\u001b[39m\u001b[38;5;124m dataset:\u001b[39m\u001b[38;5;130;01m\\n\u001b[39;00m\u001b[38;5;124m\"\u001b[39m)\n\u001b[0;32m      8\u001b[0m \u001b[38;5;28;01mfor\u001b[39;00m i \u001b[38;5;129;01min\u001b[39;00m \u001b[38;5;28mrange\u001b[39m(\u001b[38;5;241m0\u001b[39m,\u001b[38;5;241m5\u001b[39m,\u001b[38;5;241m1\u001b[39m):\n",
      "File \u001b[1;32mC:\\Program Files\\WindowsApps\\PythonSoftwareFoundation.Python.3.12_3.12.2800.0_x64__qbz5n2kfra8p0\\Lib\\encodings\\cp1250.py:23\u001b[0m, in \u001b[0;36mIncrementalDecoder.decode\u001b[1;34m(self, input, final)\u001b[0m\n\u001b[0;32m     22\u001b[0m \u001b[38;5;28;01mdef\u001b[39;00m\u001b[38;5;250m \u001b[39m\u001b[38;5;21mdecode\u001b[39m(\u001b[38;5;28mself\u001b[39m, \u001b[38;5;28minput\u001b[39m, final\u001b[38;5;241m=\u001b[39m\u001b[38;5;28;01mFalse\u001b[39;00m):\n\u001b[1;32m---> 23\u001b[0m     \u001b[38;5;28;01mreturn\u001b[39;00m \u001b[43mcodecs\u001b[49m\u001b[38;5;241;43m.\u001b[39;49m\u001b[43mcharmap_decode\u001b[49m\u001b[43m(\u001b[49m\u001b[38;5;28;43minput\u001b[39;49m\u001b[43m,\u001b[49m\u001b[38;5;28;43mself\u001b[39;49m\u001b[38;5;241;43m.\u001b[39;49m\u001b[43merrors\u001b[49m\u001b[43m,\u001b[49m\u001b[43mdecoding_table\u001b[49m\u001b[43m)\u001b[49m[\u001b[38;5;241m0\u001b[39m]\n",
      "\u001b[1;31mUnicodeDecodeError\u001b[0m: 'charmap' codec can't decode byte 0x83 in position 5227: character maps to <undefined>"
     ]
    }
   ],
   "source": [
    "from csv import reader\n",
    "\n",
    "file = open(\"hacker_news.csv\")\n",
    "hn = list(reader(file))\n",
    "\n",
    "print(\"First five rows of the 'Hacker News' dataset:\\n\")\n",
    "\n",
    "for i in range(0,5,1):\n",
    "    print(hn[i])"
   ]
  },
  {
   "cell_type": "markdown",
   "metadata": {},
   "source": [
    "## Data pre-processing\n",
    "\n",
    "We will separate the header into a separate variable **hn**."
   ]
  },
  {
   "cell_type": "code",
   "execution_count": null,
   "metadata": {},
   "outputs": [],
   "source": [
    "headers = hn[0]\n",
    "hn = hn[1:]\n",
    "\n",
    "print(f\"Headers: \\n {headers}\\n\")\n",
    "print(f\"First five lines of the dataset without headers:\\n {hn[:5]}\\n\")"
   ]
  },
  {
   "cell_type": "markdown",
   "metadata": {},
   "source": [
    "All **Ask HN** posts will be extracted into **ask_posts** variable and respectivelyu **Show HN** posts into **show_posts** variable. \n",
    "All other posts will be stored in the **other_posts**."
   ]
  },
  {
   "cell_type": "code",
   "execution_count": null,
   "metadata": {},
   "outputs": [],
   "source": [
    "ask_posts = []\n",
    "show_posts = []\n",
    "other_posts = []\n",
    "\n",
    "TITLE_IDX = 1\n",
    "ASK_HN_PREFIX = \"ask hn\"\n",
    "SHOW_HN_PREFIX = \"show hn\"\n",
    "\n",
    "for row in hn:\n",
    "    title = row[TITLE_IDX].lower()\n",
    "    if title.startswith(ASK_HN_PREFIX):\n",
    "        ask_posts.append(row)\n",
    "    elif title.startswith(SHOW_HN_PREFIX):\n",
    "        show_posts.append(row)\n",
    "    else:\n",
    "        other_posts.append(row)\n",
    "        \n",
    "print(f\"Number of ASK HN posts: {len(ask_posts)}\")\n",
    "print(f\"Number of SHOW HN posts: {len(show_posts)}\")\n",
    "print(f\"Number of posts outside of this category: {len(other_posts)}\")"
   ]
  },
  {
   "cell_type": "code",
   "execution_count": null,
   "metadata": {},
   "outputs": [],
   "source": [
    "print(f\"{show_posts[:5]}\")"
   ]
  },
  {
   "cell_type": "markdown",
   "metadata": {},
   "source": [
    "## Research question no. 1\n",
    "\n",
    "Below is the code of the helper method for calculating the average number of comments per post in the supplied dataset."
   ]
  },
  {
   "cell_type": "code",
   "execution_count": null,
   "metadata": {},
   "outputs": [],
   "source": [
    "def get_average_number_of_comments(dataset):\n",
    "    total_comments = 0\n",
    "    NUM_COMMENT_IDX = 4\n",
    "    for row in dataset:\n",
    "        total_comments += int(row[NUM_COMMENT_IDX])\n",
    "    return total_comments/len(dataset)"
   ]
  },
  {
   "cell_type": "markdown",
   "metadata": {},
   "source": [
    "The average number of comments per post for each of the specified datasets:"
   ]
  },
  {
   "cell_type": "code",
   "execution_count": null,
   "metadata": {},
   "outputs": [],
   "source": [
    "avg_ask_comments = get_average_number_of_comments(ask_posts)\n",
    "avg_show_comments = get_average_number_of_comments(show_posts)\n",
    "\n",
    "print(f\"Average number of comments per ASK HN post: {avg_ask_comments}\")\n",
    "print(f\"Average number of comments per SHOW HN post: {avg_show_comments}\")"
   ]
  },
  {
   "cell_type": "markdown",
   "metadata": {},
   "source": [
    "On average the **Ask HN** posts receive more comments than **Show HN** comments but these values seem to be comparable."
   ]
  },
  {
   "cell_type": "markdown",
   "metadata": {},
   "source": [
    "## Research question no. 2\n",
    "\n",
    "Let us determine whether **Ask HN** posts created at certain hours of the day are more likely to attract comments. The function below calculates the average number of posts per hour for a specified posts subset. \n",
    "\n",
    "It is run it to calculate the average number of comments per hour for the **Ask HN** posts."
   ]
  },
  {
   "cell_type": "code",
   "execution_count": null,
   "metadata": {},
   "outputs": [],
   "source": [
    "import datetime as dt\n",
    "\n",
    "def compute_avg_comments_per_hour(dataset):\n",
    "    avg_by_hour = []\n",
    "    result_list = []\n",
    "    counts_by_hour = {}\n",
    "    comments_by_hour = {}\n",
    "\n",
    "    DATE_COLUMN = 6\n",
    "    COMMENTS_COLUMN = 4\n",
    "\n",
    "    for post in dataset:\n",
    "        result_list.append( (dt.datetime.strptime(post[DATE_COLUMN], \n",
    "                                                 \"%m/%d/%Y %H:%M\"),\n",
    "                             int(post[COMMENTS_COLUMN])))\n",
    "\n",
    "    for element in result_list:\n",
    "        hour = element[0].hour\n",
    "        comments = element[1]\n",
    "        counts_by_hour[hour] = counts_by_hour.get(hour,0) + 1\n",
    "        comments_by_hour[hour] = comments_by_hour.get(hour,0) + comments\n",
    "        \n",
    "    for hour in comments_by_hour:\n",
    "        avg_by_hour.append([hour, comments_by_hour[hour] / counts_by_hour[hour] ])\n",
    "        \n",
    "    return(avg_by_hour)\n",
    "\n",
    "avg_by_hour = compute_avg_comments_per_hour(ask_posts)\n",
    "print(f\"Average comments per hour for the Ask HN posts:\\n\")\n",
    "print(avg_by_hour)"
   ]
  },
  {
   "cell_type": "markdown",
   "metadata": {},
   "source": [
    "The output data requires re-formatting and sorting according to the average number of comments per post for the sake of readability. Code executing that is wrapped into function."
   ]
  },
  {
   "cell_type": "code",
   "execution_count": null,
   "metadata": {},
   "outputs": [],
   "source": [
    "def print_avg_comments_per_hour_data(avg_by_hour):\n",
    "    sorted_swap = sorted([ [elem[1], elem[0]] for elem in avg_by_hour], reverse = True)\n",
    "\n",
    "    for elem in sorted_swap:\n",
    "        hour = dt.datetime.strftime(dt.datetime(2025, 12, 12, hour=elem[1]), \"%H:%M\")\n",
    "        print(f\"{hour} -> {elem[0]:.2f}\")\n",
    "    \n",
    "print(f\"Average comments per hour for the Ask HN posts presented in readable format:\\n\")\n",
    "print_avg_comments_per_hour_data(avg_by_hour)"
   ]
  },
  {
   "cell_type": "markdown",
   "metadata": {},
   "source": [
    "The **Ask HN** posts which attract most comments are created at 15:00 Eastern Time in US which translates to 8:00 Central European Time. Assuming this tendency continues, to attract most comments the **Ask HN** posts should be created at that hour."
   ]
  },
  {
   "cell_type": "markdown",
   "metadata": {},
   "source": [
    "## Additional problem 1: the average number of comments per hour the **Show HN** posts receive"
   ]
  },
  {
   "cell_type": "markdown",
   "metadata": {},
   "source": [
    "To answer this question we re-use functions written for previous research questions."
   ]
  },
  {
   "cell_type": "code",
   "execution_count": null,
   "metadata": {},
   "outputs": [],
   "source": [
    "avg_show_hn_comments_by_hour = compute_avg_comments_per_hour(show_posts)\n",
    "\n",
    "print(f\"Average comments per hour for the Show HN posts:\\n\")\n",
    "print_avg_comments_per_hour_data(avg_show_hn_comments_by_hour)"
   ]
  },
  {
   "cell_type": "markdown",
   "metadata": {},
   "source": [
    "As we can see the number of comments per hour varies from 15.77 to 3.05 with the difference between max and min values equal:"
   ]
  },
  {
   "cell_type": "code",
   "execution_count": null,
   "metadata": {},
   "outputs": [],
   "source": [
    "difference = 15.77-3.05\n",
    "print(f\"The difference between max comments per hour and min comments per hour is equal to {difference}\")"
   ]
  },
  {
   "cell_type": "markdown",
   "metadata": {},
   "source": [
    "## Additional problem 2: whether  **Ask HN** or **Show HN** receive on average more points"
   ]
  },
  {
   "cell_type": "markdown",
   "metadata": {},
   "source": [
    "The following code calculates that:"
   ]
  },
  {
   "cell_type": "code",
   "execution_count": null,
   "metadata": {},
   "outputs": [],
   "source": [
    "ask_hn_points = [int(row[3]) for row in ask_posts]\n",
    "avg_points_per_ask_hn_post = sum(ask_hn_points)/len(ask_hn_points)\n",
    "\n",
    "print(f\"Average number of points per Ask HN post is {avg_points_per_ask_hn_post}\")\n"
   ]
  },
  {
   "cell_type": "code",
   "execution_count": null,
   "metadata": {},
   "outputs": [],
   "source": [
    "show_hn_points = [int(row[3]) for row in show_posts]\n",
    "avg_points_per_show_hn_post = sum(show_hn_points)/len(show_hn_points)\n",
    "\n",
    "print(f\"Average number of points per Show HN post is {avg_points_per_show_hn_post}\")\n"
   ]
  },
  {
   "cell_type": "markdown",
   "metadata": {},
   "source": [
    "It occurs that **Show HN** posts receive almost twice as much points as the **Ask HN** posts. It supports the statement that **Show HN** posts engage the HackerNews\n",
    "users more."
   ]
  },
  {
   "cell_type": "markdown",
   "metadata": {},
   "source": [
    "We can also investigate the average number of points per **other** post."
   ]
  },
  {
   "cell_type": "code",
   "execution_count": null,
   "metadata": {},
   "outputs": [],
   "source": [
    "other_points = [int(row[3]) for row in other_posts]\n",
    "avg_points_per_other_post = sum(other_points)/len(other_points)\n",
    "\n",
    "print(f\"Average number of points per Other post is {avg_points_per_other_post}\")"
   ]
  },
  {
   "cell_type": "markdown",
   "metadata": {},
   "source": [
    "It occurs that it is significantly bigger than the values for **Ask HN** and **Show HN** posts."
   ]
  },
  {
   "cell_type": "markdown",
   "metadata": {},
   "source": [
    "## Additional problem 3: determine if posts created at a certain time are more likely to receive more points."
   ]
  },
  {
   "cell_type": "markdown",
   "metadata": {},
   "source": [
    "The following function returns - for the specified dataset - the map containing as keys hours of the day and as values the average number of points for posts created at the specified hour. The result is sorted descending by the average number of points."
   ]
  },
  {
   "cell_type": "code",
   "execution_count": null,
   "metadata": {},
   "outputs": [],
   "source": [
    "def compute_average_points_per_hour(dataset):\n",
    "    date_points = [ ( dt.datetime.strptime(row[6], \"%m/%d/%Y %H:%M\"), int(row[3])) for row in dataset]\n",
    "    hour_points = [(row[0].hour, row[1]) for row in date_points]\n",
    "    \n",
    "    hour_to_sum_points = {}\n",
    "    hour_to_num_posts = {}\n",
    "    \n",
    "    for row in hour_points:\n",
    "        hour = row[0]\n",
    "        points = row[1]\n",
    "        \n",
    "        hour_to_sum_points[hour] = hour_to_sum_points.get(hour,0) + points\n",
    "        hour_to_num_posts[hour] = hour_to_num_posts.get(hour,0) + 1\n",
    "        \n",
    "    for key in hour_to_sum_points:\n",
    "        hour_to_sum_points[key] = hour_to_sum_points[key] / hour_to_num_posts[key]\n",
    "        \n",
    "    return dict(sorted(hour_to_sum_points.items(), key = lambda item: item[1], reverse = True))\n",
    "        \n",
    "    \n",
    "    "
   ]
  },
  {
   "cell_type": "code",
   "execution_count": null,
   "metadata": {},
   "outputs": [],
   "source": [
    "print(\"Average number of points per ASK HN post\")\n",
    "print(\" --- \")\n",
    "compute_average_points_per_hour(ask_posts)"
   ]
  },
  {
   "cell_type": "code",
   "execution_count": null,
   "metadata": {},
   "outputs": [],
   "source": [
    "print(\"Average number of points per Show HN posts\")\n",
    "print(\" --- \")\n",
    "compute_average_points_per_hour(show_posts)"
   ]
  },
  {
   "cell_type": "code",
   "execution_count": null,
   "metadata": {},
   "outputs": [],
   "source": [
    "print(\"Average number of points per other post\")\n",
    "print(\" --- \")\n",
    "compute_average_points_per_hour(other_posts)"
   ]
  },
  {
   "cell_type": "markdown",
   "metadata": {},
   "source": [
    "It occurs that the hour the post was created is correlated with the number of points it receives:\n",
    "1. for the **Ask HN** posts - the best hours are 15 and 13.\n",
    "2. for the **Show HN** posts - the best hours are 23 and 12.\n",
    "3. for the **Other** posts - these are 13 and 14.\n",
    "\n",
    "It is worth noting that for the **Other** posts the tendency is not so strong the biggest average number of points per hour is 62.52 and the smalles 45.24, while for the **Ask HN** and **Show HN** the smallest average number of points is not bigger than 7."
   ]
  },
  {
   "cell_type": "code",
   "execution_count": null,
   "metadata": {},
   "outputs": [],
   "source": []
  }
 ],
 "metadata": {
  "kernelspec": {
   "display_name": "Python 3 (ipykernel)",
   "language": "python",
   "name": "python3"
  },
  "language_info": {
   "codemirror_mode": {
    "name": "ipython",
    "version": 3
   },
   "file_extension": ".py",
   "mimetype": "text/x-python",
   "name": "python",
   "nbconvert_exporter": "python",
   "pygments_lexer": "ipython3",
   "version": "3.12.10"
  }
 },
 "nbformat": 4,
 "nbformat_minor": 4
}
