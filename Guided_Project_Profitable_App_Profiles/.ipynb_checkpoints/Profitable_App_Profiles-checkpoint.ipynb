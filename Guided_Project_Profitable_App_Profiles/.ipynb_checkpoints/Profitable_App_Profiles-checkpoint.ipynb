{
 "cells": [
  {
   "cell_type": "markdown",
   "metadata": {},
   "source": [
    "### Analysis the popularity of the free apps in the markets: Google Play and App Store\n",
    "\n",
    "#### The rationale for this analysis\n",
    "\n",
    "1. The customer of this analysis is a company developing free apps for both Android (Google Play market) and iOS (App Store).\n",
    "2. Applications developed by the client are free - with all income comming from running the in-app advertisements.\n",
    "3. As a result of the previous point the profit on application is directly dependent only on the number of users engaging inside of it with the served advertisements.\n",
    "4. We are also interested only in applications which have support for English language.\n",
    "\n",
    "#### The defined-upfront company's strategy for developping a profitable app is the following:\n",
    "\n",
    "1. Build a minimal Android version of the app, and add it to Google Play.\n",
    "2. If the app has a good response from users, we develop it further.\n",
    "3. If the app is profitable after six months, we build an iOS version of the app and add it to the App Store.\n",
    "\n",
    "#### Used datasets\n",
    "1. [Google Play dataset](https://www.kaggle.com/datasets/lava18/google-play-store-apps)\n",
    "2. [App Store dataset](https://www.kaggle.com/datasets/ramamet4/app-store-apple-data-set-10k-apps)\n",
    "\n",
    "\n",
    "#### The research problem \n",
    "\n",
    "What are the characteristics of the applications attractive many users?"
   ]
  },
  {
   "cell_type": "markdown",
   "metadata": {},
   "source": [
    "### Reading the data\n"
   ]
  },
  {
   "cell_type": "code",
   "execution_count": 2,
   "metadata": {},
   "outputs": [
    {
     "ename": "UnicodeDecodeError",
     "evalue": "'charmap' codec can't decode byte 0x81 in position 2693: character maps to <undefined>",
     "output_type": "error",
     "traceback": [
      "\u001b[1;31m---------------------------------------------------------------------------\u001b[0m",
      "\u001b[1;31mUnicodeDecodeError\u001b[0m                        Traceback (most recent call last)",
      "Cell \u001b[1;32mIn[2], line 19\u001b[0m\n\u001b[0;32m     16\u001b[0m         \u001b[38;5;28mprint\u001b[39m(\u001b[38;5;124m'\u001b[39m\u001b[38;5;124mNumber of rows:\u001b[39m\u001b[38;5;124m'\u001b[39m, \u001b[38;5;28mlen\u001b[39m(dataset))\n\u001b[0;32m     17\u001b[0m         \u001b[38;5;28mprint\u001b[39m(\u001b[38;5;124m'\u001b[39m\u001b[38;5;124mNumber of columns:\u001b[39m\u001b[38;5;124m'\u001b[39m, \u001b[38;5;28mlen\u001b[39m(dataset[\u001b[38;5;241m0\u001b[39m]))\n\u001b[1;32m---> 19\u001b[0m appstore_data \u001b[38;5;241m=\u001b[39m \u001b[43mread_dataset\u001b[49m\u001b[43m(\u001b[49m\u001b[43mappstore_file_name\u001b[49m\u001b[43m)\u001b[49m\n\u001b[0;32m     20\u001b[0m playstore_data \u001b[38;5;241m=\u001b[39m read_dataset(playstore_file_name)\n",
      "Cell \u001b[1;32mIn[2], line 7\u001b[0m, in \u001b[0;36mread_dataset\u001b[1;34m(file_name)\u001b[0m\n\u001b[0;32m      6\u001b[0m \u001b[38;5;28;01mdef\u001b[39;00m\u001b[38;5;250m \u001b[39m\u001b[38;5;21mread_dataset\u001b[39m(file_name):\n\u001b[1;32m----> 7\u001b[0m     \u001b[38;5;28;01mreturn\u001b[39;00m \u001b[38;5;28;43mlist\u001b[39;49m\u001b[43m(\u001b[49m\u001b[43mreader\u001b[49m\u001b[43m(\u001b[49m\u001b[38;5;28;43mopen\u001b[39;49m\u001b[43m(\u001b[49m\u001b[43mfile_name\u001b[49m\u001b[43m)\u001b[49m\u001b[43m)\u001b[49m\u001b[43m)\u001b[49m\n",
      "File \u001b[1;32mC:\\Program Files\\WindowsApps\\PythonSoftwareFoundation.Python.3.12_3.12.2288.0_x64__qbz5n2kfra8p0\\Lib\\encodings\\cp1250.py:23\u001b[0m, in \u001b[0;36mIncrementalDecoder.decode\u001b[1;34m(self, input, final)\u001b[0m\n\u001b[0;32m     22\u001b[0m \u001b[38;5;28;01mdef\u001b[39;00m\u001b[38;5;250m \u001b[39m\u001b[38;5;21mdecode\u001b[39m(\u001b[38;5;28mself\u001b[39m, \u001b[38;5;28minput\u001b[39m, final\u001b[38;5;241m=\u001b[39m\u001b[38;5;28;01mFalse\u001b[39;00m):\n\u001b[1;32m---> 23\u001b[0m     \u001b[38;5;28;01mreturn\u001b[39;00m \u001b[43mcodecs\u001b[49m\u001b[38;5;241;43m.\u001b[39;49m\u001b[43mcharmap_decode\u001b[49m\u001b[43m(\u001b[49m\u001b[38;5;28;43minput\u001b[39;49m\u001b[43m,\u001b[49m\u001b[38;5;28;43mself\u001b[39;49m\u001b[38;5;241;43m.\u001b[39;49m\u001b[43merrors\u001b[49m\u001b[43m,\u001b[49m\u001b[43mdecoding_table\u001b[49m\u001b[43m)\u001b[49m[\u001b[38;5;241m0\u001b[39m]\n",
      "\u001b[1;31mUnicodeDecodeError\u001b[0m: 'charmap' codec can't decode byte 0x81 in position 2693: character maps to <undefined>"
     ]
    }
   ],
   "source": [
    "from csv import reader\n",
    "\n",
    "appstore_file_name = \"AppleStore.csv\"\n",
    "playstore_file_name = \"googleplaystore.csv\"\n",
    "\n",
    "def read_dataset(file_name):\n",
    "    return list(reader(open(file_name, encoding='utf-8')))\n",
    "\n",
    "def explore_data(dataset, start, end, rows_and_columns=False):\n",
    "    dataset_slice = dataset[start:end]    \n",
    "    for row in dataset_slice:\n",
    "        print(row)\n",
    "        print('\\n') # adds a new (empty) line after each row\n",
    "\n",
    "    if rows_and_columns:\n",
    "        print('Number of rows:', len(dataset))\n",
    "        print('Number of columns:', len(dataset[0]))\n",
    "\n",
    "appstore_data = read_dataset(appstore_file_name)\n",
    "playstore_data = read_dataset(playstore_file_name)"
   ]
  },
  {
   "cell_type": "markdown",
   "metadata": {},
   "source": [
    "### App store dataset:"
   ]
  },
  {
   "cell_type": "code",
   "execution_count": null,
   "metadata": {},
   "outputs": [],
   "source": [
    "explore_data(appstore_data, 0, 1, True)"
   ]
  },
  {
   "cell_type": "code",
   "execution_count": null,
   "metadata": {},
   "outputs": [],
   "source": [
    "explore_data(appstore_data, 1, 5, False)"
   ]
  },
  {
   "cell_type": "markdown",
   "metadata": {},
   "source": [
    "**Columns which might be useful:**\n",
    "- **id** - App Id\n",
    "- **track_name** - App Name\n",
    "- **price** - Price amount (should be equal to zero)\n",
    "- **rating_count_tot** - User Rating counts (for all version)\n",
    "- **rating_count_ver** - User Rating counts (for current version)\n",
    "- **user_rating**  - Average User Rating value (for all version)\n",
    "- **user_rating_ver** - Average User Rating value (for current version)\n",
    "- **cont_rating** - Content Rating\n",
    "- **prime_genre** - Primary Genre\n",
    "- **sup_devices.num** - Number of supporting devices\n",
    "- **lang.num** - Number of supported languages"
   ]
  },
  {
   "cell_type": "markdown",
   "metadata": {},
   "source": [
    "### Google Play dataset:"
   ]
  },
  {
   "cell_type": "code",
   "execution_count": null,
   "metadata": {},
   "outputs": [],
   "source": [
    "explore_data(playstore_data, 0, 1, True)"
   ]
  },
  {
   "cell_type": "code",
   "execution_count": null,
   "metadata": {
    "scrolled": true
   },
   "outputs": [],
   "source": [
    "explore_data(playstore_data, 1, 5, False)"
   ]
  },
  {
   "cell_type": "markdown",
   "metadata": {},
   "source": [
    "### Columns which similar content in both datasets\n",
    "\n",
    "| Description          | Google Play Dataset Column Name | App Store Dataset Column Name |\n",
    "|----------------------|---------------------------------|-------------------------------|\n",
    "| Application name     | **App**                         | track_name                    |\n",
    "| Rating               | **Rating**                      | **user_rating** - for all versions|\n",
    "|                      |                                 | **user_rating_ver** - for last version |\n",
    "| Reviews              | **Reviews**                     | **rating_count_tot** - for all versions |\n",
    "|                      |                                 | **rating_count_ver** - for last version  |\n",
    "| Application Size     | **Size** - in Megabytes         | **size_bytes** - size in bytes.|\n",
    "| Is this a free app?  | **Type** - choose \"Free\"        | **price** - must be equal to 0 |\n",
    "\n"
   ]
  },
  {
   "cell_type": "markdown",
   "metadata": {},
   "source": [
    "### Data cleaning\n",
    "\n",
    "#### Removal of invalid entries\n",
    "\n",
    "Following [this discussion](https://www.kaggle.com/datasets/lava18/google-play-store-apps/discussion/66015) we remove the row with missing data from the Google Play Data."
   ]
  },
  {
   "cell_type": "code",
   "execution_count": null,
   "metadata": {},
   "outputs": [],
   "source": [
    "cleaned_playstore_data = playstore_data\n",
    "\n",
    "print(cleaned_playstore_data[10473])\n",
    "\n",
    "del cleaned_playstore_data[10473]"
   ]
  },
  {
   "cell_type": "markdown",
   "metadata": {},
   "source": [
    "On the basis of [this discussion](https://www.kaggle.com/datasets/ramamet4/app-store-apple-data-set-10k-apps/discussion?sort=undefined) we do investigate the missing values in the App Store dataset. "
   ]
  },
  {
   "cell_type": "code",
   "execution_count": null,
   "metadata": {},
   "outputs": [],
   "source": [
    "cleaned_appstore_data = appstore_data\n",
    "\n",
    "incorrect_rows: int = 0\n",
    "len_header = len(cleaned_appstore_data[0])    \n",
    "for row in appstore_data[1:]:\n",
    "    if len(row) != len_header:\n",
    "        ++incorrect_rows\n",
    "        \n",
    "print(f\"incorrect_rows: {incorrect_rows}\")"
   ]
  },
  {
   "cell_type": "markdown",
   "metadata": {},
   "source": [
    "We haven't found any rows qualifying for the deletion."
   ]
  },
  {
   "cell_type": "markdown",
   "metadata": {},
   "source": [
    "### Duplicate entries in the Google Play Dataset"
   ]
  },
  {
   "cell_type": "markdown",
   "metadata": {},
   "source": [
    "As the code below shows there are duplicated entries for applications within the Google Play Dataset."
   ]
  },
  {
   "cell_type": "code",
   "execution_count": null,
   "metadata": {},
   "outputs": [],
   "source": [
    "all_app_names = dict()\n",
    "duplicate_app_names = dict()\n",
    "\n",
    "NAME_IDX = 0\n",
    "index = 1\n",
    "\n",
    "def append_to_dict(my_dict, key, index):\n",
    "    all_ids = my_dict.get(key,[])\n",
    "    all_ids.append(index)\n",
    "    my_dict[key] = all_ids\n",
    "    \n",
    "for row in cleaned_playstore_data[1:]:\n",
    "    current_name = row[NAME_IDX]\n",
    "    if current_name in all_app_names:\n",
    "        if current_name not in duplicate_app_names:\n",
    "            append_to_dict(duplicate_app_names, current_name, all_app_names[current_name][0])\n",
    "        append_to_dict(duplicate_app_names, current_name, index)\n",
    "    \n",
    "    append_to_dict(all_app_names, current_name, index)\n",
    "    index+=1\n",
    "    \n",
    "print(f\"Duplicate applications with their indices in the dataset: \\n {duplicate_app_names}\")"
   ]
  },
  {
   "cell_type": "code",
   "execution_count": null,
   "metadata": {},
   "outputs": [],
   "source": [
    "print(f\"Names of the duplicated apps: {duplicate_app_names.keys()}\")"
   ]
  },
  {
   "cell_type": "code",
   "execution_count": null,
   "metadata": {},
   "outputs": [],
   "source": [
    "print(f\"Number of duplicated app names: {len(duplicate_app_names.keys())}\")"
   ]
  },
  {
   "cell_type": "markdown",
   "metadata": {},
   "source": [
    "Some of the duplicate entries differ by the number or reviews - in this example these are: 4604324, 4604483, 4604324"
   ]
  },
  {
   "cell_type": "code",
   "execution_count": null,
   "metadata": {},
   "outputs": [],
   "source": [
    "for idx in duplicate_app_names['Gmail']:\n",
    "    print(cleaned_playstore_data[idx])"
   ]
  },
  {
   "cell_type": "markdown",
   "metadata": {},
   "source": [
    "In other cases the entries are exactly the same:"
   ]
  },
  {
   "cell_type": "code",
   "execution_count": null,
   "metadata": {},
   "outputs": [],
   "source": [
    "for idx in duplicate_app_names['Box']:\n",
    "    print(cleaned_playstore_data[idx])"
   ]
  },
  {
   "cell_type": "markdown",
   "metadata": {},
   "source": [
    "From the duplicates we will always choose the one with the highest number of Reviews as this data should be the most accurate one.\n",
    "\n",
    "From the dataset size we have to remove the number of duplicated entries still taking into consideration one entry for each duplicated application."
   ]
  },
  {
   "cell_type": "markdown",
   "metadata": {},
   "source": [
    "The expected number of rows in the dataset (after removal of duplicates) is:"
   ]
  },
  {
   "cell_type": "code",
   "execution_count": null,
   "metadata": {},
   "outputs": [],
   "source": [
    " n_row_deduplicated_dataset = len(cleaned_playstore_data[1:]) \\\n",
    "   - sum([len(duplicate_app_names[key]) for key in duplicate_app_names]) \\\n",
    "   + len(duplicate_app_names)\n",
    "    \n",
    " print(f\"Number of rows in the deduplicated dataset is: {n_row_deduplicated_dataset}\")"
   ]
  },
  {
   "cell_type": "markdown",
   "metadata": {},
   "source": [
    "In this step we will create dictionary **reviews_max** which will contain the maximal number of reviews for a given application name in the Google Playstore Dataset. We will also verify using the example applications that it is working."
   ]
  },
  {
   "cell_type": "code",
   "execution_count": null,
   "metadata": {
    "scrolled": true
   },
   "outputs": [],
   "source": [
    "reviews_max = {}\n",
    "\n",
    "NAME_IDX = 0\n",
    "REVIEWS_IDX = 3\n",
    "\n",
    "for row in cleaned_playstore_data[1:]:\n",
    "    app_name = row[NAME_IDX]\n",
    "    n_reviews = int(row[REVIEWS_IDX])\n",
    "    if (app_name not in reviews_max) or (reviews_max[app_name] < n_reviews):\n",
    "        reviews_max[app_name] = n_reviews\n",
    "        \n",
    "print(f\"Size of the reviews_max dictionary {len(reviews_max)}\")\n",
    "print(\"\\n--------------------\")\n",
    "print(f\"Max reviews for `Box`   = {reviews_max['Box']}\")\n",
    "print(f\"Max reviews for `Gmail` = {reviews_max['Gmail']}\")"
   ]
  },
  {
   "cell_type": "markdown",
   "metadata": {},
   "source": [
    "In  this step we will create the de-duplicated dataset by choosing the rows with the maximum number of reviews for the given app name. \n",
    "\n",
    "The special care must be taken as there can be **multiple rows with the same maximal number of reviews** (this is the case e.g. for the aforementioned **Box** application)."
   ]
  },
  {
   "cell_type": "code",
   "execution_count": null,
   "metadata": {},
   "outputs": [],
   "source": [
    "cleaned_playstore_data_v2 = [] \n",
    "already_added = set()\n",
    "\n",
    "# the new dataset should contain the header as well\n",
    "cleaned_playstore_data_v2.append(cleaned_playstore_data[0])\n",
    "\n",
    "REVIEWS_ID = 3\n",
    "\n",
    "for row in cleaned_playstore_data[1:]:\n",
    "    current_name = row[NAME_IDX]\n",
    "    current_reviews = int(row[REVIEWS_ID])\n",
    "    if (current_name not in already_added) and (current_reviews == reviews_max[current_name]): \n",
    "        already_added.add(current_name)\n",
    "        cleaned_playstore_data_v2.append(row)\n",
    "\n",
    "print(\"Deduplicated dataset\")\n",
    "print(f\"Number of non-header rows: {len(cleaned_playstore_data_v2) - 1}\")\n",
    "print(\"------------------\")\n",
    "print(\"First 10 rows of the de-duplicated dataset\")\n",
    "print(f\"{cleaned_playstore_data_v2[:10]}\")\n",
    "    "
   ]
  },
  {
   "cell_type": "markdown",
   "metadata": {},
   "source": [
    "### Removal of the non-English applications from both datasets"
   ]
  },
  {
   "cell_type": "markdown",
   "metadata": {},
   "source": [
    "The cleaned Google Playstore dataset contains the applications which names definitely suggest that they are non-English. \n",
    "\n",
    "We do assume that any application which contains at **least 4 characters with the UNICODE value bigger than 127 are non-English** and should be removed from the cleaned version of the dataset."
   ]
  },
  {
   "cell_type": "code",
   "execution_count": null,
   "metadata": {},
   "outputs": [],
   "source": [
    "BOUNDARY_VALUE_ENGLISH_CHARACTERS = 127\n",
    "\n",
    "def is_english_string(name: str) -> bool:\n",
    "    non_english_chars_count: int = 0\n",
    "    for elem in name:\n",
    "        if ord(elem) > BOUNDARY_VALUE_ENGLISH_CHARACTERS:\n",
    "            non_english_chars_count += 1\n",
    "            if non_english_chars_count > 3:\n",
    "                return False\n",
    "    return True\n",
    "\n",
    "print(\"-----\")\n",
    "for name in ['Instagram', '爱奇艺PPS -《欢乐颂2》电视剧热播', 'Docs To Go™ Free Office Suite',\n",
    "             'Instachat 😜']:\n",
    "    print(f\"application_name: {name}, is English name = {is_english_string(name)}\")"
   ]
  },
  {
   "cell_type": "markdown",
   "metadata": {},
   "source": [
    "We use the function defined in the preiouvs step to filter out non-English applications from both dataset. For the sake of clarity and brevity **we DO retain the header rows of both datasets**.\n",
    "\n",
    "Also, please note that we have skipped the v2 version of App Store dataset as it did NOT require any modifications."
   ]
  },
  {
   "cell_type": "code",
   "execution_count": null,
   "metadata": {},
   "outputs": [],
   "source": [
    "#cleaned_playstore_data_v2\n",
    "#cleaned_appstore_data\n",
    "\n",
    "def remove_non_english_entries(dataset: list, idx: int):\n",
    "    result = []\n",
    "    result.append(dataset[0])\n",
    "    \n",
    "    for row in dataset[1:]:\n",
    "        name = row[idx]\n",
    "        if is_english_string(name):\n",
    "            result.append(row)\n",
    "            \n",
    "    return result\n",
    "\n",
    "cleaned_playstore_data_v3 = remove_non_english_entries(cleaned_playstore_data_v2, 0)\n",
    "cleaned_appstore_data_v3 = remove_non_english_entries(cleaned_appstore_data, 1)"
   ]
  },
  {
   "cell_type": "markdown",
   "metadata": {},
   "source": [
    "#### Verifying both datasets shape after removal of non-English applications"
   ]
  },
  {
   "cell_type": "code",
   "execution_count": null,
   "metadata": {},
   "outputs": [],
   "source": [
    "print(\"------------\")\n",
    "print(f\"Number of non-header rows in the Google Playstore dataset: {len(cleaned_playstore_data_v3) - 1}\")\n",
    "print(f\"Number of rows in the App Store dataset: {len(cleaned_appstore_data_v3) - 1}\")\n",
    "print(f\"\\n First three rows of the Google Playstore dataset:\\n\\n {cleaned_playstore_data_v3[:3]}\")\n",
    "print(f\"\\n First three rows of the App Store dataset:\\n\\n {cleaned_appstore_data_v3[:3]}\")"
   ]
  },
  {
   "cell_type": "markdown",
   "metadata": {},
   "source": [
    "### Removal of paid applications"
   ]
  },
  {
   "cell_type": "markdown",
   "metadata": {},
   "source": [
    "From both datasets we are removing paid applications. For the **Google Play Dataset** we execute that by choosing the Type column equal to 'Free'. \n",
    "\n",
    "For **App Store Dataset** we do choose applications with price equal to 0.0 (removing $ sign to convert prices to float smoothly).\n",
    "\n",
    "We did find in the **Google Play Dataset** one row which is inconsistent **('Command & Conquer: Rivals', its type is 'NaN' instead of free, yet its price is '0')**. \n",
    "\n",
    "Comparing the size of the inconsistent data with the size of the dataset we can safely omit it from the further analysis. Another argument for that is the fact that that row seems to contain potentially inconsistent data ('NaN' - not-a-number suggests issues with data cleaning or importing or accidental column skipping)."
   ]
  },
  {
   "cell_type": "code",
   "execution_count": null,
   "metadata": {},
   "outputs": [],
   "source": [
    "TYPE_COLUMN_IDX = 6\n",
    "PRICE_COLUMN_IDX = 4\n",
    "\n",
    "print(f\"\\nGoogle Playstore name of the column identifying free apps = {cleaned_playstore_data_v3[0][TYPE_COLUMN_IDX]}\")\n",
    "print(f\"\\nAppStore name of the column identifying free apps = {cleaned_appstore_data_v3[0][PRICE_COLUMN_IDX]}\")\n",
    "\n",
    "cleaned_playstore_data_v4 = []\n",
    "cleaned_playstore_data_v4.append(cleaned_playstore_data_v3[0])\n",
    "\n",
    "\n",
    "for row in cleaned_playstore_data_v3[1:]:\n",
    "    if row[TYPE_COLUMN_IDX].strip().lower() != \"free\" and row[7] == '0':\n",
    "        print(f\"\\nInconsistent row in Google Playstore data is: \\n{row}\")\n",
    "        \n",
    "    if row[TYPE_COLUMN_IDX].strip().lower() == \"free\":\n",
    "        cleaned_playstore_data_v4.append(row)\n",
    "        \n",
    "cleaned_appstore_data_v4 = []\n",
    "cleaned_appstore_data_v4.append(cleaned_appstore_data_v3[0])\n",
    "\n",
    "\n",
    "for row in cleaned_appstore_data_v3[1:]:\n",
    "    if float(row[PRICE_COLUMN_IDX].strip().replace('$', '')) == 0.0:\n",
    "        cleaned_appstore_data_v4.append(row)"
   ]
  },
  {
   "cell_type": "markdown",
   "metadata": {},
   "source": [
    "We do examine the number of rows remaining in the dataset:"
   ]
  },
  {
   "cell_type": "code",
   "execution_count": null,
   "metadata": {},
   "outputs": [],
   "source": [
    "print(f\"Size of the final version of the Google Play Dataset (without headers) = {len(cleaned_playstore_data_v4)-1}\")\n",
    "print(f\"Size of the final version of the App Store Dataset (without headers) = {len(cleaned_appstore_data_v4)-1}\")"
   ]
  },
  {
   "cell_type": "markdown",
   "metadata": {},
   "source": [
    "### Most common applications by genre\n",
    "\n",
    "The final goal is to place application in both app stores (Google and Apple). Due to the aforementioned facts we are interested in the successfull **application genres** of these markets.\n",
    "\n",
    "Naturally, that information is located in different places in both app stores.\n",
    "\n",
    "In **Google Play Store dataset** the application genre is located in columns: **'Category'** (column index = 1) and **'Genres'** (column index = 9).\n",
    "\n",
    "In **App Store dataset** the application genre is located in column **'prime_genre'** (column index = 11).\n",
    "\n",
    "First, we create the frequency tables for the tree columns of our interest. On top of that we do print those tables sorting them descendently by the frequency value."
   ]
  },
  {
   "cell_type": "code",
   "execution_count": null,
   "metadata": {},
   "outputs": [],
   "source": [
    "def freq_table(dataset, index):\n",
    "    value_count = 0\n",
    "    \n",
    "    result: dict[str, int] = dict()\n",
    "    final_result: dict[str, int] = dict()\n",
    "        \n",
    "    for row in dataset:\n",
    "        value = row[index]\n",
    "        result[value] = result.get(value,0) + 1\n",
    "        value_count += 1\n",
    "        \n",
    "    for key,value in result.items():\n",
    "        final_result[key] = 100.0*float(value)/value_count\n",
    "    \n",
    "    return final_result\n",
    "\n",
    "def display_table(dataset, index):\n",
    "    print(\"---------------\")\n",
    "    print(f\"Values frequencies (in %) for column `{dataset[0][index]}`:\\n\")\n",
    "    table = freq_table(dataset[1:], index)\n",
    "    table_display = []\n",
    "    for key in table:\n",
    "        key_val_as_tuple = (table[key], key)\n",
    "        table_display.append(key_val_as_tuple)\n",
    "\n",
    "    table_sorted = sorted(table_display, reverse = True)\n",
    "    for entry in table_sorted:\n",
    "        print(entry[1], ':', entry[0])\n"
   ]
  },
  {
   "cell_type": "code",
   "execution_count": null,
   "metadata": {},
   "outputs": [],
   "source": [
    "print(\"Google Playstore data\")\n",
    "CATEGORY_IDX = 1\n",
    "display_table(cleaned_playstore_data_v4, CATEGORY_IDX)"
   ]
  },
  {
   "cell_type": "code",
   "execution_count": null,
   "metadata": {},
   "outputs": [],
   "source": [
    "GENRES_IDX = 9\n",
    "display_table(cleaned_playstore_data_v4, GENRES_IDX)"
   ]
  },
  {
   "cell_type": "code",
   "execution_count": null,
   "metadata": {
    "scrolled": true
   },
   "outputs": [],
   "source": [
    "print(\"AppStore data\")\n",
    "PRIME_GENRE_IDX = 11\n",
    "display_table(cleaned_appstore_data_v4, PRIME_GENRE_IDX)"
   ]
  },
  {
   "cell_type": "markdown",
   "metadata": {},
   "source": [
    "Upon further analysis of the **AppStore dataset / column: prime_genre** we can reach the following conclusions:\n",
    "- in the analysed dataset of English-language application most of the persented applications have purely entertainment purpose - the most common category are **\"Games\"** constituting the 58% of presented applications, the 2nd most common category is **\"Entertainment\"** with presence at the level of 7.88%\n",
    "- while the third in the popularity ranking category is **\"Photo & video\"** constituting about 4.97% of the applications, the popularity of the consecutive ranking categories falls below 3%.\n",
    "\n",
    "It is impossible to express on the basis of this any kind of hard recommendation as the application popularity can but does not have to directly translate to the number of its active users.\n",
    "\n",
    "The soft recommendation is to take a deeper look at the **Gams / entertainment** category in the further analysis.\n"
   ]
  },
  {
   "cell_type": "markdown",
   "metadata": {},
   "source": [
    "Analysing the **Google Play Store dataset** columns: **category** and **genres** we can make the following observations:\n",
    "- for the **category** column the most popular classes are **family** (18.9%), **Game** (9.72%) and **Tools** (8.46%)\n",
    "- for the **Genres** column the most popular categories are **Tools** (8.45%), **Entertainment** (6.07%), **Education** (5.34%) and **Business** (4.59%)\n",
    "- the popularity of the categories/genres for the **Google Play Store dataset** seem to be more evenly distributed among categories without any direct leader taking the majority of the market\n",
    "- additionally, the popularity ranking shows more potential inclination towards tooling/professional application usage than purely to the entertainment purposes\n",
    "- similarily to the previous paragraph - recommendation of any of the genres/categories purely on this preliminary frequency analysis is not possible"
   ]
  },
  {
   "cell_type": "markdown",
   "metadata": {},
   "source": [
    "The **popularity of a particular category/genre** is not defined by the number of applications belonging to it but rather the the average number of installations of those applications. \n",
    "\n",
    "For the **App Store** dataset we do not have this data so we have to use the proxy feature - total number of user ratings present **rating_count_tot** column. \n",
    "\n",
    "The popularity rating based on that criterion is generated by the following piece of code:"
   ]
  },
  {
   "cell_type": "code",
   "execution_count": null,
   "metadata": {
    "scrolled": true
   },
   "outputs": [],
   "source": [
    "prime_genre_freq_table = freq_table(cleaned_appstore_data_v4[1:], PRIME_GENRE_IDX)\n",
    "\n",
    "keys = {key for key in prime_genre_freq_table}\n",
    "\n",
    "result_rating = [()] * len(keys)\n",
    "RATING_COUNT_TOTAL_IDX = 5\n",
    "\n",
    "index = 0\n",
    "for genre in prime_genre_freq_table:\n",
    "    total = 0\n",
    "    len_genre = 0\n",
    "    for row in cleaned_appstore_data_v4[1:]:\n",
    "        genre_app = row[PRIME_GENRE_IDX]\n",
    "        if genre_app == genre:\n",
    "            len_genre += 1\n",
    "            total += float(row[RATING_COUNT_TOTAL_IDX])\n",
    "\n",
    "    average_rating_count = total / len_genre\n",
    "    result_rating[index] = (average_rating_count, genre)\n",
    "    index += 1\n",
    "    #print(f\"'{genre}'' ==> {average_rating_count}\")\n",
    "\n",
    "result_rating = sorted(result_rating, reverse=True)\n",
    "\n",
    "print(\"---------\")\n",
    "print(\"Genre popularity ranking in AppStore (sorted by the descending popularity):\\n\")\n",
    "for elem in result_rating:\n",
    "    print(f\"{elem[1]} - {elem[0]}\")\n",
    "        "
   ]
  },
  {
   "cell_type": "markdown",
   "metadata": {},
   "source": [
    "The **proposed criterion** for choosing the categories from the **AppStore** is **their popularity**. The **cut-off level** of **28000 ratings** is assumed following which the focus on the following genres is suggested:\n",
    "1. Navigation\n",
    "2. Reference\n",
    "3. Social Networking\n",
    "4. Music\n",
    "5. Weather\n",
    "6. Book\n",
    "7. Food & dring\n",
    "8. Finance\n",
    "9. Photo & Video\n",
    "10. Travel"
   ]
  },
  {
   "cell_type": "markdown",
   "metadata": {},
   "source": [
    "For the **Google Playstore** we use the **'Installs'** column as the measure of the application **category** popularity. As it\n",
    "contains the approximate buckets for the numbers of installs ( e.g. '1,000+') they are treated as the exact numbers during pre-processing step which includes the removal of '+' and ',' signs. \n",
    "\n",
    "The results are sorted descending by their popularity."
   ]
  },
  {
   "cell_type": "code",
   "execution_count": null,
   "metadata": {},
   "outputs": [],
   "source": [
    "CATEGORY_IDX = 1\n",
    "INSTALLS_IDX = 5\n",
    "categories_table = freq_table(cleaned_playstore_data_v4[1:], CATEGORY_IDX)\n",
    "all_categories = {key for key in categories_table}\n",
    "print({key for key in categories_table})"
   ]
  },
  {
   "cell_type": "code",
   "execution_count": null,
   "metadata": {},
   "outputs": [],
   "source": [
    "def format_installs(installs):\n",
    "    forbidden_chars = {'+',','}\n",
    "    for current in forbidden_chars:\n",
    "        installs = installs.replace(current,'')\n",
    "    return installs\n",
    "\n",
    "final_ranking = [()]*len(all_categories)\n",
    "index = 0\n",
    "for category in all_categories:\n",
    "    total = 0\n",
    "    len_category = 0\n",
    "    for row in cleaned_playstore_data_v4[1:]:\n",
    "        category_app = row[CATEGORY_IDX]\n",
    "        if category == category_app:\n",
    "            installs = float(format_installs(row[INSTALLS_IDX]))\n",
    "            total += installs\n",
    "            len_category += 1\n",
    "\n",
    "    average_installs = total / len_category\n",
    "    final_ranking[index] = (average_installs, category)\n",
    "    index += 1\n",
    "\n",
    "final_ranking = sorted(final_ranking, reverse=True)\n",
    "print(\"--------------------\")\n",
    "for current_tuple in final_ranking:\n",
    "    print(f\"{current_tuple[1]} ==> {current_tuple[0]}\")\n",
    "        \n",
    "        "
   ]
  },
  {
   "cell_type": "markdown",
   "metadata": {},
   "source": [
    "During comparison of the ranking lists for **AppStore** and **Google PlayStore** it might be noticed that the following categories have high rankings on both lists (we take the intersection of the top 10s of both lists):\n",
    "        "
   ]
  },
  {
   "cell_type": "markdown",
   "metadata": {},
   "source": [
    "| AppStore category | corresponding PlayStore  Category  |\n",
    "|-------------------|------------------------------------|\n",
    "| 9. Photo & Video     | 2. VIDEO_PLAYERS                |\n",
    "| 3.Social Networking | 3. SOCIAL |\n",
    "| 9.Photo & Video  | 4. PHOTOGRAPHY |\n",
    "| 10.Travel        | 7. TRAVEL_AND_LOCAL|\n",
    " \n"
   ]
  },
  {
   "cell_type": "markdown",
   "metadata": {},
   "source": [
    "Those four categories constitute the final recommendation."
   ]
  }
 ],
 "metadata": {
  "kernelspec": {
   "display_name": "Python 3 (ipykernel)",
   "language": "python",
   "name": "python3"
  },
  "language_info": {
   "codemirror_mode": {
    "name": "ipython",
    "version": 3
   },
   "file_extension": ".py",
   "mimetype": "text/x-python",
   "name": "python",
   "nbconvert_exporter": "python",
   "pygments_lexer": "ipython3",
   "version": "3.12.8"
  }
 },
 "nbformat": 4,
 "nbformat_minor": 4
}
