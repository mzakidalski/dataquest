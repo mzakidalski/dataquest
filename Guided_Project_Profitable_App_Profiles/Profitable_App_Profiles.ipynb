{
 "cells": [
  {
   "cell_type": "markdown",
   "metadata": {},
   "source": [
    "### Analysis the popularity of the free apps in the markets: Google Play and App Store\n",
    "\n",
    "#### The rationale for this analysis\n",
    "\n",
    "1. The customer of this analysis is a company developing free apps for both Android (Google Play market) and iOS (App Store).\n",
    "2. Applications developed by the client are free - with all income comming from running the in-app advertisements.\n",
    "3. As a result of the previous point the profit on application is directly dependent only on the number of users engaging inside of it with the served advertisements.\n",
    "4. We are also interested only in applications which have support for English language.\n",
    "\n",
    "#### The defined-upfront company's strategy for developping a profitable app is the following:\n",
    "\n",
    "1. Build a minimal Android version of the app, and add it to Google Play.\n",
    "2. If the app has a good response from users, we develop it further.\n",
    "3. If the app is profitable after six months, we build an iOS version of the app and add it to the App Store.\n",
    "\n",
    "#### Used datasets\n",
    "1. [Google Play dataset](https://www.kaggle.com/datasets/lava18/google-play-store-apps)\n",
    "2. [App Store dataset](https://www.kaggle.com/datasets/ramamet4/app-store-apple-data-set-10k-apps)\n",
    "\n",
    "\n",
    "#### The research problem \n",
    "\n",
    "What are the characteristics of the applications attractive many users?"
   ]
  },
  {
   "cell_type": "markdown",
   "metadata": {},
   "source": [
    "### Reading the data\n"
   ]
  },
  {
   "cell_type": "code",
   "execution_count": 1,
   "metadata": {},
   "outputs": [],
   "source": [
    "from csv import reader\n",
    "\n",
    "appstore_file_name = \"AppleStore.csv\"\n",
    "playstore_file_name = \"googleplaystore.csv\"\n",
    "\n",
    "def read_dataset(file_name):\n",
    "    return list(reader(open(file_name, encoding='utf-8')))\n",
    "\n",
    "def explore_data(dataset, start, end, rows_and_columns=False):\n",
    "    dataset_slice = dataset[start:end]    \n",
    "    for row in dataset_slice:\n",
    "        print(row)\n",
    "        print('\\n') # adds a new (empty) line after each row\n",
    "\n",
    "    if rows_and_columns:\n",
    "        print('Number of rows:', len(dataset))\n",
    "        print('Number of columns:', len(dataset[0]))\n",
    "\n",
    "appstore_data = read_dataset(appstore_file_name)\n",
    "playstore_data = read_dataset(playstore_file_name)"
   ]
  },
  {
   "cell_type": "markdown",
   "metadata": {},
   "source": [
    "### App store dataset:"
   ]
  },
  {
   "cell_type": "code",
   "execution_count": 2,
   "metadata": {},
   "outputs": [
    {
     "name": "stdout",
     "output_type": "stream",
     "text": [
      "['id', 'track_name', 'size_bytes', 'currency', 'price', 'rating_count_tot', 'rating_count_ver', 'user_rating', 'user_rating_ver', 'ver', 'cont_rating', 'prime_genre', 'sup_devices.num', 'ipadSc_urls.num', 'lang.num', 'vpp_lic']\n",
      "\n",
      "\n",
      "Number of rows: 7198\n",
      "Number of columns: 16\n"
     ]
    }
   ],
   "source": [
    "explore_data(appstore_data, 0, 1, True)"
   ]
  },
  {
   "cell_type": "code",
   "execution_count": 3,
   "metadata": {},
   "outputs": [
    {
     "name": "stdout",
     "output_type": "stream",
     "text": [
      "['284882215', 'Facebook', '389879808', 'USD', '0.0', '2974676', '212', '3.5', '3.5', '95.0', '4+', 'Social Networking', '37', '1', '29', '1']\n",
      "\n",
      "\n",
      "['389801252', 'Instagram', '113954816', 'USD', '0.0', '2161558', '1289', '4.5', '4.0', '10.23', '12+', 'Photo & Video', '37', '0', '29', '1']\n",
      "\n",
      "\n",
      "['529479190', 'Clash of Clans', '116476928', 'USD', '0.0', '2130805', '579', '4.5', '4.5', '9.24.12', '9+', 'Games', '38', '5', '18', '1']\n",
      "\n",
      "\n",
      "['420009108', 'Temple Run', '65921024', 'USD', '0.0', '1724546', '3842', '4.5', '4.0', '1.6.2', '9+', 'Games', '40', '5', '1', '1']\n",
      "\n",
      "\n"
     ]
    }
   ],
   "source": [
    "explore_data(appstore_data, 1, 5, False)"
   ]
  },
  {
   "cell_type": "markdown",
   "metadata": {},
   "source": [
    "**Columns which might be useful:**\n",
    "- **id** - App Id\n",
    "- **track_name** - App Name\n",
    "- **price** - Price amount (should be equal to zero)\n",
    "- **rating_count_tot** - User Rating counts (for all version)\n",
    "- **rating_count_ver** - User Rating counts (for current version)\n",
    "- **user_rating**  - Average User Rating value (for all version)\n",
    "- **user_rating_ver** - Average User Rating value (for current version)\n",
    "- **cont_rating** - Content Rating\n",
    "- **prime_genre** - Primary Genre\n",
    "- **sup_devices.num** - Number of supporting devices\n",
    "- **lang.num** - Number of supported languages"
   ]
  },
  {
   "cell_type": "markdown",
   "metadata": {},
   "source": [
    "### Google Play dataset:"
   ]
  },
  {
   "cell_type": "code",
   "execution_count": 4,
   "metadata": {},
   "outputs": [
    {
     "name": "stdout",
     "output_type": "stream",
     "text": [
      "['App', 'Category', 'Rating', 'Reviews', 'Size', 'Installs', 'Type', 'Price', 'Content Rating', 'Genres', 'Last Updated', 'Current Ver', 'Android Ver']\n",
      "\n",
      "\n",
      "Number of rows: 10842\n",
      "Number of columns: 13\n"
     ]
    }
   ],
   "source": [
    "explore_data(playstore_data, 0, 1, True)"
   ]
  },
  {
   "cell_type": "code",
   "execution_count": 5,
   "metadata": {
    "scrolled": true
   },
   "outputs": [
    {
     "name": "stdout",
     "output_type": "stream",
     "text": [
      "['Photo Editor & Candy Camera & Grid & ScrapBook', 'ART_AND_DESIGN', '4.1', '159', '19M', '10,000+', 'Free', '0', 'Everyone', 'Art & Design', 'January 7, 2018', '1.0.0', '4.0.3 and up']\n",
      "\n",
      "\n",
      "['Coloring book moana', 'ART_AND_DESIGN', '3.9', '967', '14M', '500,000+', 'Free', '0', 'Everyone', 'Art & Design;Pretend Play', 'January 15, 2018', '2.0.0', '4.0.3 and up']\n",
      "\n",
      "\n",
      "['U Launcher Lite – FREE Live Cool Themes, Hide Apps', 'ART_AND_DESIGN', '4.7', '87510', '8.7M', '5,000,000+', 'Free', '0', 'Everyone', 'Art & Design', 'August 1, 2018', '1.2.4', '4.0.3 and up']\n",
      "\n",
      "\n",
      "['Sketch - Draw & Paint', 'ART_AND_DESIGN', '4.5', '215644', '25M', '50,000,000+', 'Free', '0', 'Teen', 'Art & Design', 'June 8, 2018', 'Varies with device', '4.2 and up']\n",
      "\n",
      "\n"
     ]
    }
   ],
   "source": [
    "explore_data(playstore_data, 1, 5, False)"
   ]
  },
  {
   "cell_type": "markdown",
   "metadata": {},
   "source": [
    "### Columns which similar content in both datasets\n",
    "\n",
    "| Description          | Google Play Dataset Column Name | App Store Dataset Column Name |\n",
    "|----------------------|---------------------------------|-------------------------------|\n",
    "| Application name     | **App**                         | track_name                    |\n",
    "| Rating               | **Rating**                      | **user_rating** - for all versions|\n",
    "|                      |                                 | **user_rating_ver** - for last version |\n",
    "| Reviews              | **Reviews**                     | **rating_count_tot** - for all versions |\n",
    "|                      |                                 | **rating_count_ver** - for last version  |\n",
    "| Application Size     | **Size** - in Megabytes         | **size_bytes** - size in bytes.|\n",
    "| Is this a free app?  | **Type** - choose \"Free\"        | **price** - must be equal to 0 |\n",
    "\n"
   ]
  },
  {
   "cell_type": "markdown",
   "metadata": {},
   "source": [
    "### Data cleaning\n",
    "\n",
    "#### Removal of invalid entries\n",
    "\n",
    "Following [this discussion](https://www.kaggle.com/datasets/lava18/google-play-store-apps/discussion/66015) we remove the row with missing data from the Google Play Data."
   ]
  },
  {
   "cell_type": "code",
   "execution_count": 6,
   "metadata": {},
   "outputs": [
    {
     "name": "stdout",
     "output_type": "stream",
     "text": [
      "['Life Made WI-Fi Touchscreen Photo Frame', '1.9', '19', '3.0M', '1,000+', 'Free', '0', 'Everyone', '', 'February 11, 2018', '1.0.19', '4.0 and up']\n"
     ]
    }
   ],
   "source": [
    "cleaned_playstore_data = playstore_data\n",
    "\n",
    "print(cleaned_playstore_data[10473])\n",
    "\n",
    "del cleaned_playstore_data[10473]"
   ]
  },
  {
   "cell_type": "markdown",
   "metadata": {},
   "source": [
    "On the basis of [this discussion](https://www.kaggle.com/datasets/ramamet4/app-store-apple-data-set-10k-apps/discussion?sort=undefined) we do investigate the missing values in the App Store dataset. "
   ]
  },
  {
   "cell_type": "code",
   "execution_count": 7,
   "metadata": {},
   "outputs": [
    {
     "name": "stdout",
     "output_type": "stream",
     "text": [
      "incorrect_rows: 0\n"
     ]
    }
   ],
   "source": [
    "cleaned_appstore_data = appstore_data\n",
    "\n",
    "incorrect_rows: int = 0\n",
    "len_header = len(cleaned_appstore_data[0])    \n",
    "for row in appstore_data[1:]:\n",
    "    if len(row) != len_header:\n",
    "        ++incorrect_rows\n",
    "        \n",
    "print(f\"incorrect_rows: {incorrect_rows}\")"
   ]
  },
  {
   "cell_type": "markdown",
   "metadata": {},
   "source": [
    "We haven't found any rows qualifying for the deletion."
   ]
  },
  {
   "cell_type": "markdown",
   "metadata": {},
   "source": [
    "### Duplicate entries in the Google Play Dataset"
   ]
  },
  {
   "cell_type": "markdown",
   "metadata": {},
   "source": [
    "As the code below shows there are duplicated entries for applications within the Google Play Dataset."
   ]
  },
  {
   "cell_type": "code",
   "execution_count": 8,
   "metadata": {},
   "outputs": [
    {
     "name": "stdout",
     "output_type": "stream",
     "text": [
      "Duplicate applications with their indices in the dataset: \n",
      " {'Quick PDF Scanner + OCR FREE': [223, 230, 286], 'Box': [205, 237, 266], 'Google My Business': [194, 240, 269], 'ZOOM Cloud Meetings': [214, 257], 'join.me - Simple Meetings': [254, 262, 283], 'Zenefits': [238, 267], 'Google Ads': [239, 268, 4980], 'Slack': [241, 270, 295], 'FreshBooks Classic': [242, 271], 'Insightly CRM': [243, 272], 'QuickBooks Accounting: Invoicing & Expenses': [244, 273, 297], 'HipChat - Chat Built for Teams': [245, 274], 'Xero Accounting Software': [246, 275], 'MailChimp - Email, Marketing Automation': [247, 276], 'Crew - Free Messaging and Scheduling': [248, 277], 'Asana: organize team projects': [249, 278], 'Google Analytics': [250, 279], 'AdWords Express': [251, 280], 'Accounting App - Zoho Books': [252, 281], 'Invoice & Time Tracking - Zoho': [253, 282], 'Invoice 2go — Professional Invoices and Estimates': [255, 284], 'SignEasy | Sign and Fill PDF and other Documents': [229, 285], 'Genius Scan - PDF Scanner': [231, 287], 'Tiny Scanner - PDF Scanner App': [232, 288], 'Fast Scanner : Free PDF Scan': [233, 289], 'Mobile Doc Scanner (MDScan) Lite': [234, 290], 'TurboScan: scan documents and receipts in PDF': [235, 291], 'Tiny Scanner Pro: PDF Doc Scan': [236, 292], 'Docs To Go™ Free Office Suite': [193, 293], 'OfficeSuite : Free Office + PDF Editor': [195, 294], 'WhatsApp Messenger': [337, 382, 3905], 'Messenger – Text and Video Chat for Free': [336, 383, 4105], 'imo free video calls and chat': [348, 384, 466, 4223], 'Viber Messenger': [343, 386, 432, 468, 4677], 'Hangouts': [342, 387, 465, 4154], 'WeChat': [366, 391, 470, 4713], 'Telegram': [371, 393, 4593], 'Who': [364, 394], 'Google Voice': [360, 395, 5595], 'Android Messages': [370, 397], 'Firefox Focus: The privacy browser': [359, 409, 10720], 'Google Allo': [402, 411, 5610], 'Google Chrome: Fast & Secure': [339, 412, 3997], 'Firefox Browser fast & private': [345, 413, 4075], 'Puffin Web Browser': [373, 415, 5506], 'Opera Browser: Fast and Secure': [357, 416, 4423], 'Opera Mini - fast web browser': [352, 418, 4422], 'UC Browser Mini -Tiny Fast Private & Secure': [367, 420, 4634], 'UC Browser - Fast Download Private & Secure': [379, 421, 3972], 'Calls & Text by Mo+': [389, 431], 'Call Blocker': [207, 437], 'Gmail': [341, 452, 4097], 'Yahoo Mail – Stay Organized': [346, 453, 4801], 'free video calls and chat': [390, 467, 4225], 'Skype - free IM & video calls': [392, 469, 4235], 'Glide - Video Chat Messenger': [400, 473], 'Talkray - Free Calls & Texts': [403, 474], 'LINE: Free Calls & Messages': [404, 475, 4123], 'KakaoTalk: Free Calls & Text': [408, 476, 4303], 'OkCupid Dating': [484, 543, 6303], 'CMB Free Dating App': [491, 544], 'Hily: Dating, Chat, Match, Meet & Hook up': [486, 545, 665], 'Hinge: Dating & Relationships': [487, 546], 'BBW Dating & Plus Size Chat': [489, 548, 675], 'Casual Dating & Adult Singles - Joyride': [488, 549], 'EliteSingles – Dating for Single Professionals': [521, 550], 'Clover Dating App': [496, 551], 'Moco - Chat, Meet People': [490, 552, 6287], 'Hot or Not - Find someone right now': [492, 554, 6289], 'Just She - Top Lesbian Dating': [519, 555, 664], 'Once - Quality Matches Every day': [504, 557], 'Sudy – Meet Elite & Rich Single': [517, 558], 'muzmatch: Muslim & Arab Singles, Marriage & Dating': [526, 559, 674], 'Chispa, the Dating App for Latino, Latina Singles': [495, 561], 'Blendr - Chat, Flirt & Meet': [501, 562], 'Find Real Love — YouLove Premium Dating': [503, 563], 'Cougar Dating Life : Date Older Women Sugar Mummy': [506, 565], 'stranger chat - anonymous chat': [500, 566], 'Millionaire Match: Rich Singles Dating App': [522, 567], 'Dating for 50 plus Mature Singles – FINALLY': [516, 569], 'Moco+ - Chat, Meet People': [477, 572], 'Chat Rooms, Avatars, Date - Galaxy': [533, 575], 'FastMeet: Chat, Dating, Love': [512, 576], 'Christian Dating For Free App': [518, 577], 'Meet24 - Love, Chat, Singles': [536, 580], 'Black White Interracial Dating - Interracial Match': [540, 581], 'Gay Sugar Daddy Dating & Hookup – Sudy Gay': [535, 587], 'Adult Dirty Emojis': [529, 589, 682], 'Hide App, Private Dating, Safe Chat - PrivacyHider': [525, 591], 'Meet4U - Chat, Love, Singles!': [531, 597], '95Live -SG#1 Live Streaming App': [560, 663], 'O-Star': [604, 666, 4442], 'Random Video Chat': [611, 667], 'Black People Meet Singles Date': [497, 668], 'Howlr': [507, 669], 'Free Dating & Flirt Chat - Choice of Love': [509, 671], 'Cardi B Live Stream Video Chat - Prank': [606, 672], 'Chat Kids - Chat Room For Kids': [609, 673], 'Transenger – Ts Dating and Chat for Free': [603, 677], 'BBW Dating & Curvy Singles Chat- LargeFriends': [590, 678], 'MouseMingle': [612, 679], 'FlirtChat - ♥Free Dating/Flirting App♥': [542, 680], 'Live Talk - Free Text and Video Chat': [608, 681], 'Free Cam Girls - Live Webcam': [605, 683], 'Random Video Chat App With Strangers': [614, 684], 'Live Girls Talk - Free Video Chat': [607, 686], 'Girls Live Chat - Free Text & Video Chat': [610, 688], 'Free Dating App - Meet Local Singles - Flirt Chat': [530, 691], 'iPair-Meet, Chat, Dating': [601, 696], 'Free Dating Hook Up Messenger': [502, 697], 'Free Dating App - YoCutie - Flirt, Chat & Meet': [513, 698], 'Khan Academy': [703, 739, 783], 'TED': [701, 740, 784, 6295], 'Lumosity: #1 Brain Games & Cognitive Training App': [735, 747], 'Udemy - Online Courses': [742, 758, 788], 'Duolingo: Learn Languages Free': [700, 785, 800, 827, 2057, 2217, 8440], 'Quizlet: Learn Languages & Vocab with Flashcards': [741, 786, 820, 846], 'Coursera: Online courses': [743, 787], 'Udacity - Lifelong Learning': [757, 789], 'edX - Online Courses by Harvard, MIT & more': [744, 790], 'Lynda - Online Training Videos': [750, 793], 'Learn languages, grammar & vocabulary with Memrise': [738, 794, 807, 833], 'Brilliant': [751, 795], 'Babbel – Learn Languages': [718, 797, 834, 8298], 'Rosetta Stone: Learn to Speak & Read New Languages': [791, 802, 832, 848], 'Learn English with Wlingua': [704, 808], 'Google Classroom': [792, 825, 843], 'Learn 50 languages': [801, 829], 'Mango Languages: Lovable Language Courses': [804, 831], 'busuu: Learn Languages - Spanish, English & More': [809, 836, 847, 9636], 'My Class Schedule: Timetable': [810, 837], 'Socratic - Math Answers & Homework Help': [767, 841], 'ClassDojo': [826, 844, 4090], 'HelloTalk — Chat, Speak & Learn Foreign Languages': [830, 845], 'Movies by Flixster, with Rotten Tomatoes': [884, 899, 969], 'IMDb Movies & TV': [889, 904, 931], 'Netflix': [856, 905, 932, 959, 3890], 'Tubi TV - Free Movies & TV': [859, 933, 960], 'Crunchyroll - Everything Anime': [911, 934, 963], 'STARZ': [915, 935, 965], 'Crackle - Free TV & Movies': [913, 936, 962], 'CBS - Full Episodes & Live TV': [914, 937], 'Nick': [918, 938, 964, 993, 2227, 6087], 'Hulu: Stream TV, Movies & more': [924, 939, 966, 8030], 'FOX NOW - On Demand & Live TV': [920, 940, 968], 'The CW': [922, 941, 973, 7988], 'HISTORY: Watch TV Show Full Episodes & Specials': [917, 944, 971], 'HBO NOW: Stream TV & Movies': [925, 945, 976, 9827], 'A&E - Watch Full Episodes of TV Shows': [921, 947, 978, 4992], 'VH1': [919, 948, 979], 'Lifetime - Watch Full Episodes & Original Movies': [928, 951, 982], 'BET NOW - Watch Shows': [923, 952, 984], 'Food Network': [906, 967, 10019], 'Viki: Asian TV Dramas & Movies': [879, 972, 989], 'Univision NOW - Live TV and On Demand': [926, 975], 'SHOWTIME': [927, 980], 'MTV': [950, 981], 'Comedy Central': [930, 983], 'FOX': [957, 985], 'Telemundo Now': [958, 986], 'Fandango Movies - Times + Tickets': [900, 994], 'Google Pay': [1084, 1097, 1164, 5602], 'Wells Fargo Daily Change': [1092, 1101], 'Credit Karma': [1075, 1115, 7456], 'Robinhood - Investing, No Fees': [1091, 1137], 'Digit Save Money Automatically': [1094, 1143], 'Acorns - Invest Spare Change': [1096, 1144], 'Money Lover: Expense Tracker, Budget Planner': [1098, 1149], 'Mint: Budget, Bills, Finance': [1118, 1150, 6305], 'Simple - Better Banking': [1104, 1156], 'PayPal': [1077, 1157], 'Wells Fargo Mobile': [1074, 1169], 'Capital One® Mobile': [1078, 1170], 'Grubhub: Food Delivery': [1194, 1240], 'Postmates Food Delivery: Order Eats & Alcohol': [1234, 1242], \"Domino's Pizza USA\": [1200, 1243], 'Chick-fil-A': [1196, 1250, 3927], 'Zomato - Restaurant Finder and Food Delivery App': [1238, 1256], 'Run with Map My Run': [1299, 1309, 1384], 'Weight Loss Running by Verv': [1300, 1319, 1373], 'Nike+ Run Club': [1282, 1320, 1374, 1390], 'Runtastic Running App & Mile Tracker': [1278, 1324, 1392], '8fit Workouts & Meal Planner': [1297, 1325], 'Daily Yoga - Yoga Fitness Plans': [1327, 1347, 1446], 'Pocket Yoga': [1328, 1348], 'Calorie Counter - MyFitnessPal': [1287, 1363, 1387, 1405, 1422], 'Seven - 7 Minute Workout Training Challenge': [1326, 1375], 'Weight Watchers Mobile': [1289, 1380, 1417], 'Walk with Map My Walk': [1274, 1381], 'Workout Trainer: fitness coach': [1306, 1382], 'Nike Training Club - Workouts & Fitness Plans': [1313, 1385, 9855], 'Fitbit Coach': [1314, 1386], 'Endomondo - Running & Walking': [1290, 1388], 'Runkeeper - GPS Track Run Walk': [1293, 1389], 'Lose It! - Calorie Counter': [1391, 1406, 1423], 'Calorie Counter - MyNetDiary': [1393, 1407], '10 Best Foods for You': [1394, 1408], 'MyPlate Calorie Tracker': [1395, 1410], 'Weight Loss Tracker - RecStyle': [1399, 1411], 'Calorie Counter by FatSecret': [1398, 1412], 'Calorie Counter - Macros': [1397, 1414], 'My Diet Diary Calorie Counter': [1396, 1415], 'Lark - 24/7 Health Coach': [1400, 1416], 'Calorie Counter & Diet Tracker': [1403, 1418], 'MealLogger-Photo Food Journal': [1401, 1419], 'Health and Nutrition Guide': [1402, 1420], 'Food Calorie Calculator': [1404, 1421], 'Relax Meditation: Sleep with Sleep Sounds': [1329, 1425], 'Meditation Music - Relax, Yoga': [1335, 1431], '21-Day Meditation Experience': [1338, 1435], 'Fabulous: Motivate Me! Meditate, Relax, Sleep': [1307, 1437], 'Calm - Meditate, Sleep, Relax': [1341, 1439], 'Relax Melodies: Sleep Sounds': [1343, 1442], 'Simple Habit Meditation': [1344, 1444], 'Headspace: Meditation & Mindfulness': [1345, 1445], 'Houzz Interior Design Ideas': [1457, 1497, 1513, 5538], 'Mortgage by Zillow: Calculator & Rates': [1474, 1503], 'Redfin Real Estate': [1467, 1504], 'Apartment List: Housing, Apt, and Property Rentals': [1461, 1505], 'Realtor.com Real Estate: Homes for Sale and Rent': [1450, 1506], 'Trulia Real Estate & Rentals': [1455, 1507], 'Zillow: Find Houses for Sale & Apartments for Rent': [1447, 1508], 'Apartments & Rentals - Zillow': [1449, 1510], 'Trulia Rent Apartments & Homes': [1466, 1511], 'Apartments.com Rental Search': [1480, 1512], 'Vaniday - Beauty Booking App': [1604, 1612], 'StyleSeat': [1607, 1617], 'JOANN - Crafts & Coupons': [1602, 1622], 'Fashion in Vogue': [1605, 1627, 1633], 'Wheretoget: Shop in style': [1623, 1629], 'My Dressing - Fashion closet': [1624, 1630], 'Chictopia': [1625, 1631], 'Scarf Fashion Designer': [1626, 1632], 'Zara': [1628, 1634], 'Subway Surfers': [1655, 1701, 1751, 1873, 1918, 3897], 'ROBLOX': [1654, 1702, 1749, 1842, 1871, 2017, 2089, 2207, 4528], 'Pou': [1663, 1703, 1886, 3880], '8 Ball Pool': [1676, 1704, 1756, 1845, 1872, 1971, 3954], 'Clash of Clans': [1671, 1705, 1880, 3987], 'Candy Crush Saga': [1656, 1706, 1752, 1843, 1870, 1967, 3995], 'Plants vs. Zombies FREE': [1667, 1707, 1882, 1968, 4056], 'My Talking Angela': [1698, 1711, 1891, 3911], 'Bubble Shooter': [1658, 1712, 1876, 1973, 2042, 3895], 'Word Search': [1679, 1716, 1883, 2011], 'Candy Crush Soda Saga': [1669, 1717, 1874], 'Fishdom': [1684, 1718, 1896], 'Block Puzzle': [1665, 1720, 1884, 1969], 'Clash Royale': [1661, 1722, 1879, 3988], 'Sniper 3D Gun Shooter: Free Shooting Games - FPS': [1700, 1724, 1757, 1911, 1926, 4052], 'Granny': [1680, 1725, 1755, 1902, 4149], 'Galaxy Attack: Alien Shooter': [1685, 1726, 1897], 'Angry Birds Rio': [1666, 1727, 1985, 4870], 'Zombie Catchers': [1694, 1728, 1899, 1925, 1983, 4245], 'Zombie Hunter King': [1670, 1729, 1875, 1949], 'Temple Run 2': [1662, 1730, 1760, 1887, 1921, 4042], 'Zombie Tsunami': [1686, 1731, 1915, 2009, 3941], 'Farm Heroes Saga': [1696, 1734, 1881, 2012, 10187], 'Super Jim Jump - pixel 3d': [1675, 1735, 1885], 'slither.io': [1660, 1736, 1758, 1892, 1922, 4228], 'Angry Birds Classic': [1681, 1741, 1906, 1991, 3884], 'Flow Free': [1682, 1745, 1888, 1982, 3931], 'Helix Jump': [1664, 1750, 1793, 1919, 1970, 4183], 'Toon Blast': [1709, 1753, 1877], 'Kick the Buddy': [1672, 1761, 1930, 6846], 'Magic Tiles 3': [1677, 1762, 1900, 2001], 'Bowmasters': [1721, 1763, 1908, 1923, 2000, 6078], 'Wordscapes': [1715, 1766, 1798, 1890], 'Block Craft 3D: Building Simulator Games For Free': [1747, 1779, 3953], 'PUBG MOBILE': [1786, 1795, 1848, 4146], 'DRAGON BALL LEGENDS': [1807, 1841, 1936, 8203], 'Harry Potter: Hogwarts Mystery': [1804, 1847], 'MARVEL Strike Force': [1802, 1850, 8269], 'Merge Dragons!': [1817, 1856], 'Honkai Impact 3rd': [1830, 1866], 'Toy Blast': [1713, 1878], 'Homescapes': [1809, 1889], 'Cooking Fever': [1708, 1893], 'Gardenscapes': [1691, 1895], 'Score! Hero': [1710, 1898, 2005], 'Dream League Soccer 2018': [1740, 1903, 4057], 'Fruits Bomb': [1742, 1905], 'Talking Tom Gold Run': [1738, 1907, 1924, 4322], 'My Talking Tom': [1723, 1909, 3889], 'Hill Climb Racing': [1690, 1910, 1978, 4018], 'Pixel Art: Color by Number Game': [1739, 1912, 2004], 'Rider': [1733, 1914], 'Garena Free Fire': [1719, 1916, 1950, 10328], 'Miraculous Ladybug & Cat Noir - The Official Game': [1714, 1929, 9360], 'Solitaire': [1657, 1974, 2025], 'Traffic Racer': [1743, 1977], 'Earn to Die 2': [1928, 1979], 'Bubble Shooter 2': [1687, 1980], 'Candy Crush Jelly Saga': [1689, 1986], 'Cut the Rope FULL FREE': [1699, 1987, 4258], 'Jewels Star: OZ adventure': [1901, 1988], 'Hungry Shark Evolution': [1759, 1989, 3974], 'Best Fiends - Free Puzzle Game': [1851, 1992], 'Hill Climb Racing 2': [1744, 1993], 'Swamp Attack': [1927, 1997], 'Block Puzzle Classic Legend !': [1673, 2002], 'DEAD TARGET: FPS Zombie Apocalypse Survival Games': [1937, 2010], 'YouTube Kids': [860, 2015, 2209, 3912], 'Candy Bomb': [1981, 2016], 'Princess Coloring Book': [706, 2026], 'Hello Kitty Nail Salon': [1659, 2027], 'Dog Run - Pet Dog Simulator': [2014, 2030, 2092], 'Coloring book moana': [2, 2034], 'Barbie™ Fashion Closet': [1688, 2046], 'Minion Rush: Despicable Me Official Game': [1695, 2051, 2091, 4037], 'No.Draw - Colors by Number 2018': [882, 2055], 'Super ABC! Learning games for kids! Preschool apps': [2021, 2066], 'PJ Masks: Moonlight Heroes': [2039, 2090, 9441], 'Hot Wheels: Race Off': [2058, 2094], 'Farming Simulator 14': [2053, 2096], 'Mcqueen Coloring pages': [24, 2112], 'Monster Truck Driver & Racing': [720, 2114], 'Strawberry Shortcake BerryRush': [1944, 2116, 2134], 'DC Super Hero Girls™': [1959, 2125, 2133, 8251], 'Toca Kitchen 2': [2038, 2128, 3921], 'Disney Magic Kingdoms: Build Your Own Magical Park': [2119, 2136], 'Toca Life: City': [854, 2152], 'Papumba Academy - Fun Learning For Kids': [2065, 2185, 2198], 'Kids Balloon Pop Game Free 🎈': [2181, 2194], 'Sounds for Toddlers FREE': [2182, 2195], 'Elmo Calls by Sesame Street': [2183, 2196, 7031], 'Sago Mini Friends': [2184, 2197, 2233], 'Tee and Mo Bath Time Free': [2186, 2199], 'Bita and the Animals - Pelos Ares': [2187, 2200], 'TO-FU Oh!SUSHI': [2188, 2201], 'DreamWorks Friends': [2189, 2202], 'Avokiddo Emotions': [2190, 2203], 'Nighty Night Circus': [2191, 2204], 'Sago Mini Babies': [2192, 2205], \"Dr. Panda & Toto's Treehouse\": [2193, 2206, 8786], 'PlayKids - Educational cartoons and games for kids': [956, 2208], 'Baby Panda Care': [2035, 2212], 'Monster High™': [2137, 2215], 'Shopkins World!': [2141, 2220], 'DisneyNOW – TV Shows & Games': [2064, 2221, 7614], 'Equestria Girls': [2124, 2223, 9315], 'Frozen Free Fall': [2139, 2226, 9681], 'Thomas & Friends: Race On!': [2073, 2228], 'Inside Out Thought Bubbles': [2135, 2230], 'School of Dragons': [2081, 2235], 'Peak – Brain Games & Training': [748, 2241], 'Period Tracker': [1358, 2345], 'Vargo Anesthesia Mega App': [2254, 2366], 'Monash Uni Low FODMAP Diet': [2244, 2367], 'mySugr: the blood sugar tracker made just for you': [2332, 2368, 6195], 'Human Anatomy Atlas 2018: Complete 3D Human Body': [2252, 2373, 9575], 'ASCCP Mobile': [2247, 2379], 'Paramedic Protocol Provider': [2249, 2381], '2017 EMRA Antibiotic Guide': [2257, 2386], 'Essential Anatomy 3': [2253, 2387], 'EMT PASS': [2267, 2388], 'Block Buddy': [2262, 2390], 'EMT Review Plus': [2255, 2396], 'Journal Club: Medicine': [2248, 2399], 'Pedi STAT': [2246, 2400], 'AnatomyMapp': [2273, 2401], 'Diabetes & Diet Tracker': [2260, 2402], 'A Manual of Acupuncture': [2302, 2403], 'PTA Content Master': [2299, 2407], 'Muscle Premium - Human Anatomy, Kinesiology, Bones': [2278, 2408], 'Cardiac diagnosis (heart rate, arrhythmia)': [2270, 2410, 5045], 'Medical ID - In Case of Emergency (ICE)': [2251, 2417], 'IBM Micromedex Drug Info': [2259, 2419], 'Advanced Comprehension Therapy': [2281, 2420], 'Hospitalist Handbook': [2298, 2421], 'Teladoc Member': [2309, 2487], 'Ada - Your Health Guide': [2331, 2489], 'Ovia Fertility Tracker & Ovulation Calculator': [2317, 2490], 'Youper - AI Therapy': [2321, 2494, 5190], 'MoodSpace': [2340, 2495], 'Super Hearing Super Ear Amplifier': [2348, 2496], 'Penn State Health OnDemand': [2431, 2499], 'ScriptSave WellRx Rx Discounts': [2337, 2500], 'Free Blood Pressure': [2357, 2503, 6599], 'All Mental disorders': [2335, 2506], 'Nurse Grid': [2362, 2508], 'JH Blood Pressure Monitor': [2427, 2513], 'Blood Pressure': [2311, 2514, 6586], 'RT 516 VET': [2434, 2517], 'Anthem Anywhere': [2318, 2518], 'Sway Medical': [2428, 2519], \"fred's Pharmacy\": [2330, 2522], 'Breastfeeding Tracker Baby Log': [2432, 2530], 'Banfield Pet Health Tracker': [2360, 2538], '1800 Contacts - Lens Store': [2323, 2544], 'TextNow - free text + calls': [2554, 2588], 'Tumblr': [2549, 2600, 4587], 'Snapchat': [2551, 2604, 2611, 3871], 'Instagram': [2546, 2605, 2612, 3910], 'Periscope - Live Video': [2579, 2609, 8348], 'Pinterest': [2553, 2613, 4089], 'MeetMe: Chat & Meet New People': [2594, 2618, 2631, 2644, 6294], 'ooVoo Video Calls, Messaging & Stories': [2596, 2619], 'LinkedIn': [2583, 2622], 'Tango - Live Video Broadcast': [2593, 2624], 'SayHi Chat, Meet New People': [2597, 2625, 2651], 'Tapatalk - 100,000+ Forums': [2599, 2626], 'Badoo - Free Chat & Dating App': [2589, 2628, 2648, 6547], 'Nextdoor - Local neighborhood news & classifieds': [2614, 2629], 'Meetup': [2586, 2635, 2642, 2654], 'Text Free: WiFi Calling App': [2587, 2636, 4239], 'textPlus: Free Text & Calls': [2591, 2638], 'POF Free Dating App': [2630, 2643, 4233], 'Tagged - Meet, Chat & Dating': [2595, 2645], 'LOVOO': [2632, 2646], 'SKOUT - Meet, Chat, Go Live': [2615, 2647], 'Jaumo Dating, Flirt & Live Video': [2633, 2649], 'Couple - Relationship App': [2627, 2653], 'Wish - Shopping Made Fun': [2656, 2713, 2750, 2797, 4103], 'SnipSnap Coupon App': [2706, 2724], 'Extreme Coupon Finder': [2705, 2725, 2738], 'Checkout 51: Grocery coupons': [2707, 2726, 2740], 'The Coupons App': [2711, 2727, 2748, 4091], 'RetailMeNot - Coupons, Deals & Discount Shopping': [2716, 2732, 2768], 'Groupon - Shop Deals, Discounts & Coupons': [2717, 2733, 2784, 9843], 'Stocard - Rewards Cards Wallet': [2719, 2735], 'eBay: Buy & Sell this Summer - Discover Deals Now!': [2663, 2739, 2775, 2785, 4069], 'Gyft - Mobile Gift Card Wallet': [2709, 2744, 2778], 'Shopkick: Free Gift Cards, Shop Rewards & Deals': [2712, 2746], 'Shopular: Coupons, Weekly Ads & Shopping Deals': [2728, 2749], 'Carousell: Snap-Sell, Chat-Buy': [2686, 2751], 'Walmart': [2662, 2753], 'Ibotta: Cash Back Savings, Rewards & Coupons App': [2715, 2756], 'AliExpress - Smarter Shopping, Better Living': [2661, 2757, 2791, 4100], 'LivingSocial - Local Deals': [2729, 2758, 2780], 'Amazon Shopping': [2665, 2764, 3923], 'Poshmark - Buy & Sell Fashion': [2721, 2770], 'Target - now with Cartwheel': [2698, 2771, 2795], 'ZALORA Fashion Shopping': [2690, 2774], 'Fancy': [2743, 2776, 2798], \"Modcloth – Unique Indie Women's Fashion & Style\": [2742, 2777], \"JackThreads: Men's Shopping\": [2755, 2779, 2790], 'Zappos – Shoe shopping made simple': [2761, 2781], 'Wanelo Shopping': [2767, 2782], 'Etsy: Handmade & Vintage Goods': [2769, 2783], 'Slickdeals: Coupons & Shopping': [2766, 2794, 10753], 'ASOS': [2772, 2801], 'Google Photos': [2809, 2854, 2885, 5396], 'Shutterfly: Free Prints, Photo Books, Cards, Gifts': [2803, 2858, 2889, 2956], 'InstaBeauty -Makeup Selfie Cam': [2826, 2859], 'B612 - Beauty & Filter Camera': [2817, 2860, 3947], 'BeautyPlus - Easy Photo Editor & Selfie Camera': [2836, 2863, 2938, 2958, 6055], 'YouCam Perfect - Selfie Photo Editor': [2850, 2868, 2946], 'Muzy - Share photos & collages': [2855, 2886], 'QuickPic - Photo Gallery with Google Drive Support': [2856, 2887, 7573], 'Flickr': [2857, 2888], 'Open Camera': [2851, 2899, 5063], 'Camera for Android': [2861, 2900, 2926], 'Cymera Camera- Photo Editor, Filter,Collage,Layout': [2866, 2905, 2936, 8083], 'Candy Camera - selfie, beauty camera, photo editor': [2873, 2910, 2945], 'Camera360: Selfie Photo Editor with Funny Sticker': [2879, 2912, 2950], 'Facetune - For Free': [2884, 2913, 2951], 'Photo Editor Selfie Camera Filter & Mirror Image': [2862, 2917], 'HD Camera for Android': [2896, 2920], 'Photo Editor Pro': [2898, 2922], 'YouCam Makeup - Magic Selfie Makeovers': [2834, 2923], 'Photo Editor-': [2865, 2925], 'Photo Editor': [2874, 2934], 'Adobe Photoshop Express:Photo Editor Collage Maker': [2815, 2937], 'InstaSize Photo Filters & Collage Editor': [2871, 2942], 'CBS Sports App - Scores, News, Stats & Watch Live': [2977, 3008, 3016, 3021, 3057, 3065, 3091, 9595], 'Yahoo Fantasy Sports - #1 Rated Fantasy App': [2976, 3010, 3043, 3072, 9604], 'ESPN': [2960, 3011, 3019, 3049, 3061, 3073, 4070], 'NFL': [2964, 3012, 3075], 'Bleacher Report: sports news, scores, & highlights': [2992, 3013, 3051, 3062, 3081, 6674], 'ESPN Fantasy Sports': [2987, 3014, 3046, 10189], 'theScore: Live Sports Scores, News, Stats & Videos': [2965, 3015, 3056, 3064, 3086], 'MLB At Bat': [2963, 3020, 3063, 3082, 5621], 'WatchESPN': [3017, 3023, 3068, 3095], 'Hole19: Golf GPS App, Rangefinder & Scorecard': [3009, 3038], 'CBS Sports Fantasy': [3018, 3048], 'Yahoo Sports - scores, stats, news, & highlights': [3059, 3067, 3092], 'FotMob - Live Soccer Scores': [2975, 3070], 'US Open Tennis Championships 2018': [3050, 3080], 'FIFA - Tournaments, Soccer News & Live Scores': [2968, 3083], 'Golfshot: Golf GPS + Tee Times': [3034, 3089], 'BBC Sport': [2981, 3090], 'MLB Ballpark': [3006, 3096], 'FOX Sports: Live Streaming, Scores & News': [3069, 3098], 'Fantasy Football': [3047, 3099], 'PGA TOUR': [3041, 3100], 'UFC': [3025, 3101], 'trivago: Hotels & Travel': [3104, 3119, 3203], 'Expedia Hotels, Flights & Car Rental Travel Deals': [3103, 3130, 3176, 3204], 'TripAdvisor Hotels Flights Restaurants Attractions': [3116, 3137, 3171, 3215, 4745], 'Skyscanner': [3110, 3149, 3193, 3208, 3222], 'Booking.com Travel Deals': [3113, 3157, 3212], 'Priceline Hotel Deals, Rental Cars & Flights': [3155, 3174, 3201], 'United Airlines': [3161, 3175], 'Southwest Airlines': [3124, 3180], 'Hopper - Watch & Book Flights': [3105, 3184], 'Fly Delta': [3148, 3186], 'KAYAK Flights, Hotels & Cars': [3109, 3188, 3206], 'American Airlines': [3159, 3189, 5953], 'Orbitz - Hotels, Flights & Package Deals': [3192, 3207], 'Hotels.com: Book Hotel Rooms & Find Vacation Deals': [3112, 3211], 'Hostelworld: Hostels & Cheap Hotels Travel App': [3114, 3214], 'Airbnb': [3117, 3216], 'HotelTonight: Book amazing deals at great hotels': [3213, 3223, 5624], 'Maps - Navigate & Explore': [3118, 3224, 4099], 'Google Street View': [3128, 3233], 'Calculator': [478, 3243], 'Gboard - the Google Keyboard': [3266, 3327, 4148], 'ZEDGE™ Ringtones & Wallpapers': [3355, 3399, 3425, 4032], 'Nova Launcher': [3353, 3436], 'Apex Launcher': [3379, 3437, 8668], 'Smart Launcher 5': [3373, 3438], 'Google Keep': [3468, 3508, 3546, 8637], 'Evernote – Organizer, Planner for Notes & Memos': [3483, 3511, 3548, 4085], 'ES File Explorer File Manager': [3470, 3515, 4073], 'Microsoft Word': [3451, 3523, 3935], 'Google Drive': [3455, 3524, 3566, 4171], 'Adobe Acrobat Reader': [3453, 3525, 3896], 'Google PDF Viewer': [3459, 3526, 8321], 'Microsoft Excel': [3460, 3528], 'Google Docs': [3478, 3529, 8629], 'Microsoft PowerPoint': [3487, 3531], 'Microsoft OneNote': [3466, 3533, 3551], 'Google Calendar': [3477, 3534, 3563], 'Wunderlist: To-Do List & Tasks': [3503, 3547, 8644], 'Any.do: To-do list, Calendar, Reminders & Planner': [3509, 3549, 8631], 'Todoist: To-do lists for task management & errands': [3505, 3550, 8641], 'Planner Pro-Personal Organizer': [3504, 3557], 'Microsoft OneDrive': [3464, 3568], 'Dropbox': [3474, 3570, 4049], 'MX Player': [3704, 3712, 4366], 'Video Editor': [2239, 3713, 5775], 'Google News': [3737, 3766, 3817, 9845], 'Flipboard: News For Our Time': [3756, 3768, 3820], 'BBC News': [3720, 3781, 3801], 'Fox News – Breaking News, Live Video & News Alerts': [3716, 3786, 3803], 'USA TODAY': [3773, 3791, 3808], 'CNN Breaking US & World News': [3725, 3793, 3812], 'Twitter': [3740, 3797, 4116], 'NPR News': [3783, 3802], 'Haystack TV: Local & World News - Free': [3787, 3805], 'ABC News - US & World News': [3788, 3807], 'NBC News': [3789, 3809], 'The Wall Street Journal: Business & Market News': [3775, 3810], 'NYTimes - Latest News': [3778, 3815, 5545], 'Newsroom: News Worth Sharing': [3796, 3816], 'BuzzFeed: News, Tasty, Quizzes': [3767, 3819], 'Flashlight': [3293, 3872], 'Agar.io': [1948, 3881], 'LEGO® Juniors Create & Cruise': [2105, 3903], 'Google Translate': [3236, 3908], 'Pokémon GO': [1765, 3909], 'PAC-MAN': [1674, 3914], 'Colorfy: Coloring Book for Adults - Free': [1004, 3916], 'YouTube': [3666, 3929], \"Alto's Adventure\": [1934, 3937], 'Facebook': [2545, 3944], 'VPN Free - Betternet Hotspot VPN & Private Browser': [3326, 3957], 'EMT Tutor NREMT-B Study Guide': [2297, 3966], 'EMT-B Pocket Prep': [2372, 3971], 'Diary with lock': [1575, 3977], 'C Programming': [756, 3989], 'CppDroid - C/C++ IDE': [752, 3990], 'Learn C++': [759, 4000], 'Google Duo - High Quality Video Calls': [372, 4040], 'Crossy Road': [1920, 4041], 'E*TRADE Mobile': [1136, 4076], 'WWE': [946, 4077], 'Amazon Kindle': [144, 4084], 'Microsoft Edge': [381, 4087], 'Microsoft Outlook': [3458, 4088], 'Ebook Reader': [165, 4096], 'Flipkart Online Shopping App': [2699, 4102], 'Facebook Lite': [2547, 4106], 'Messenger Lite: Free Calls & Messages': [340, 4107], 'imo beta free calls and text': [347, 4124], 'Geometry Dash World': [1697, 4142], 'Google+': [2555, 4145], 'Google': [3235, 4151], 'G Cloud Backup': [3567, 4161], 'H&M': [1584, 4186], 'H TV': [871, 4201], 'Talking Ben the Dog': [894, 4212], 'Sonic Dash': [1668, 4236], 'Talkatone: Free Texts, Calls & Phone Number': [388, 4240], 'Textgram - write on photos': [43, 4242], 'Jetpack Joyride': [2008, 4250], 'Anger of stick 5 : zombie': [1939, 4253], 'Turbo FAST': [2120, 4262], 'K PLUS': [1049, 4288], 'PowerDirector Video Editor App: 4K, Slow Mo & More': [3702, 4301], 'Fuzzy Numbers: Pre-K Number Foundation': [853, 4302], 'LiveMe - Video chat, new friends, and make money': [2566, 4321], 'letgo: Buy & Sell Used Stuff, Cars & Real Estate': [2664, 4323], 'Love Balls': [1754, 4326], 'Last Day on Earth: Survival': [1801, 4328], 'Minecraft': [2242, 4348], 'MEGA': [3496, 4356], 'I’m Expecting - Pregnancy App': [1351, 4369], 'Diabetes:M': [2375, 4375], 'PicsArt Photo Studio: Collage Maker & Pic Editor': [2939, 4449], 'Quora': [2580, 4502], 'SHAREit - Transfer & Share': [3256, 4567], 'Topbuzz: Breaking News, Videos & Funny GIFs': [3739, 4589], 'Twitch: Livestream Multiplayer Games & Esports': [890, 4590], 'myAT&T': [3493, 4594], 'Truecaller: Caller ID, SMS spam blocking & Dialer': [450, 4603], 'Showtime Anytime': [955, 4611], 'Uber': [3828, 4635], 'VLC for Android': [3676, 4682], 'Vigo Video': [3687, 4687], 'Wattpad 📖 Free Books': [140, 4716], 'Waze - GPS, Maps, Traffic Alerts & Live Navigation': [3821, 4718], 'Dating App, Flirt & Chat : W-Match': [2640, 4719], 'WPS Office - Word, Docs, PDF, Note, Slide & Sheet': [3532, 4721], 'LINE WEBTOON - Free Comics': [298, 4725], 'WhatsApp Business': [368, 4728], 'We Heart It': [2617, 4743], 'Telegram X': [2559, 4748], 'Share Music & Transfer Files - Xender': [3273, 4749], 'Yandex Browser with Protect': [3383, 4794], 'YouTube Studio': [3685, 4797], 'PBS KIDS Video': [715, 4805], 'YouTube Gaming': [892, 4806], 'GO Keyboard - Emoticon keyboard, Free Theme, GIF': [3447, 4810], 'Zello PTT Walkie Talkie': [2637, 4822], 'Z Camera - Photo Editor, Beauty Selfie, Collage': [2943, 4825], 'Six Pack in 30 Days - Abs Workout': [1261, 4855], 'Angry Birds 2': [1844, 4865], 'AC - Tips & News for Android™': [3800, 4929], 'CM Browser - Ad Blocker , Fast Download , Privacy': [414, 4950], 'Mobi Calculator free & AD free!': [3303, 4988], 'Flipp - Weekly Shopping': [2669, 4990], 'Camera FV-5 Lite': [2891, 5043], 'All Football - Latest News & Videos': [2983, 5076], 'Maricopa AH': [2437, 5148], 'Animal Jam - Play Wild!': [2238, 5224], 'RULES OF SURVIVAL': [1819, 5295], 'Amazon for Tablets': [2655, 5354], 'Final Fantasy XV: A New Empire': [1827, 5382], 'The Sims™ FreePlay': [1849, 5385], 'Text free - Free Text + Call': [2590, 5393], '365Scores - Live Scores': [3084, 5416], 'DINO HUNTER: DEADLY SHORES': [1943, 5434], 'AP Mobile - Breaking News': [3792, 5449], 'Reuters News': [3784, 5475], 'AccuWeather: Daily Forecast & Live Weather Reports': [3629, 5513], 'Moovit: Bus Time & Train Time Live Info': [3866, 5517], 'Jurassic World™ Alive': [1853, 5532], 'Overstock – Home Decor, Furniture Shopping': [2773, 5546], 'Choices: Stories You Play': [1854, 5596], 'Runtastic Sleep Better: Sleep Cycle & Smart Alarm': [1440, 5601], 'Ringtone Maker': [3401, 5607], 'Plants vs. Zombies™ Heroes': [2110, 5611], 'CM FILE MANAGER HD': [3514, 5612], 'realestate.com.au - Buy, Rent & Sell Property': [1469, 5665], 'Video Player All Format': [3672, 5705], 'DEER HUNTER 2018': [1935, 5729], 'Google Play Games': [866, 5857], 'ai.type Free Emoji Keyboard': [3446, 5864], 'Manga AZ - Manga Comic Reader': [326, 5906], 'British Airways': [3179, 5911], 'Anthem BC Anywhere': [2488, 5959], 'Transit: Real-Time Transit App': [3826, 5965], 'PMHNP-BC Pocket Prep': [2411, 5990], 'Backgrounds HD (Wallpapers)': [3426, 6204], 'Blur Image Background': [2882, 6213], 'Newegg Mobile': [2792, 6252], 'English Dictionary - Offline': [187, 6297], 'English Grammar Test': [708, 6306], 'Daily Manga - Comic & Webtoon': [313, 6412], 'BBM - Free Calls & Messages': [407, 6450], 'BeyondMenu Food Delivery': [1245, 6451], 'NOOK: Read eBooks & Magazines': [147, 6498], 'NOOK App for NOOK Devices': [163, 6510], 'HBO GO: Stream with TV Package': [954, 6563], 'No Crop & Square for Instagram': [2918, 6578], 'Hungry Shark World': [1931, 6580], 'iBP Blood Pressure': [2245, 6585], 'Blood Pressure Log - MyDiary': [2324, 6588], 'Blood Pressure(BP) Diary': [2511, 6591], 'BP Journal - Blood Pressure Diary': [2528, 6594], 'Blood Pressure Monitor': [2526, 6595], 'Blood Pressure Companion': [2276, 6596], 'High Blood Pressure Symptoms': [2509, 6627], 'QR Scanner & Barcode Scanner 2018': [3456, 6644], 'Camera FV-5': [2914, 6653], 'Camera MX - Free Photo & Video Camera': [2906, 6655], 'Cardboard': [1536, 6680], 'Maps & GPS Navigation — OsmAnd': [3870, 6883], 'Beautiful Widgets Pro': [3404, 6912], 'Beautiful Widgets Free': [3405, 6915], 'HD Widgets': [3406, 6920], 'Color by Number – New Coloring Book': [1772, 6990], 'Photo Editor by Aviary': [2931, 7004], 'UNICORN - Color By Number & Pixel Art Coloring': [37, 7028], '420 BZ Budeze Delivery': [2523, 7036], 'BZWBK24 mobile': [1076, 7056], 'Zoosk Dating App: Meet Singles': [483, 7078], 'Cricbuzz - Live Cricket Scores & News': [3085, 7107], 'Cheapflights – Flight Search': [3190, 7241], 'Chrome Beta': [3457, 7330], 'Chrome Dev': [361, 7354], 'CJmall': [2676, 7447], 'Castle Clash: Heroes of the Empire US': [1791, 7502], 'CM Launcher 3D - Theme, Wallpapers, Efficient': [3361, 7538], 'CM Locker - Security Lockscreen': [3344, 7540], 'CM Flashlight (Compass, SOS)': [3294, 7545], 'Ruler': [1487, 7571], 'Cartoon Network App': [3703, 7583], 'LEGO® TV': [953, 7607], 'Brit + Co': [1619, 7629], 'CT Scan Cross Sectional Anatomy': [2464, 7886], 'Shadow Fight 2': [1933, 7938], 'Curriculum vitae App CV Builder Free Resume Maker': [198, 7940], 'CW Seed': [942, 7989], 'Camera360 Lite - Selfie Camera': [2829, 8127], 'Mapy.cz - Cycling & Hiking offline maps': [3827, 8139], 'Face Filter, Selfie Editor - Sweet Camera': [2812, 8175], 'Metal Soldiers 2': [1961, 8188], \"COOKING MAMA Let's Cook!\": [2219, 8194], 'Run Sausage Run!': [1789, 8195], 'Knife Hit': [1746, 8196], 'DC Comics': [316, 8247], 'MARVEL Contest of Champions': [1852, 8262], 'wetter.com - Weather and Radar': [3653, 8292], 'CallApp: Caller ID, Blocker & Phone Call Recorder': [441, 8306], 'LINE Camera - Photo editor': [2870, 8308], 'Racing in Car 2': [2013, 8310], 'Dungeon Hunter Champions: Epic Online Action RPG': [1869, 8413], 'Red Bull TV: Live Sports, Music & Entertainment': [895, 8425], 'Idle Heroes': [1864, 8434], 'Free phone calls, free texting SMS on free number': [2592, 8441], 'Phone Tracker : Family Locator': [2577, 8443], 'My Photo Keyboard': [2838, 8447], 'Whoscall - Caller ID & Block': [442, 8451], 'Google Sheets': [3527, 8459], 'Video Downloader': [3668, 8536], 'Notepad & To do list': [3544, 8633], 'Polaris Office - Word, Docs, Sheets, Slide, PDF': [3530, 8636], 'Do It Later: Tasks & To-Dos': [3491, 8640], 'To-Do Calendar Planner': [3555, 8643], 'TickTick: To Do List with Reminder, Day Planner': [3500, 8655], 'ColorNote Notepad Notes': [3536, 8659], 'Dude Perfect 2': [1932, 8671], 'Dairy Queen': [1210, 8715], 'SONIC Drive-In': [1207, 8726], \"McDonald's\": [1177, 8728], 'Wendy’s – Food and Offers': [1218, 8745], \"Dunkin' Donuts\": [1190, 8747], 'SUBWAY®': [1208, 8748], 'Panera Bread': [1195, 8752], 'Starbucks': [1198, 8755], 'Cache Cleaner-DU Speed Booster (booster & cleaner)': [3240, 8895], 'DU Browser—Browse fast & fun': [425, 8902], 'Real Racing 3': [2240, 9144], 'My Little Pony Celebration': [2232, 9344], 'My Little Pony: Harmony Quest': [2121, 9362], 'The Emirates App': [3187, 9495], 'Phogy, 3D Camera': [2877, 9530], 'Weather by eltiempo.es': [3663, 9569], 'The Game of Life': [1832, 9570], 'Spanish English Translator': [158, 9571], \"Game for KIDS: KIDS match'em\": [727, 9590], 'Dictionary - Merriam-Webster': [146, 9622], 'Edmodo': [821, 9629], 'Chess Free': [2157, 9642], 'Oxford Dictionary of English : Free': [156, 9643], 'Masha and the Bear Child Games': [2149, 9672], 'Episode - Choose Your Story': [1787, 9690], 'The NBC App - Watch Live TV and Full Episodes': [943, 9780], 'Moto File Manager': [3234, 9822], 'Moneycontrol – Stocks, Sensex, Mutual Funds, IPO': [1147, 9840], 'CNBC: Breaking Business News & Live Market Data': [1133, 9841], 'Google Earth': [3122, 9842], 'Amino: Communities and Chats': [2572, 9854], 'Hangouts Dialer - Call Phones': [385, 9857], 'Offline Maps & Navigation': [3121, 9860], 'Strawberry Shortcake Ice Cream Island': [2060, 9937], 'Home Workout - No Equipment': [1257, 9976], 'Home Security Camera WardenCam - reuse old phones': [1475, 9983], 'Web Browser for Android': [424, 10027], 'Airway Ex - Intubate. Anesthetize. Train.': [2520, 10050], 'FilterGrid - Cam&Photo Editor': [2924, 10119], 'Messages, Text and Video Chat for Messenger': [2548, 10171], 'All Social Networks': [2550, 10172], 'Premier League - Official App': [2984, 10179], 'Fallout Shelter': [1846, 10191], 'Facebook Pages Manager': [202, 10201], 'Facebook Ads Manager': [216, 10204], 'Who Viewed My Facebook Profile - Stalkers Visitors': [2562, 10214], 'The 5th Stand': [3001, 10270], 'osmino Wi-Fi: free WiFi': [3335, 10473], 'Fun Kid Racing - Motocross': [2210, 10502], 'Podcast App: Free & Offline Podcasts by Player FM': [3761, 10646], 'Motorola FM Radio': [3671, 10647], 'FarmersOnly Dating': [515, 10715], 'FP Notebook': [2380, 10730], 'AAFP': [2516, 10768]}\n"
     ]
    }
   ],
   "source": [
    "all_app_names = dict()\n",
    "duplicate_app_names = dict()\n",
    "\n",
    "NAME_IDX = 0\n",
    "index = 1\n",
    "\n",
    "def append_to_dict(my_dict, key, index):\n",
    "    all_ids = my_dict.get(key,[])\n",
    "    all_ids.append(index)\n",
    "    my_dict[key] = all_ids\n",
    "    \n",
    "for row in cleaned_playstore_data[1:]:\n",
    "    current_name = row[NAME_IDX]\n",
    "    if current_name in all_app_names:\n",
    "        if current_name not in duplicate_app_names:\n",
    "            append_to_dict(duplicate_app_names, current_name, all_app_names[current_name][0])\n",
    "        append_to_dict(duplicate_app_names, current_name, index)\n",
    "    \n",
    "    append_to_dict(all_app_names, current_name, index)\n",
    "    index+=1\n",
    "    \n",
    "print(f\"Duplicate applications with their indices in the dataset: \\n {duplicate_app_names}\")"
   ]
  },
  {
   "cell_type": "code",
   "execution_count": 9,
   "metadata": {},
   "outputs": [
    {
     "name": "stdout",
     "output_type": "stream",
     "text": [
      "Names of the duplicated apps: dict_keys(['Quick PDF Scanner + OCR FREE', 'Box', 'Google My Business', 'ZOOM Cloud Meetings', 'join.me - Simple Meetings', 'Zenefits', 'Google Ads', 'Slack', 'FreshBooks Classic', 'Insightly CRM', 'QuickBooks Accounting: Invoicing & Expenses', 'HipChat - Chat Built for Teams', 'Xero Accounting Software', 'MailChimp - Email, Marketing Automation', 'Crew - Free Messaging and Scheduling', 'Asana: organize team projects', 'Google Analytics', 'AdWords Express', 'Accounting App - Zoho Books', 'Invoice & Time Tracking - Zoho', 'Invoice 2go — Professional Invoices and Estimates', 'SignEasy | Sign and Fill PDF and other Documents', 'Genius Scan - PDF Scanner', 'Tiny Scanner - PDF Scanner App', 'Fast Scanner : Free PDF Scan', 'Mobile Doc Scanner (MDScan) Lite', 'TurboScan: scan documents and receipts in PDF', 'Tiny Scanner Pro: PDF Doc Scan', 'Docs To Go™ Free Office Suite', 'OfficeSuite : Free Office + PDF Editor', 'WhatsApp Messenger', 'Messenger – Text and Video Chat for Free', 'imo free video calls and chat', 'Viber Messenger', 'Hangouts', 'WeChat', 'Telegram', 'Who', 'Google Voice', 'Android Messages', 'Firefox Focus: The privacy browser', 'Google Allo', 'Google Chrome: Fast & Secure', 'Firefox Browser fast & private', 'Puffin Web Browser', 'Opera Browser: Fast and Secure', 'Opera Mini - fast web browser', 'UC Browser Mini -Tiny Fast Private & Secure', 'UC Browser - Fast Download Private & Secure', 'Calls & Text by Mo+', 'Call Blocker', 'Gmail', 'Yahoo Mail – Stay Organized', 'free video calls and chat', 'Skype - free IM & video calls', 'Glide - Video Chat Messenger', 'Talkray - Free Calls & Texts', 'LINE: Free Calls & Messages', 'KakaoTalk: Free Calls & Text', 'OkCupid Dating', 'CMB Free Dating App', 'Hily: Dating, Chat, Match, Meet & Hook up', 'Hinge: Dating & Relationships', 'BBW Dating & Plus Size Chat', 'Casual Dating & Adult Singles - Joyride', 'EliteSingles – Dating for Single Professionals', 'Clover Dating App', 'Moco - Chat, Meet People', 'Hot or Not - Find someone right now', 'Just She - Top Lesbian Dating', 'Once - Quality Matches Every day', 'Sudy – Meet Elite & Rich Single', 'muzmatch: Muslim & Arab Singles, Marriage & Dating', 'Chispa, the Dating App for Latino, Latina Singles', 'Blendr - Chat, Flirt & Meet', 'Find Real Love — YouLove Premium Dating', 'Cougar Dating Life : Date Older Women Sugar Mummy', 'stranger chat - anonymous chat', 'Millionaire Match: Rich Singles Dating App', 'Dating for 50 plus Mature Singles – FINALLY', 'Moco+ - Chat, Meet People', 'Chat Rooms, Avatars, Date - Galaxy', 'FastMeet: Chat, Dating, Love', 'Christian Dating For Free App', 'Meet24 - Love, Chat, Singles', 'Black White Interracial Dating - Interracial Match', 'Gay Sugar Daddy Dating & Hookup – Sudy Gay', 'Adult Dirty Emojis', 'Hide App, Private Dating, Safe Chat - PrivacyHider', 'Meet4U - Chat, Love, Singles!', '95Live -SG#1 Live Streaming App', 'O-Star', 'Random Video Chat', 'Black People Meet Singles Date', 'Howlr', 'Free Dating & Flirt Chat - Choice of Love', 'Cardi B Live Stream Video Chat - Prank', 'Chat Kids - Chat Room For Kids', 'Transenger – Ts Dating and Chat for Free', 'BBW Dating & Curvy Singles Chat- LargeFriends', 'MouseMingle', 'FlirtChat - ♥Free Dating/Flirting App♥', 'Live Talk - Free Text and Video Chat', 'Free Cam Girls - Live Webcam', 'Random Video Chat App With Strangers', 'Live Girls Talk - Free Video Chat', 'Girls Live Chat - Free Text & Video Chat', 'Free Dating App - Meet Local Singles - Flirt Chat', 'iPair-Meet, Chat, Dating', 'Free Dating Hook Up Messenger', 'Free Dating App - YoCutie - Flirt, Chat & Meet', 'Khan Academy', 'TED', 'Lumosity: #1 Brain Games & Cognitive Training App', 'Udemy - Online Courses', 'Duolingo: Learn Languages Free', 'Quizlet: Learn Languages & Vocab with Flashcards', 'Coursera: Online courses', 'Udacity - Lifelong Learning', 'edX - Online Courses by Harvard, MIT & more', 'Lynda - Online Training Videos', 'Learn languages, grammar & vocabulary with Memrise', 'Brilliant', 'Babbel – Learn Languages', 'Rosetta Stone: Learn to Speak & Read New Languages', 'Learn English with Wlingua', 'Google Classroom', 'Learn 50 languages', 'Mango Languages: Lovable Language Courses', 'busuu: Learn Languages - Spanish, English & More', 'My Class Schedule: Timetable', 'Socratic - Math Answers & Homework Help', 'ClassDojo', 'HelloTalk — Chat, Speak & Learn Foreign Languages', 'Movies by Flixster, with Rotten Tomatoes', 'IMDb Movies & TV', 'Netflix', 'Tubi TV - Free Movies & TV', 'Crunchyroll - Everything Anime', 'STARZ', 'Crackle - Free TV & Movies', 'CBS - Full Episodes & Live TV', 'Nick', 'Hulu: Stream TV, Movies & more', 'FOX NOW - On Demand & Live TV', 'The CW', 'HISTORY: Watch TV Show Full Episodes & Specials', 'HBO NOW: Stream TV & Movies', 'A&E - Watch Full Episodes of TV Shows', 'VH1', 'Lifetime - Watch Full Episodes & Original Movies', 'BET NOW - Watch Shows', 'Food Network', 'Viki: Asian TV Dramas & Movies', 'Univision NOW - Live TV and On Demand', 'SHOWTIME', 'MTV', 'Comedy Central', 'FOX', 'Telemundo Now', 'Fandango Movies - Times + Tickets', 'Google Pay', 'Wells Fargo Daily Change', 'Credit Karma', 'Robinhood - Investing, No Fees', 'Digit Save Money Automatically', 'Acorns - Invest Spare Change', 'Money Lover: Expense Tracker, Budget Planner', 'Mint: Budget, Bills, Finance', 'Simple - Better Banking', 'PayPal', 'Wells Fargo Mobile', 'Capital One® Mobile', 'Grubhub: Food Delivery', 'Postmates Food Delivery: Order Eats & Alcohol', \"Domino's Pizza USA\", 'Chick-fil-A', 'Zomato - Restaurant Finder and Food Delivery App', 'Run with Map My Run', 'Weight Loss Running by Verv', 'Nike+ Run Club', 'Runtastic Running App & Mile Tracker', '8fit Workouts & Meal Planner', 'Daily Yoga - Yoga Fitness Plans', 'Pocket Yoga', 'Calorie Counter - MyFitnessPal', 'Seven - 7 Minute Workout Training Challenge', 'Weight Watchers Mobile', 'Walk with Map My Walk', 'Workout Trainer: fitness coach', 'Nike Training Club - Workouts & Fitness Plans', 'Fitbit Coach', 'Endomondo - Running & Walking', 'Runkeeper - GPS Track Run Walk', 'Lose It! - Calorie Counter', 'Calorie Counter - MyNetDiary', '10 Best Foods for You', 'MyPlate Calorie Tracker', 'Weight Loss Tracker - RecStyle', 'Calorie Counter by FatSecret', 'Calorie Counter - Macros', 'My Diet Diary Calorie Counter', 'Lark - 24/7 Health Coach', 'Calorie Counter & Diet Tracker', 'MealLogger-Photo Food Journal', 'Health and Nutrition Guide', 'Food Calorie Calculator', 'Relax Meditation: Sleep with Sleep Sounds', 'Meditation Music - Relax, Yoga', '21-Day Meditation Experience', 'Fabulous: Motivate Me! Meditate, Relax, Sleep', 'Calm - Meditate, Sleep, Relax', 'Relax Melodies: Sleep Sounds', 'Simple Habit Meditation', 'Headspace: Meditation & Mindfulness', 'Houzz Interior Design Ideas', 'Mortgage by Zillow: Calculator & Rates', 'Redfin Real Estate', 'Apartment List: Housing, Apt, and Property Rentals', 'Realtor.com Real Estate: Homes for Sale and Rent', 'Trulia Real Estate & Rentals', 'Zillow: Find Houses for Sale & Apartments for Rent', 'Apartments & Rentals - Zillow', 'Trulia Rent Apartments & Homes', 'Apartments.com Rental Search', 'Vaniday - Beauty Booking App', 'StyleSeat', 'JOANN - Crafts & Coupons', 'Fashion in Vogue', 'Wheretoget: Shop in style', 'My Dressing - Fashion closet', 'Chictopia', 'Scarf Fashion Designer', 'Zara', 'Subway Surfers', 'ROBLOX', 'Pou', '8 Ball Pool', 'Clash of Clans', 'Candy Crush Saga', 'Plants vs. Zombies FREE', 'My Talking Angela', 'Bubble Shooter', 'Word Search', 'Candy Crush Soda Saga', 'Fishdom', 'Block Puzzle', 'Clash Royale', 'Sniper 3D Gun Shooter: Free Shooting Games - FPS', 'Granny', 'Galaxy Attack: Alien Shooter', 'Angry Birds Rio', 'Zombie Catchers', 'Zombie Hunter King', 'Temple Run 2', 'Zombie Tsunami', 'Farm Heroes Saga', 'Super Jim Jump - pixel 3d', 'slither.io', 'Angry Birds Classic', 'Flow Free', 'Helix Jump', 'Toon Blast', 'Kick the Buddy', 'Magic Tiles 3', 'Bowmasters', 'Wordscapes', 'Block Craft 3D: Building Simulator Games For Free', 'PUBG MOBILE', 'DRAGON BALL LEGENDS', 'Harry Potter: Hogwarts Mystery', 'MARVEL Strike Force', 'Merge Dragons!', 'Honkai Impact 3rd', 'Toy Blast', 'Homescapes', 'Cooking Fever', 'Gardenscapes', 'Score! Hero', 'Dream League Soccer 2018', 'Fruits Bomb', 'Talking Tom Gold Run', 'My Talking Tom', 'Hill Climb Racing', 'Pixel Art: Color by Number Game', 'Rider', 'Garena Free Fire', 'Miraculous Ladybug & Cat Noir - The Official Game', 'Solitaire', 'Traffic Racer', 'Earn to Die 2', 'Bubble Shooter 2', 'Candy Crush Jelly Saga', 'Cut the Rope FULL FREE', 'Jewels Star: OZ adventure', 'Hungry Shark Evolution', 'Best Fiends - Free Puzzle Game', 'Hill Climb Racing 2', 'Swamp Attack', 'Block Puzzle Classic Legend !', 'DEAD TARGET: FPS Zombie Apocalypse Survival Games', 'YouTube Kids', 'Candy Bomb', 'Princess Coloring Book', 'Hello Kitty Nail Salon', 'Dog Run - Pet Dog Simulator', 'Coloring book moana', 'Barbie™ Fashion Closet', 'Minion Rush: Despicable Me Official Game', 'No.Draw - Colors by Number 2018', 'Super ABC! Learning games for kids! Preschool apps', 'PJ Masks: Moonlight Heroes', 'Hot Wheels: Race Off', 'Farming Simulator 14', 'Mcqueen Coloring pages', 'Monster Truck Driver & Racing', 'Strawberry Shortcake BerryRush', 'DC Super Hero Girls™', 'Toca Kitchen 2', 'Disney Magic Kingdoms: Build Your Own Magical Park', 'Toca Life: City', 'Papumba Academy - Fun Learning For Kids', 'Kids Balloon Pop Game Free 🎈', 'Sounds for Toddlers FREE', 'Elmo Calls by Sesame Street', 'Sago Mini Friends', 'Tee and Mo Bath Time Free', 'Bita and the Animals - Pelos Ares', 'TO-FU Oh!SUSHI', 'DreamWorks Friends', 'Avokiddo Emotions', 'Nighty Night Circus', 'Sago Mini Babies', \"Dr. Panda & Toto's Treehouse\", 'PlayKids - Educational cartoons and games for kids', 'Baby Panda Care', 'Monster High™', 'Shopkins World!', 'DisneyNOW – TV Shows & Games', 'Equestria Girls', 'Frozen Free Fall', 'Thomas & Friends: Race On!', 'Inside Out Thought Bubbles', 'School of Dragons', 'Peak – Brain Games & Training', 'Period Tracker', 'Vargo Anesthesia Mega App', 'Monash Uni Low FODMAP Diet', 'mySugr: the blood sugar tracker made just for you', 'Human Anatomy Atlas 2018: Complete 3D Human Body', 'ASCCP Mobile', 'Paramedic Protocol Provider', '2017 EMRA Antibiotic Guide', 'Essential Anatomy 3', 'EMT PASS', 'Block Buddy', 'EMT Review Plus', 'Journal Club: Medicine', 'Pedi STAT', 'AnatomyMapp', 'Diabetes & Diet Tracker', 'A Manual of Acupuncture', 'PTA Content Master', 'Muscle Premium - Human Anatomy, Kinesiology, Bones', 'Cardiac diagnosis (heart rate, arrhythmia)', 'Medical ID - In Case of Emergency (ICE)', 'IBM Micromedex Drug Info', 'Advanced Comprehension Therapy', 'Hospitalist Handbook', 'Teladoc Member', 'Ada - Your Health Guide', 'Ovia Fertility Tracker & Ovulation Calculator', 'Youper - AI Therapy', 'MoodSpace', 'Super Hearing Super Ear Amplifier', 'Penn State Health OnDemand', 'ScriptSave WellRx Rx Discounts', 'Free Blood Pressure', 'All Mental disorders', 'Nurse Grid', 'JH Blood Pressure Monitor', 'Blood Pressure', 'RT 516 VET', 'Anthem Anywhere', 'Sway Medical', \"fred's Pharmacy\", 'Breastfeeding Tracker Baby Log', 'Banfield Pet Health Tracker', '1800 Contacts - Lens Store', 'TextNow - free text + calls', 'Tumblr', 'Snapchat', 'Instagram', 'Periscope - Live Video', 'Pinterest', 'MeetMe: Chat & Meet New People', 'ooVoo Video Calls, Messaging & Stories', 'LinkedIn', 'Tango - Live Video Broadcast', 'SayHi Chat, Meet New People', 'Tapatalk - 100,000+ Forums', 'Badoo - Free Chat & Dating App', 'Nextdoor - Local neighborhood news & classifieds', 'Meetup', 'Text Free: WiFi Calling App', 'textPlus: Free Text & Calls', 'POF Free Dating App', 'Tagged - Meet, Chat & Dating', 'LOVOO', 'SKOUT - Meet, Chat, Go Live', 'Jaumo Dating, Flirt & Live Video', 'Couple - Relationship App', 'Wish - Shopping Made Fun', 'SnipSnap Coupon App', 'Extreme Coupon Finder', 'Checkout 51: Grocery coupons', 'The Coupons App', 'RetailMeNot - Coupons, Deals & Discount Shopping', 'Groupon - Shop Deals, Discounts & Coupons', 'Stocard - Rewards Cards Wallet', 'eBay: Buy & Sell this Summer - Discover Deals Now!', 'Gyft - Mobile Gift Card Wallet', 'Shopkick: Free Gift Cards, Shop Rewards & Deals', 'Shopular: Coupons, Weekly Ads & Shopping Deals', 'Carousell: Snap-Sell, Chat-Buy', 'Walmart', 'Ibotta: Cash Back Savings, Rewards & Coupons App', 'AliExpress - Smarter Shopping, Better Living', 'LivingSocial - Local Deals', 'Amazon Shopping', 'Poshmark - Buy & Sell Fashion', 'Target - now with Cartwheel', 'ZALORA Fashion Shopping', 'Fancy', \"Modcloth – Unique Indie Women's Fashion & Style\", \"JackThreads: Men's Shopping\", 'Zappos – Shoe shopping made simple', 'Wanelo Shopping', 'Etsy: Handmade & Vintage Goods', 'Slickdeals: Coupons & Shopping', 'ASOS', 'Google Photos', 'Shutterfly: Free Prints, Photo Books, Cards, Gifts', 'InstaBeauty -Makeup Selfie Cam', 'B612 - Beauty & Filter Camera', 'BeautyPlus - Easy Photo Editor & Selfie Camera', 'YouCam Perfect - Selfie Photo Editor', 'Muzy - Share photos & collages', 'QuickPic - Photo Gallery with Google Drive Support', 'Flickr', 'Open Camera', 'Camera for Android', 'Cymera Camera- Photo Editor, Filter,Collage,Layout', 'Candy Camera - selfie, beauty camera, photo editor', 'Camera360: Selfie Photo Editor with Funny Sticker', 'Facetune - For Free', 'Photo Editor Selfie Camera Filter & Mirror Image', 'HD Camera for Android', 'Photo Editor Pro', 'YouCam Makeup - Magic Selfie Makeovers', 'Photo Editor-', 'Photo Editor', 'Adobe Photoshop Express:Photo Editor Collage Maker', 'InstaSize Photo Filters & Collage Editor', 'CBS Sports App - Scores, News, Stats & Watch Live', 'Yahoo Fantasy Sports - #1 Rated Fantasy App', 'ESPN', 'NFL', 'Bleacher Report: sports news, scores, & highlights', 'ESPN Fantasy Sports', 'theScore: Live Sports Scores, News, Stats & Videos', 'MLB At Bat', 'WatchESPN', 'Hole19: Golf GPS App, Rangefinder & Scorecard', 'CBS Sports Fantasy', 'Yahoo Sports - scores, stats, news, & highlights', 'FotMob - Live Soccer Scores', 'US Open Tennis Championships 2018', 'FIFA - Tournaments, Soccer News & Live Scores', 'Golfshot: Golf GPS + Tee Times', 'BBC Sport', 'MLB Ballpark', 'FOX Sports: Live Streaming, Scores & News', 'Fantasy Football', 'PGA TOUR', 'UFC', 'trivago: Hotels & Travel', 'Expedia Hotels, Flights & Car Rental Travel Deals', 'TripAdvisor Hotels Flights Restaurants Attractions', 'Skyscanner', 'Booking.com Travel Deals', 'Priceline Hotel Deals, Rental Cars & Flights', 'United Airlines', 'Southwest Airlines', 'Hopper - Watch & Book Flights', 'Fly Delta', 'KAYAK Flights, Hotels & Cars', 'American Airlines', 'Orbitz - Hotels, Flights & Package Deals', 'Hotels.com: Book Hotel Rooms & Find Vacation Deals', 'Hostelworld: Hostels & Cheap Hotels Travel App', 'Airbnb', 'HotelTonight: Book amazing deals at great hotels', 'Maps - Navigate & Explore', 'Google Street View', 'Calculator', 'Gboard - the Google Keyboard', 'ZEDGE™ Ringtones & Wallpapers', 'Nova Launcher', 'Apex Launcher', 'Smart Launcher 5', 'Google Keep', 'Evernote – Organizer, Planner for Notes & Memos', 'ES File Explorer File Manager', 'Microsoft Word', 'Google Drive', 'Adobe Acrobat Reader', 'Google PDF Viewer', 'Microsoft Excel', 'Google Docs', 'Microsoft PowerPoint', 'Microsoft OneNote', 'Google Calendar', 'Wunderlist: To-Do List & Tasks', 'Any.do: To-do list, Calendar, Reminders & Planner', 'Todoist: To-do lists for task management & errands', 'Planner Pro-Personal Organizer', 'Microsoft OneDrive', 'Dropbox', 'MX Player', 'Video Editor', 'Google News', 'Flipboard: News For Our Time', 'BBC News', 'Fox News – Breaking News, Live Video & News Alerts', 'USA TODAY', 'CNN Breaking US & World News', 'Twitter', 'NPR News', 'Haystack TV: Local & World News - Free', 'ABC News - US & World News', 'NBC News', 'The Wall Street Journal: Business & Market News', 'NYTimes - Latest News', 'Newsroom: News Worth Sharing', 'BuzzFeed: News, Tasty, Quizzes', 'Flashlight', 'Agar.io', 'LEGO® Juniors Create & Cruise', 'Google Translate', 'Pokémon GO', 'PAC-MAN', 'Colorfy: Coloring Book for Adults - Free', 'YouTube', \"Alto's Adventure\", 'Facebook', 'VPN Free - Betternet Hotspot VPN & Private Browser', 'EMT Tutor NREMT-B Study Guide', 'EMT-B Pocket Prep', 'Diary with lock', 'C Programming', 'CppDroid - C/C++ IDE', 'Learn C++', 'Google Duo - High Quality Video Calls', 'Crossy Road', 'E*TRADE Mobile', 'WWE', 'Amazon Kindle', 'Microsoft Edge', 'Microsoft Outlook', 'Ebook Reader', 'Flipkart Online Shopping App', 'Facebook Lite', 'Messenger Lite: Free Calls & Messages', 'imo beta free calls and text', 'Geometry Dash World', 'Google+', 'Google', 'G Cloud Backup', 'H&M', 'H TV', 'Talking Ben the Dog', 'Sonic Dash', 'Talkatone: Free Texts, Calls & Phone Number', 'Textgram - write on photos', 'Jetpack Joyride', 'Anger of stick 5 : zombie', 'Turbo FAST', 'K PLUS', 'PowerDirector Video Editor App: 4K, Slow Mo & More', 'Fuzzy Numbers: Pre-K Number Foundation', 'LiveMe - Video chat, new friends, and make money', 'letgo: Buy & Sell Used Stuff, Cars & Real Estate', 'Love Balls', 'Last Day on Earth: Survival', 'Minecraft', 'MEGA', 'I’m Expecting - Pregnancy App', 'Diabetes:M', 'PicsArt Photo Studio: Collage Maker & Pic Editor', 'Quora', 'SHAREit - Transfer & Share', 'Topbuzz: Breaking News, Videos & Funny GIFs', 'Twitch: Livestream Multiplayer Games & Esports', 'myAT&T', 'Truecaller: Caller ID, SMS spam blocking & Dialer', 'Showtime Anytime', 'Uber', 'VLC for Android', 'Vigo Video', 'Wattpad 📖 Free Books', 'Waze - GPS, Maps, Traffic Alerts & Live Navigation', 'Dating App, Flirt & Chat : W-Match', 'WPS Office - Word, Docs, PDF, Note, Slide & Sheet', 'LINE WEBTOON - Free Comics', 'WhatsApp Business', 'We Heart It', 'Telegram X', 'Share Music & Transfer Files - Xender', 'Yandex Browser with Protect', 'YouTube Studio', 'PBS KIDS Video', 'YouTube Gaming', 'GO Keyboard - Emoticon keyboard, Free Theme, GIF', 'Zello PTT Walkie Talkie', 'Z Camera - Photo Editor, Beauty Selfie, Collage', 'Six Pack in 30 Days - Abs Workout', 'Angry Birds 2', 'AC - Tips & News for Android™', 'CM Browser - Ad Blocker , Fast Download , Privacy', 'Mobi Calculator free & AD free!', 'Flipp - Weekly Shopping', 'Camera FV-5 Lite', 'All Football - Latest News & Videos', 'Maricopa AH', 'Animal Jam - Play Wild!', 'RULES OF SURVIVAL', 'Amazon for Tablets', 'Final Fantasy XV: A New Empire', 'The Sims™ FreePlay', 'Text free - Free Text + Call', '365Scores - Live Scores', 'DINO HUNTER: DEADLY SHORES', 'AP Mobile - Breaking News', 'Reuters News', 'AccuWeather: Daily Forecast & Live Weather Reports', 'Moovit: Bus Time & Train Time Live Info', 'Jurassic World™ Alive', 'Overstock – Home Decor, Furniture Shopping', 'Choices: Stories You Play', 'Runtastic Sleep Better: Sleep Cycle & Smart Alarm', 'Ringtone Maker', 'Plants vs. Zombies™ Heroes', 'CM FILE MANAGER HD', 'realestate.com.au - Buy, Rent & Sell Property', 'Video Player All Format', 'DEER HUNTER 2018', 'Google Play Games', 'ai.type Free Emoji Keyboard', 'Manga AZ - Manga Comic Reader', 'British Airways', 'Anthem BC Anywhere', 'Transit: Real-Time Transit App', 'PMHNP-BC Pocket Prep', 'Backgrounds HD (Wallpapers)', 'Blur Image Background', 'Newegg Mobile', 'English Dictionary - Offline', 'English Grammar Test', 'Daily Manga - Comic & Webtoon', 'BBM - Free Calls & Messages', 'BeyondMenu Food Delivery', 'NOOK: Read eBooks & Magazines', 'NOOK App for NOOK Devices', 'HBO GO: Stream with TV Package', 'No Crop & Square for Instagram', 'Hungry Shark World', 'iBP Blood Pressure', 'Blood Pressure Log - MyDiary', 'Blood Pressure(BP) Diary', 'BP Journal - Blood Pressure Diary', 'Blood Pressure Monitor', 'Blood Pressure Companion', 'High Blood Pressure Symptoms', 'QR Scanner & Barcode Scanner 2018', 'Camera FV-5', 'Camera MX - Free Photo & Video Camera', 'Cardboard', 'Maps & GPS Navigation — OsmAnd', 'Beautiful Widgets Pro', 'Beautiful Widgets Free', 'HD Widgets', 'Color by Number – New Coloring Book', 'Photo Editor by Aviary', 'UNICORN - Color By Number & Pixel Art Coloring', '420 BZ Budeze Delivery', 'BZWBK24 mobile', 'Zoosk Dating App: Meet Singles', 'Cricbuzz - Live Cricket Scores & News', 'Cheapflights – Flight Search', 'Chrome Beta', 'Chrome Dev', 'CJmall', 'Castle Clash: Heroes of the Empire US', 'CM Launcher 3D - Theme, Wallpapers, Efficient', 'CM Locker - Security Lockscreen', 'CM Flashlight (Compass, SOS)', 'Ruler', 'Cartoon Network App', 'LEGO® TV', 'Brit + Co', 'CT Scan Cross Sectional Anatomy', 'Shadow Fight 2', 'Curriculum vitae App CV Builder Free Resume Maker', 'CW Seed', 'Camera360 Lite - Selfie Camera', 'Mapy.cz - Cycling & Hiking offline maps', 'Face Filter, Selfie Editor - Sweet Camera', 'Metal Soldiers 2', \"COOKING MAMA Let's Cook!\", 'Run Sausage Run!', 'Knife Hit', 'DC Comics', 'MARVEL Contest of Champions', 'wetter.com - Weather and Radar', 'CallApp: Caller ID, Blocker & Phone Call Recorder', 'LINE Camera - Photo editor', 'Racing in Car 2', 'Dungeon Hunter Champions: Epic Online Action RPG', 'Red Bull TV: Live Sports, Music & Entertainment', 'Idle Heroes', 'Free phone calls, free texting SMS on free number', 'Phone Tracker : Family Locator', 'My Photo Keyboard', 'Whoscall - Caller ID & Block', 'Google Sheets', 'Video Downloader', 'Notepad & To do list', 'Polaris Office - Word, Docs, Sheets, Slide, PDF', 'Do It Later: Tasks & To-Dos', 'To-Do Calendar Planner', 'TickTick: To Do List with Reminder, Day Planner', 'ColorNote Notepad Notes', 'Dude Perfect 2', 'Dairy Queen', 'SONIC Drive-In', \"McDonald's\", 'Wendy’s – Food and Offers', \"Dunkin' Donuts\", 'SUBWAY®', 'Panera Bread', 'Starbucks', 'Cache Cleaner-DU Speed Booster (booster & cleaner)', 'DU Browser—Browse fast & fun', 'Real Racing 3', 'My Little Pony Celebration', 'My Little Pony: Harmony Quest', 'The Emirates App', 'Phogy, 3D Camera', 'Weather by eltiempo.es', 'The Game of Life', 'Spanish English Translator', \"Game for KIDS: KIDS match'em\", 'Dictionary - Merriam-Webster', 'Edmodo', 'Chess Free', 'Oxford Dictionary of English : Free', 'Masha and the Bear Child Games', 'Episode - Choose Your Story', 'The NBC App - Watch Live TV and Full Episodes', 'Moto File Manager', 'Moneycontrol – Stocks, Sensex, Mutual Funds, IPO', 'CNBC: Breaking Business News & Live Market Data', 'Google Earth', 'Amino: Communities and Chats', 'Hangouts Dialer - Call Phones', 'Offline Maps & Navigation', 'Strawberry Shortcake Ice Cream Island', 'Home Workout - No Equipment', 'Home Security Camera WardenCam - reuse old phones', 'Web Browser for Android', 'Airway Ex - Intubate. Anesthetize. Train.', 'FilterGrid - Cam&Photo Editor', 'Messages, Text and Video Chat for Messenger', 'All Social Networks', 'Premier League - Official App', 'Fallout Shelter', 'Facebook Pages Manager', 'Facebook Ads Manager', 'Who Viewed My Facebook Profile - Stalkers Visitors', 'The 5th Stand', 'osmino Wi-Fi: free WiFi', 'Fun Kid Racing - Motocross', 'Podcast App: Free & Offline Podcasts by Player FM', 'Motorola FM Radio', 'FarmersOnly Dating', 'FP Notebook', 'AAFP'])\n"
     ]
    }
   ],
   "source": [
    "print(f\"Names of the duplicated apps: {duplicate_app_names.keys()}\")"
   ]
  },
  {
   "cell_type": "code",
   "execution_count": 10,
   "metadata": {},
   "outputs": [
    {
     "name": "stdout",
     "output_type": "stream",
     "text": [
      "Number of duplicated app names: 798\n"
     ]
    }
   ],
   "source": [
    "print(f\"Number of duplicated app names: {len(duplicate_app_names.keys())}\")"
   ]
  },
  {
   "cell_type": "markdown",
   "metadata": {},
   "source": [
    "Some of the duplicate entries differ by the number or reviews - in this example these are: 4604324, 4604483, 4604324"
   ]
  },
  {
   "cell_type": "code",
   "execution_count": 11,
   "metadata": {},
   "outputs": [
    {
     "name": "stdout",
     "output_type": "stream",
     "text": [
      "['Gmail', 'COMMUNICATION', '4.3', '4604324', 'Varies with device', '1,000,000,000+', 'Free', '0', 'Everyone', 'Communication', 'August 2, 2018', 'Varies with device', 'Varies with device']\n",
      "['Gmail', 'COMMUNICATION', '4.3', '4604483', 'Varies with device', '1,000,000,000+', 'Free', '0', 'Everyone', 'Communication', 'August 2, 2018', 'Varies with device', 'Varies with device']\n",
      "['Gmail', 'COMMUNICATION', '4.3', '4604324', 'Varies with device', '1,000,000,000+', 'Free', '0', 'Everyone', 'Communication', 'August 2, 2018', 'Varies with device', 'Varies with device']\n"
     ]
    }
   ],
   "source": [
    "for idx in duplicate_app_names['Gmail']:\n",
    "    print(cleaned_playstore_data[idx])"
   ]
  },
  {
   "cell_type": "markdown",
   "metadata": {},
   "source": [
    "In other cases the entries are exactly the same:"
   ]
  },
  {
   "cell_type": "code",
   "execution_count": 12,
   "metadata": {},
   "outputs": [
    {
     "name": "stdout",
     "output_type": "stream",
     "text": [
      "['Box', 'BUSINESS', '4.2', '159872', 'Varies with device', '10,000,000+', 'Free', '0', 'Everyone', 'Business', 'July 31, 2018', 'Varies with device', 'Varies with device']\n",
      "['Box', 'BUSINESS', '4.2', '159872', 'Varies with device', '10,000,000+', 'Free', '0', 'Everyone', 'Business', 'July 31, 2018', 'Varies with device', 'Varies with device']\n",
      "['Box', 'BUSINESS', '4.2', '159872', 'Varies with device', '10,000,000+', 'Free', '0', 'Everyone', 'Business', 'July 31, 2018', 'Varies with device', 'Varies with device']\n"
     ]
    }
   ],
   "source": [
    "for idx in duplicate_app_names['Box']:\n",
    "    print(cleaned_playstore_data[idx])"
   ]
  },
  {
   "cell_type": "markdown",
   "metadata": {},
   "source": [
    "From the duplicates we will always choose the one with the highest number of Reviews as this data should be the most accurate one.\n",
    "\n",
    "From the dataset size we have to remove the number of duplicated entries still taking into consideration one entry for each duplicated application."
   ]
  },
  {
   "cell_type": "markdown",
   "metadata": {},
   "source": [
    "The expected number of rows in the dataset (after removal of duplicates) is:"
   ]
  },
  {
   "cell_type": "code",
   "execution_count": 13,
   "metadata": {},
   "outputs": [
    {
     "name": "stdout",
     "output_type": "stream",
     "text": [
      "Number of rows in the deduplicated dataset is: 9659\n"
     ]
    }
   ],
   "source": [
    " n_row_deduplicated_dataset = len(cleaned_playstore_data[1:]) \\\n",
    "   - sum([len(duplicate_app_names[key]) for key in duplicate_app_names]) \\\n",
    "   + len(duplicate_app_names)\n",
    "    \n",
    " print(f\"Number of rows in the deduplicated dataset is: {n_row_deduplicated_dataset}\")"
   ]
  },
  {
   "cell_type": "markdown",
   "metadata": {},
   "source": [
    "In this step we will create dictionary **reviews_max** which will contain the maximal number of reviews for a given application name in the Google Playstore Dataset. We will also verify using the example applications that it is working."
   ]
  },
  {
   "cell_type": "code",
   "execution_count": 14,
   "metadata": {
    "scrolled": true
   },
   "outputs": [
    {
     "name": "stdout",
     "output_type": "stream",
     "text": [
      "Size of the reviews_max dictionary 9659\n",
      "\n",
      "--------------------\n",
      "Max reviews for `Box`   = 159872\n",
      "Max reviews for `Gmail` = 4604483\n"
     ]
    }
   ],
   "source": [
    "reviews_max = {}\n",
    "\n",
    "NAME_IDX = 0\n",
    "REVIEWS_IDX = 3\n",
    "\n",
    "for row in cleaned_playstore_data[1:]:\n",
    "    app_name = row[NAME_IDX]\n",
    "    n_reviews = int(row[REVIEWS_IDX])\n",
    "    if (app_name not in reviews_max) or (reviews_max[app_name] < n_reviews):\n",
    "        reviews_max[app_name] = n_reviews\n",
    "        \n",
    "print(f\"Size of the reviews_max dictionary {len(reviews_max)}\")\n",
    "print(\"\\n--------------------\")\n",
    "print(f\"Max reviews for `Box`   = {reviews_max['Box']}\")\n",
    "print(f\"Max reviews for `Gmail` = {reviews_max['Gmail']}\")"
   ]
  },
  {
   "cell_type": "markdown",
   "metadata": {},
   "source": [
    "In  this step we will create the de-duplicated dataset by choosing the rows with the maximum number of reviews for the given app name. \n",
    "\n",
    "The special care must be taken as there can be **multiple rows with the same maximal number of reviews** (this is the case e.g. for the aforementioned **Box** application)."
   ]
  },
  {
   "cell_type": "code",
   "execution_count": 15,
   "metadata": {},
   "outputs": [
    {
     "name": "stdout",
     "output_type": "stream",
     "text": [
      "Deduplicated dataset\n",
      "Number of non-header rows: 9659\n",
      "------------------\n",
      "First 10 rows of the de-duplicated dataset\n",
      "[['App', 'Category', 'Rating', 'Reviews', 'Size', 'Installs', 'Type', 'Price', 'Content Rating', 'Genres', 'Last Updated', 'Current Ver', 'Android Ver'], ['Photo Editor & Candy Camera & Grid & ScrapBook', 'ART_AND_DESIGN', '4.1', '159', '19M', '10,000+', 'Free', '0', 'Everyone', 'Art & Design', 'January 7, 2018', '1.0.0', '4.0.3 and up'], ['U Launcher Lite – FREE Live Cool Themes, Hide Apps', 'ART_AND_DESIGN', '4.7', '87510', '8.7M', '5,000,000+', 'Free', '0', 'Everyone', 'Art & Design', 'August 1, 2018', '1.2.4', '4.0.3 and up'], ['Sketch - Draw & Paint', 'ART_AND_DESIGN', '4.5', '215644', '25M', '50,000,000+', 'Free', '0', 'Teen', 'Art & Design', 'June 8, 2018', 'Varies with device', '4.2 and up'], ['Pixel Draw - Number Art Coloring Book', 'ART_AND_DESIGN', '4.3', '967', '2.8M', '100,000+', 'Free', '0', 'Everyone', 'Art & Design;Creativity', 'June 20, 2018', '1.1', '4.4 and up'], ['Paper flowers instructions', 'ART_AND_DESIGN', '4.4', '167', '5.6M', '50,000+', 'Free', '0', 'Everyone', 'Art & Design', 'March 26, 2017', '1.0', '2.3 and up'], ['Smoke Effect Photo Maker - Smoke Editor', 'ART_AND_DESIGN', '3.8', '178', '19M', '50,000+', 'Free', '0', 'Everyone', 'Art & Design', 'April 26, 2018', '1.1', '4.0.3 and up'], ['Infinite Painter', 'ART_AND_DESIGN', '4.1', '36815', '29M', '1,000,000+', 'Free', '0', 'Everyone', 'Art & Design', 'June 14, 2018', '6.1.61.1', '4.2 and up'], ['Garden Coloring Book', 'ART_AND_DESIGN', '4.4', '13791', '33M', '1,000,000+', 'Free', '0', 'Everyone', 'Art & Design', 'September 20, 2017', '2.9.2', '3.0 and up'], ['Kids Paint Free - Drawing Fun', 'ART_AND_DESIGN', '4.7', '121', '3.1M', '10,000+', 'Free', '0', 'Everyone', 'Art & Design;Creativity', 'July 3, 2018', '2.8', '4.0.3 and up']]\n"
     ]
    }
   ],
   "source": [
    "cleaned_playstore_data_v2 = [] \n",
    "already_added = set()\n",
    "\n",
    "# the new dataset should contain the header as well\n",
    "cleaned_playstore_data_v2.append(cleaned_playstore_data[0])\n",
    "\n",
    "REVIEWS_ID = 3\n",
    "\n",
    "for row in cleaned_playstore_data[1:]:\n",
    "    current_name = row[NAME_IDX]\n",
    "    current_reviews = int(row[REVIEWS_ID])\n",
    "    if (current_name not in already_added) and (current_reviews == reviews_max[current_name]): \n",
    "        already_added.add(current_name)\n",
    "        cleaned_playstore_data_v2.append(row)\n",
    "\n",
    "print(\"Deduplicated dataset\")\n",
    "print(f\"Number of non-header rows: {len(cleaned_playstore_data_v2) - 1}\")\n",
    "print(\"------------------\")\n",
    "print(\"First 10 rows of the de-duplicated dataset\")\n",
    "print(f\"{cleaned_playstore_data_v2[:10]}\")\n",
    "    "
   ]
  },
  {
   "cell_type": "markdown",
   "metadata": {},
   "source": [
    "### Removal of the non-English applications from both datasets"
   ]
  },
  {
   "cell_type": "markdown",
   "metadata": {},
   "source": [
    "The cleaned Google Playstore dataset contains the applications which names definitely suggest that they are non-English. \n",
    "\n",
    "We do assume that any application which contains at **least 4 characters with the UNICODE value bigger than 127 are non-English** and should be removed from the cleaned version of the dataset."
   ]
  },
  {
   "cell_type": "code",
   "execution_count": 16,
   "metadata": {},
   "outputs": [
    {
     "name": "stdout",
     "output_type": "stream",
     "text": [
      "-----\n",
      "application_name: Instagram, is English name = True\n",
      "application_name: 爱奇艺PPS -《欢乐颂2》电视剧热播, is English name = False\n",
      "application_name: Docs To Go™ Free Office Suite, is English name = True\n",
      "application_name: Instachat 😜, is English name = True\n"
     ]
    }
   ],
   "source": [
    "BOUNDARY_VALUE_ENGLISH_CHARACTERS = 127\n",
    "\n",
    "def is_english_string(name: str) -> bool:\n",
    "    non_english_chars_count: int = 0\n",
    "    for elem in name:\n",
    "        if ord(elem) > BOUNDARY_VALUE_ENGLISH_CHARACTERS:\n",
    "            non_english_chars_count += 1\n",
    "            if non_english_chars_count > 3:\n",
    "                return False\n",
    "    return True\n",
    "\n",
    "print(\"-----\")\n",
    "for name in ['Instagram', '爱奇艺PPS -《欢乐颂2》电视剧热播', 'Docs To Go™ Free Office Suite',\n",
    "             'Instachat 😜']:\n",
    "    print(f\"application_name: {name}, is English name = {is_english_string(name)}\")"
   ]
  },
  {
   "cell_type": "markdown",
   "metadata": {},
   "source": [
    "We use the function defined in the preiouvs step to filter out non-English applications from both dataset. For the sake of clarity and brevity **we DO retain the header rows of both datasets**.\n",
    "\n",
    "Also, please note that we have skipped the v2 version of App Store dataset as it did NOT require any modifications."
   ]
  },
  {
   "cell_type": "code",
   "execution_count": 17,
   "metadata": {},
   "outputs": [],
   "source": [
    "#cleaned_playstore_data_v2\n",
    "#cleaned_appstore_data\n",
    "\n",
    "def remove_non_english_entries(dataset: list, idx: int):\n",
    "    result = []\n",
    "    result.append(dataset[0])\n",
    "    \n",
    "    for row in dataset[1:]:\n",
    "        name = row[idx]\n",
    "        if is_english_string(name):\n",
    "            result.append(row)\n",
    "            \n",
    "    return result\n",
    "\n",
    "cleaned_playstore_data_v3 = remove_non_english_entries(cleaned_playstore_data_v2, 0)\n",
    "cleaned_appstore_data_v3 = remove_non_english_entries(cleaned_appstore_data, 1)"
   ]
  },
  {
   "cell_type": "markdown",
   "metadata": {},
   "source": [
    "#### Verifying both datasets shape after removal of non-English applications"
   ]
  },
  {
   "cell_type": "code",
   "execution_count": 18,
   "metadata": {},
   "outputs": [
    {
     "name": "stdout",
     "output_type": "stream",
     "text": [
      "------------\n",
      "Number of non-header rows in the Google Playstore dataset: 9614\n",
      "Number of rows in the App Store dataset: 6183\n",
      "\n",
      " First three rows of the Google Playstore dataset:\n",
      "\n",
      " [['App', 'Category', 'Rating', 'Reviews', 'Size', 'Installs', 'Type', 'Price', 'Content Rating', 'Genres', 'Last Updated', 'Current Ver', 'Android Ver'], ['Photo Editor & Candy Camera & Grid & ScrapBook', 'ART_AND_DESIGN', '4.1', '159', '19M', '10,000+', 'Free', '0', 'Everyone', 'Art & Design', 'January 7, 2018', '1.0.0', '4.0.3 and up'], ['U Launcher Lite – FREE Live Cool Themes, Hide Apps', 'ART_AND_DESIGN', '4.7', '87510', '8.7M', '5,000,000+', 'Free', '0', 'Everyone', 'Art & Design', 'August 1, 2018', '1.2.4', '4.0.3 and up']]\n",
      "\n",
      " First three rows of the App Store dataset:\n",
      "\n",
      " [['id', 'track_name', 'size_bytes', 'currency', 'price', 'rating_count_tot', 'rating_count_ver', 'user_rating', 'user_rating_ver', 'ver', 'cont_rating', 'prime_genre', 'sup_devices.num', 'ipadSc_urls.num', 'lang.num', 'vpp_lic'], ['284882215', 'Facebook', '389879808', 'USD', '0.0', '2974676', '212', '3.5', '3.5', '95.0', '4+', 'Social Networking', '37', '1', '29', '1'], ['389801252', 'Instagram', '113954816', 'USD', '0.0', '2161558', '1289', '4.5', '4.0', '10.23', '12+', 'Photo & Video', '37', '0', '29', '1']]\n"
     ]
    }
   ],
   "source": [
    "print(\"------------\")\n",
    "print(f\"Number of non-header rows in the Google Playstore dataset: {len(cleaned_playstore_data_v3) - 1}\")\n",
    "print(f\"Number of rows in the App Store dataset: {len(cleaned_appstore_data_v3) - 1}\")\n",
    "print(f\"\\n First three rows of the Google Playstore dataset:\\n\\n {cleaned_playstore_data_v3[:3]}\")\n",
    "print(f\"\\n First three rows of the App Store dataset:\\n\\n {cleaned_appstore_data_v3[:3]}\")"
   ]
  },
  {
   "cell_type": "markdown",
   "metadata": {},
   "source": [
    "### Removal of paid applications"
   ]
  },
  {
   "cell_type": "markdown",
   "metadata": {},
   "source": [
    "From both datasets we are removing paid applications. For the **Google Play Dataset** we execute that by choosing the Type column equal to 'Free'. \n",
    "\n",
    "For **App Store Dataset** we do choose applications with price equal to 0.0 (removing $ sign to convert prices to float smoothly).\n",
    "\n",
    "We did find in the **Google Play Dataset** one row which is inconsistent **('Command & Conquer: Rivals', its type is 'NaN' instead of free, yet its price is '0')**. \n",
    "\n",
    "Comparing the size of the inconsistent data with the size of the dataset we can safely omit it from the further analysis. Another argument for that is the fact that that row seems to contain potentially inconsistent data ('NaN' - not-a-number suggests issues with data cleaning or importing or accidental column skipping)."
   ]
  },
  {
   "cell_type": "code",
   "execution_count": 19,
   "metadata": {},
   "outputs": [
    {
     "name": "stdout",
     "output_type": "stream",
     "text": [
      "\n",
      "Google Playstore name of the column identifying free apps = Type\n",
      "\n",
      "AppStore name of the column identifying free apps = price\n",
      "\n",
      "Inconsistent row in Google Playstore data is: \n",
      "['Command & Conquer: Rivals', 'FAMILY', 'NaN', '0', 'Varies with device', '0', 'NaN', '0', 'Everyone 10+', 'Strategy', 'June 28, 2018', 'Varies with device', 'Varies with device']\n"
     ]
    }
   ],
   "source": [
    "TYPE_COLUMN_IDX = 6\n",
    "PRICE_COLUMN_IDX = 4\n",
    "\n",
    "print(f\"\\nGoogle Playstore name of the column identifying free apps = {cleaned_playstore_data_v3[0][TYPE_COLUMN_IDX]}\")\n",
    "print(f\"\\nAppStore name of the column identifying free apps = {cleaned_appstore_data_v3[0][PRICE_COLUMN_IDX]}\")\n",
    "\n",
    "cleaned_playstore_data_v4 = []\n",
    "cleaned_playstore_data_v4.append(cleaned_playstore_data_v3[0])\n",
    "\n",
    "\n",
    "for row in cleaned_playstore_data_v3[1:]:\n",
    "    if row[TYPE_COLUMN_IDX].strip().lower() != \"free\" and row[7] == '0':\n",
    "        print(f\"\\nInconsistent row in Google Playstore data is: \\n{row}\")\n",
    "        \n",
    "    if row[TYPE_COLUMN_IDX].strip().lower() == \"free\":\n",
    "        cleaned_playstore_data_v4.append(row)\n",
    "        \n",
    "cleaned_appstore_data_v4 = []\n",
    "cleaned_appstore_data_v4.append(cleaned_appstore_data_v3[0])\n",
    "\n",
    "\n",
    "for row in cleaned_appstore_data_v3[1:]:\n",
    "    if float(row[PRICE_COLUMN_IDX].strip().replace('$', '')) == 0.0:\n",
    "        cleaned_appstore_data_v4.append(row)"
   ]
  },
  {
   "cell_type": "markdown",
   "metadata": {},
   "source": [
    "We do examine the number of rows remaining in the dataset:"
   ]
  },
  {
   "cell_type": "code",
   "execution_count": 20,
   "metadata": {},
   "outputs": [
    {
     "name": "stdout",
     "output_type": "stream",
     "text": [
      "Size of the final version of the Google Play Dataset (without headers) = 8863\n",
      "Size of the final version of the App Store Dataset (without headers) = 3222\n"
     ]
    }
   ],
   "source": [
    "print(f\"Size of the final version of the Google Play Dataset (without headers) = {len(cleaned_playstore_data_v4)-1}\")\n",
    "print(f\"Size of the final version of the App Store Dataset (without headers) = {len(cleaned_appstore_data_v4)-1}\")"
   ]
  },
  {
   "cell_type": "markdown",
   "metadata": {},
   "source": [
    "### Most common applications by genre\n",
    "\n",
    "The final goal is to place application in both app stores (Google and Apple). Due to the aforementioned facts we are interested in the successfull **application genres** of these markets.\n",
    "\n",
    "Naturally, that information is located in different places in both app stores.\n",
    "\n",
    "In **Google Play Store dataset** the application genre is located in columns: **'Category'** (column index = 1) and **'Genres'** (column index = 9).\n",
    "\n",
    "In **App Store dataset** the application genre is located in column **'prime_genre'** (column index = 11).\n",
    "\n",
    "First, we create the frequency tables for the tree columns of our interest. On top of that we do print those tables sorting them descendently by the frequency value."
   ]
  },
  {
   "cell_type": "code",
   "execution_count": 21,
   "metadata": {},
   "outputs": [],
   "source": [
    "def freq_table(dataset, index):\n",
    "    value_count = 0\n",
    "    \n",
    "    result: dict[str, int] = dict()\n",
    "    final_result: dict[str, int] = dict()\n",
    "        \n",
    "    for row in dataset:\n",
    "        value = row[index]\n",
    "        result[value] = result.get(value,0) + 1\n",
    "        value_count += 1\n",
    "        \n",
    "    for key,value in result.items():\n",
    "        final_result[key] = 100.0*float(value)/value_count\n",
    "    \n",
    "    return final_result\n",
    "\n",
    "def display_table(dataset, index):\n",
    "    print(\"---------------\")\n",
    "    print(f\"Values frequencies (in %) for column `{dataset[0][index]}`:\\n\")\n",
    "    table = freq_table(dataset[1:], index)\n",
    "    table_display = []\n",
    "    for key in table:\n",
    "        key_val_as_tuple = (table[key], key)\n",
    "        table_display.append(key_val_as_tuple)\n",
    "\n",
    "    table_sorted = sorted(table_display, reverse = True)\n",
    "    for entry in table_sorted:\n",
    "        print(entry[1], ':', entry[0])\n"
   ]
  },
  {
   "cell_type": "code",
   "execution_count": 22,
   "metadata": {},
   "outputs": [
    {
     "name": "stdout",
     "output_type": "stream",
     "text": [
      "Google Playstore data\n",
      "---------------\n",
      "Values frequencies (in %) for column `Category`:\n",
      "\n",
      "FAMILY : 18.8987927338373\n",
      "GAME : 9.725826469592688\n",
      "TOOLS : 8.462146000225657\n",
      "BUSINESS : 4.592124562789123\n",
      "LIFESTYLE : 3.9038700214374367\n",
      "PRODUCTIVITY : 3.8925871601038025\n",
      "FINANCE : 3.700778517432021\n",
      "MEDICAL : 3.5315355974275078\n",
      "SPORTS : 3.3961412614238973\n",
      "PERSONALIZATION : 3.317161232088458\n",
      "COMMUNICATION : 3.2381812027530184\n",
      "HEALTH_AND_FITNESS : 3.0802211440821394\n",
      "PHOTOGRAPHY : 2.944826808078529\n",
      "NEWS_AND_MAGAZINES : 2.798149610741284\n",
      "SOCIAL : 2.6627552747376733\n",
      "TRAVEL_AND_LOCAL : 2.335552296062281\n",
      "SHOPPING : 2.2452894053932075\n",
      "BOOKS_AND_REFERENCE : 2.1437436533904997\n",
      "DATING : 1.8616721200496447\n",
      "VIDEO_PLAYERS : 1.7939749520478394\n",
      "MAPS_AND_NAVIGATION : 1.399074805370642\n",
      "FOOD_AND_DRINK : 1.241114746699763\n",
      "EDUCATION : 1.1621347173643235\n",
      "ENTERTAINMENT : 0.9590432133589079\n",
      "LIBRARIES_AND_DEMO : 0.9364774906916394\n",
      "AUTO_AND_VEHICLES : 0.9251946293580052\n",
      "HOUSE_AND_HOME : 0.8236488773552973\n",
      "WEATHER : 0.8010831546880289\n",
      "EVENTS : 0.7108202640189553\n",
      "PARENTING : 0.6544059573507841\n",
      "ART_AND_DESIGN : 0.6431230960171499\n",
      "COMICS : 0.6205573733498815\n",
      "BEAUTY : 0.5979916506826131\n"
     ]
    }
   ],
   "source": [
    "print(\"Google Playstore data\")\n",
    "CATEGORY_IDX = 1\n",
    "display_table(cleaned_playstore_data_v4, CATEGORY_IDX)"
   ]
  },
  {
   "cell_type": "code",
   "execution_count": 23,
   "metadata": {},
   "outputs": [
    {
     "name": "stdout",
     "output_type": "stream",
     "text": [
      "---------------\n",
      "Values frequencies (in %) for column `Genres`:\n",
      "\n",
      "Tools : 8.450863138892023\n",
      "Entertainment : 6.070179397495205\n",
      "Education : 5.348076272142615\n",
      "Business : 4.592124562789123\n",
      "Productivity : 3.8925871601038025\n",
      "Lifestyle : 3.8925871601038025\n",
      "Finance : 3.700778517432021\n",
      "Medical : 3.5315355974275078\n",
      "Sports : 3.4638384294257025\n",
      "Personalization : 3.317161232088458\n",
      "Communication : 3.2381812027530184\n",
      "Action : 3.102786866749408\n",
      "Health & Fitness : 3.0802211440821394\n",
      "Photography : 2.944826808078529\n",
      "News & Magazines : 2.798149610741284\n",
      "Social : 2.6627552747376733\n",
      "Travel & Local : 2.324269434728647\n",
      "Shopping : 2.2452894053932075\n",
      "Books & Reference : 2.1437436533904997\n",
      "Simulation : 2.042197901387792\n",
      "Dating : 1.8616721200496447\n",
      "Arcade : 1.8503892587160105\n",
      "Video Players & Editors : 1.771409229380571\n",
      "Casual : 1.7601263680469368\n",
      "Maps & Navigation : 1.399074805370642\n",
      "Food & Drink : 1.241114746699763\n",
      "Puzzle : 1.1282861333634209\n",
      "Racing : 0.9928917973598105\n",
      "Role Playing : 0.9364774906916394\n",
      "Libraries & Demo : 0.9364774906916394\n",
      "Auto & Vehicles : 0.9251946293580052\n",
      "Strategy : 0.9026289066907368\n",
      "House & Home : 0.8236488773552973\n",
      "Weather : 0.8010831546880289\n",
      "Events : 0.7108202640189553\n",
      "Adventure : 0.6769716800180525\n",
      "Comics : 0.6092745120162473\n",
      "Beauty : 0.5979916506826131\n",
      "Art & Design : 0.5979916506826131\n",
      "Parenting : 0.49644589867990524\n",
      "Card : 0.4513144533453684\n",
      "Casino : 0.4287487306781\n",
      "Trivia : 0.4174658693444658\n",
      "Educational;Education : 0.39490014667719736\n",
      "Board : 0.38361728534356315\n",
      "Educational : 0.37233442400992894\n",
      "Education;Education : 0.33848584000902626\n",
      "Word : 0.2595058106735868\n",
      "Casual;Pretend Play : 0.2369400880063184\n",
      "Music : 0.20309150400541578\n",
      "Racing;Action & Adventure : 0.16924292000451313\n",
      "Puzzle;Brain Games : 0.16924292000451313\n",
      "Entertainment;Music & Video : 0.16924292000451313\n",
      "Casual;Brain Games : 0.1353943360036105\n",
      "Casual;Action & Adventure : 0.1353943360036105\n",
      "Arcade;Action & Adventure : 0.12411147466997631\n",
      "Action;Action & Adventure : 0.10154575200270789\n",
      "Educational;Pretend Play : 0.09026289066907368\n",
      "Simulation;Action & Adventure : 0.07898002933543946\n",
      "Parenting;Education : 0.07898002933543946\n",
      "Entertainment;Brain Games : 0.07898002933543946\n",
      "Board;Brain Games : 0.07898002933543946\n",
      "Parenting;Music & Video : 0.06769716800180525\n",
      "Educational;Brain Games : 0.06769716800180525\n",
      "Casual;Creativity : 0.06769716800180525\n",
      "Art & Design;Creativity : 0.06769716800180525\n",
      "Education;Pretend Play : 0.05641430666817105\n",
      "Role Playing;Pretend Play : 0.04513144533453684\n",
      "Education;Creativity : 0.04513144533453684\n",
      "Role Playing;Action & Adventure : 0.033848584000902626\n",
      "Puzzle;Action & Adventure : 0.033848584000902626\n",
      "Entertainment;Creativity : 0.033848584000902626\n",
      "Entertainment;Action & Adventure : 0.033848584000902626\n",
      "Educational;Creativity : 0.033848584000902626\n",
      "Educational;Action & Adventure : 0.033848584000902626\n",
      "Education;Music & Video : 0.033848584000902626\n",
      "Education;Brain Games : 0.033848584000902626\n",
      "Education;Action & Adventure : 0.033848584000902626\n",
      "Adventure;Action & Adventure : 0.033848584000902626\n",
      "Video Players & Editors;Music & Video : 0.02256572266726842\n",
      "Sports;Action & Adventure : 0.02256572266726842\n",
      "Simulation;Pretend Play : 0.02256572266726842\n",
      "Puzzle;Creativity : 0.02256572266726842\n",
      "Music;Music & Video : 0.02256572266726842\n",
      "Entertainment;Pretend Play : 0.02256572266726842\n",
      "Casual;Education : 0.02256572266726842\n",
      "Board;Action & Adventure : 0.02256572266726842\n",
      "Video Players & Editors;Creativity : 0.01128286133363421\n",
      "Trivia;Education : 0.01128286133363421\n",
      "Travel & Local;Action & Adventure : 0.01128286133363421\n",
      "Tools;Education : 0.01128286133363421\n",
      "Strategy;Education : 0.01128286133363421\n",
      "Strategy;Creativity : 0.01128286133363421\n",
      "Strategy;Action & Adventure : 0.01128286133363421\n",
      "Simulation;Education : 0.01128286133363421\n",
      "Role Playing;Brain Games : 0.01128286133363421\n",
      "Racing;Pretend Play : 0.01128286133363421\n",
      "Puzzle;Education : 0.01128286133363421\n",
      "Parenting;Brain Games : 0.01128286133363421\n",
      "Music & Audio;Music & Video : 0.01128286133363421\n",
      "Lifestyle;Pretend Play : 0.01128286133363421\n",
      "Lifestyle;Education : 0.01128286133363421\n",
      "Health & Fitness;Education : 0.01128286133363421\n",
      "Health & Fitness;Action & Adventure : 0.01128286133363421\n",
      "Entertainment;Education : 0.01128286133363421\n",
      "Communication;Creativity : 0.01128286133363421\n",
      "Comics;Creativity : 0.01128286133363421\n",
      "Casual;Music & Video : 0.01128286133363421\n",
      "Card;Action & Adventure : 0.01128286133363421\n",
      "Books & Reference;Education : 0.01128286133363421\n",
      "Art & Design;Pretend Play : 0.01128286133363421\n",
      "Art & Design;Action & Adventure : 0.01128286133363421\n",
      "Arcade;Pretend Play : 0.01128286133363421\n",
      "Adventure;Education : 0.01128286133363421\n"
     ]
    }
   ],
   "source": [
    "GENRES_IDX = 9\n",
    "display_table(cleaned_playstore_data_v4, GENRES_IDX)"
   ]
  },
  {
   "cell_type": "code",
   "execution_count": 24,
   "metadata": {
    "scrolled": true
   },
   "outputs": [
    {
     "name": "stdout",
     "output_type": "stream",
     "text": [
      "AppStore data\n",
      "---------------\n",
      "Values frequencies (in %) for column `prime_genre`:\n",
      "\n",
      "Games : 58.16263190564867\n",
      "Entertainment : 7.883302296710118\n",
      "Photo & Video : 4.9658597144630665\n",
      "Education : 3.6623215394165114\n",
      "Social Networking : 3.2898820608317814\n",
      "Shopping : 2.60707635009311\n",
      "Utilities : 2.5139664804469275\n",
      "Sports : 2.1415270018621975\n",
      "Music : 2.0484171322160147\n",
      "Health & Fitness : 2.017380509000621\n",
      "Productivity : 1.7380509000620732\n",
      "Lifestyle : 1.5828677839851024\n",
      "News : 1.3345747982619491\n",
      "Travel : 1.2414649286157666\n",
      "Finance : 1.1173184357541899\n",
      "Weather : 0.8690254500310366\n",
      "Food & Drink : 0.8069522036002483\n",
      "Reference : 0.5586592178770949\n",
      "Business : 0.5276225946617008\n",
      "Book : 0.4345127250155183\n",
      "Navigation : 0.186219739292365\n",
      "Medical : 0.186219739292365\n",
      "Catalogs : 0.12414649286157665\n"
     ]
    }
   ],
   "source": [
    "print(\"AppStore data\")\n",
    "PRIME_GENRE_IDX = 11\n",
    "display_table(cleaned_appstore_data_v4, PRIME_GENRE_IDX)"
   ]
  },
  {
   "cell_type": "markdown",
   "metadata": {},
   "source": [
    "Upon further analysis of the **AppStore dataset / column: prime_genre** we can reach the following conclusions:\n",
    "- in the analysed dataset of English-language application most of the persented applications have purely entertainment purpose - the most common category are **\"Games\"** constituting the 58% of presented applications, the 2nd most common category is **\"Entertainment\"** with presence at the level of 7.88%\n",
    "- while the third in the popularity ranking category is **\"Photo & video\"** constituting about 4.97% of the applications, the popularity of the consecutive ranking categories falls below 3%.\n",
    "\n",
    "It is impossible to express on the basis of this any kind of hard recommendation as the application popularity can but does not have to directly translate to the number of its active users.\n",
    "\n",
    "The soft recommendation is to take a deeper look at the **Gams / entertainment** category in the further analysis.\n"
   ]
  },
  {
   "cell_type": "markdown",
   "metadata": {},
   "source": [
    "Analysing the **Google Play Store dataset** columns: **category** and **genres** we can make the following observations:\n",
    "- for the **category** column the most popular classes are **family** (18.9%), **Game** (9.72%) and **Tools** (8.46%)\n",
    "- for the **Genres** column the most popular categories are **Tools** (8.45%), **Entertainment** (6.07%), **Education** (5.34%) and **Business** (4.59%)\n",
    "- the popularity of the categories/genres for the **Google Play Store dataset** seem to be more evenly distributed among categories without any direct leader taking the majority of the market\n",
    "- additionally, the popularity ranking shows more potential inclination towards tooling/professional application usage than purely to the entertainment purposes\n",
    "- similarily to the previous paragraph - recommendation of any of the genres/categories purely on this preliminary frequency analysis is not possible"
   ]
  },
  {
   "cell_type": "markdown",
   "metadata": {},
   "source": [
    "The **popularity of a particular category/genre** is not defined by the number of applications belonging to it but rather the the average number of installations of those applications. \n",
    "\n",
    "For the **App Store** dataset we do not have this data so we have to use the proxy feature - total number of user ratings present **rating_count_tot** column. \n",
    "\n",
    "The popularity rating based on that criterion is generated by the following piece of code:"
   ]
  },
  {
   "cell_type": "code",
   "execution_count": 25,
   "metadata": {
    "scrolled": true
   },
   "outputs": [
    {
     "name": "stdout",
     "output_type": "stream",
     "text": [
      "---------\n",
      "Genre popularity ranking in AppStore (sorted by the descending popularity):\n",
      "\n",
      "Navigation - 86090.33333333333\n",
      "Reference - 74942.11111111111\n",
      "Social Networking - 71548.34905660378\n",
      "Music - 57326.530303030304\n",
      "Weather - 52279.892857142855\n",
      "Book - 39758.5\n",
      "Food & Drink - 33333.92307692308\n",
      "Finance - 31467.944444444445\n",
      "Photo & Video - 28441.54375\n",
      "Travel - 28243.8\n",
      "Shopping - 26919.690476190477\n",
      "Health & Fitness - 23298.015384615384\n",
      "Sports - 23008.898550724636\n",
      "Games - 22788.6696905016\n",
      "News - 21248.023255813954\n",
      "Productivity - 21028.410714285714\n",
      "Utilities - 18684.456790123455\n",
      "Lifestyle - 16485.764705882353\n",
      "Entertainment - 14029.830708661417\n",
      "Business - 7491.117647058823\n",
      "Education - 7003.983050847458\n",
      "Catalogs - 4004.0\n",
      "Medical - 612.0\n"
     ]
    }
   ],
   "source": [
    "prime_genre_freq_table = freq_table(cleaned_appstore_data_v4[1:], PRIME_GENRE_IDX)\n",
    "\n",
    "keys = {key for key in prime_genre_freq_table}\n",
    "\n",
    "result_rating = [()] * len(keys)\n",
    "RATING_COUNT_TOTAL_IDX = 5\n",
    "\n",
    "index = 0\n",
    "for genre in prime_genre_freq_table:\n",
    "    total = 0\n",
    "    len_genre = 0\n",
    "    for row in cleaned_appstore_data_v4[1:]:\n",
    "        genre_app = row[PRIME_GENRE_IDX]\n",
    "        if genre_app == genre:\n",
    "            len_genre += 1\n",
    "            total += float(row[RATING_COUNT_TOTAL_IDX])\n",
    "\n",
    "    average_rating_count = total / len_genre\n",
    "    result_rating[index] = (average_rating_count, genre)\n",
    "    index += 1\n",
    "    #print(f\"'{genre}'' ==> {average_rating_count}\")\n",
    "\n",
    "result_rating = sorted(result_rating, reverse=True)\n",
    "\n",
    "print(\"---------\")\n",
    "print(\"Genre popularity ranking in AppStore (sorted by the descending popularity):\\n\")\n",
    "for elem in result_rating:\n",
    "    print(f\"{elem[1]} - {elem[0]}\")\n",
    "        "
   ]
  },
  {
   "cell_type": "markdown",
   "metadata": {},
   "source": [
    "The **proposed criterion** for choosing the categories from the **AppStore** is **their popularity**. The **cut-off level** of **28000 ratings** is assumed following which the focus on the following genres is suggested:\n",
    "1. Navigation\n",
    "2. Reference\n",
    "3. Social Networking\n",
    "4. Music\n",
    "5. Weather\n",
    "6. Book\n",
    "7. Food & dring\n",
    "8. Finance\n",
    "9. Photo & Video\n",
    "10. Travel"
   ]
  },
  {
   "cell_type": "markdown",
   "metadata": {},
   "source": [
    "For the **Google Playstore** we use the **'Installs'** column as the measure of the application **category** popularity. As it\n",
    "contains the approximate buckets for the numbers of installs ( e.g. '1,000+') they are treated as the exact numbers during pre-processing step which includes the removal of '+' and ',' signs. \n",
    "\n",
    "The results are sorted descending by their popularity."
   ]
  },
  {
   "cell_type": "code",
   "execution_count": 26,
   "metadata": {},
   "outputs": [
    {
     "name": "stdout",
     "output_type": "stream",
     "text": [
      "{'MEDICAL', 'ART_AND_DESIGN', 'NEWS_AND_MAGAZINES', 'GAME', 'TOOLS', 'LIBRARIES_AND_DEMO', 'DATING', 'COMMUNICATION', 'PRODUCTIVITY', 'COMICS', 'FOOD_AND_DRINK', 'SHOPPING', 'PARENTING', 'LIFESTYLE', 'PERSONALIZATION', 'EDUCATION', 'PHOTOGRAPHY', 'HOUSE_AND_HOME', 'AUTO_AND_VEHICLES', 'TRAVEL_AND_LOCAL', 'EVENTS', 'SPORTS', 'FAMILY', 'ENTERTAINMENT', 'BEAUTY', 'FINANCE', 'SOCIAL', 'BOOKS_AND_REFERENCE', 'MAPS_AND_NAVIGATION', 'HEALTH_AND_FITNESS', 'WEATHER', 'VIDEO_PLAYERS', 'BUSINESS'}\n"
     ]
    }
   ],
   "source": [
    "CATEGORY_IDX = 1\n",
    "INSTALLS_IDX = 5\n",
    "categories_table = freq_table(cleaned_playstore_data_v4[1:], CATEGORY_IDX)\n",
    "all_categories = {key for key in categories_table}\n",
    "print({key for key in categories_table})"
   ]
  },
  {
   "cell_type": "code",
   "execution_count": 27,
   "metadata": {},
   "outputs": [
    {
     "name": "stdout",
     "output_type": "stream",
     "text": [
      "--------------------\n",
      "COMMUNICATION ==> 38456119.167247385\n",
      "VIDEO_PLAYERS ==> 24727872.452830188\n",
      "SOCIAL ==> 23253652.127118643\n",
      "PHOTOGRAPHY ==> 17840110.40229885\n",
      "PRODUCTIVITY ==> 16787331.344927534\n",
      "GAME ==> 15588015.603248259\n",
      "TRAVEL_AND_LOCAL ==> 13984077.710144928\n",
      "ENTERTAINMENT ==> 11640705.88235294\n",
      "TOOLS ==> 10801391.298666667\n",
      "NEWS_AND_MAGAZINES ==> 9549178.467741935\n",
      "BOOKS_AND_REFERENCE ==> 8767811.894736841\n",
      "SHOPPING ==> 7036877.311557789\n",
      "PERSONALIZATION ==> 5201482.6122448975\n",
      "WEATHER ==> 5074486.197183099\n",
      "HEALTH_AND_FITNESS ==> 4188821.9853479853\n",
      "MAPS_AND_NAVIGATION ==> 4056941.7741935486\n",
      "FAMILY ==> 3697848.1731343283\n",
      "SPORTS ==> 3638640.1428571427\n",
      "ART_AND_DESIGN ==> 1986335.0877192982\n",
      "FOOD_AND_DRINK ==> 1924897.7363636363\n",
      "EDUCATION ==> 1833495.145631068\n",
      "BUSINESS ==> 1712290.1474201474\n",
      "LIFESTYLE ==> 1437816.2687861272\n",
      "FINANCE ==> 1387692.475609756\n",
      "HOUSE_AND_HOME ==> 1331540.5616438356\n",
      "DATING ==> 854028.8303030303\n",
      "COMICS ==> 817657.2727272727\n",
      "AUTO_AND_VEHICLES ==> 647317.8170731707\n",
      "LIBRARIES_AND_DEMO ==> 638503.734939759\n",
      "PARENTING ==> 542603.6206896552\n",
      "BEAUTY ==> 513151.88679245283\n",
      "EVENTS ==> 253542.22222222222\n",
      "MEDICAL ==> 120550.61980830671\n"
     ]
    }
   ],
   "source": [
    "def format_installs(installs):\n",
    "    forbidden_chars = {'+',','}\n",
    "    for current in forbidden_chars:\n",
    "        installs = installs.replace(current,'')\n",
    "    return installs\n",
    "\n",
    "final_ranking = [()]*len(all_categories)\n",
    "index = 0\n",
    "for category in all_categories:\n",
    "    total = 0\n",
    "    len_category = 0\n",
    "    for row in cleaned_playstore_data_v4[1:]:\n",
    "        category_app = row[CATEGORY_IDX]\n",
    "        if category == category_app:\n",
    "            installs = float(format_installs(row[INSTALLS_IDX]))\n",
    "            total += installs\n",
    "            len_category += 1\n",
    "\n",
    "    average_installs = total / len_category\n",
    "    final_ranking[index] = (average_installs, category)\n",
    "    index += 1\n",
    "\n",
    "final_ranking = sorted(final_ranking, reverse=True)\n",
    "print(\"--------------------\")\n",
    "for current_tuple in final_ranking:\n",
    "    print(f\"{current_tuple[1]} ==> {current_tuple[0]}\")\n",
    "        \n",
    "        "
   ]
  },
  {
   "cell_type": "markdown",
   "metadata": {},
   "source": [
    "During comparison of the ranking lists for **AppStore** and **Google PlayStore** it might be noticed that the following categories have high rankings on both lists (we take the intersection of the top 10s of both lists):\n",
    "        "
   ]
  },
  {
   "cell_type": "markdown",
   "metadata": {},
   "source": [
    "| AppStore category | corresponding PlayStore  Category  |\n",
    "|-------------------|------------------------------------|\n",
    "| 9. Photo & Video     | 2. VIDEO_PLAYERS                |\n",
    "| 3.Social Networking | 3. SOCIAL |\n",
    "| 9.Photo & Video  | 4. PHOTOGRAPHY |\n",
    "| 10.Travel        | 7. TRAVEL_AND_LOCAL|\n",
    " \n"
   ]
  },
  {
   "cell_type": "markdown",
   "metadata": {},
   "source": [
    "Those four categories constitute the final recommendation."
   ]
  }
 ],
 "metadata": {
  "kernelspec": {
   "display_name": "Python 3 (ipykernel)",
   "language": "python",
   "name": "python3"
  },
  "language_info": {
   "codemirror_mode": {
    "name": "ipython",
    "version": 3
   },
   "file_extension": ".py",
   "mimetype": "text/x-python",
   "name": "python",
   "nbconvert_exporter": "python",
   "pygments_lexer": "ipython3",
   "version": "3.12.8"
  }
 },
 "nbformat": 4,
 "nbformat_minor": 4
}
