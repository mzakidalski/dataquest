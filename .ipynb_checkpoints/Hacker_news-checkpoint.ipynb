{
 "cells": [
  {
   "cell_type": "markdown",
   "metadata": {
    "jupyter": {
     "outputs_hidden": true
    }
   },
   "source": [
    "# Exploring Hacker News posts\n",
    "\n",
    "## Dataset\n",
    "\n",
    "This dataset contains information about posts from the [HackerNews](https://www.ycombinator.com/) which is Reddit-style, technology-and-startup-oriented webpage where user can submit their stories (a.k.a. posts), receive comments and votes.\n",
    "\n",
    "The [source dataset](https://www.kaggle.com/datasets/hacker-news/hacker-news-posts) has been randomly down-sampled to about 20,000 rows after removing all submissions without any comments.\n",
    "\n",
    "The dataset contains the following columns:\n",
    "- **id** - the unique identifier from Hacker News for the post;\n",
    "- **title** - the title of the post;\n",
    "- **url** - the URL that the posts links to, if the post has a URL;\n",
    "- **num_points** - the number of points the post acquired, calculated as the total - number of upvotes minus the total number of downvotes;\n",
    "- **num_comments** - the number of comments on the post;\n",
    "- **author** - the username of the person who submitted the post;\n",
    "- **created_at** - the date and time of the post's submission.\n"
   ]
  },
  {
   "cell_type": "markdown",
   "metadata": {},
   "source": [
    "## Research problem\n",
    "\n",
    "This analysis focuses on two kinds of posts:\n",
    "- **Ask HN** - created by users to ask the Hacker News community a specific question;\n",
    "- **Show HN** - made to show the community a project, product, or sth to take a look at.\n",
    "\n",
    "The questions we are to answer are:\n",
    "1. Which posts on average receive more comments: **Ask HN** or **Show HN**?\n",
    "2. Do **Ask HN** posts create at a certain time receive more comments on average?\n",
    "\n",
    "Additional problems considered in this notebook:\n",
    "1. The average number of comments per hour the **Show HN** posts receive.\n",
    "2. Which posts on average receive more points: **Ask HN** or **Show HN**?\n",
    "3. Determine if posts created at a certain time are more likely to receive points."
   ]
  },
  {
   "cell_type": "markdown",
   "metadata": {},
   "source": [
    "## Dataset loading"
   ]
  },
  {
   "cell_type": "code",
   "execution_count": 1,
   "metadata": {},
   "outputs": [
    {
     "name": "stdout",
     "output_type": "stream",
     "text": [
      "First five rows of the 'Hacker News' dataset:\n",
      "\n",
      "['id', 'title', 'url', 'num_points', 'num_comments', 'author', 'created_at']\n",
      "['12224879', 'Interactive Dynamic Video', 'http://www.interactivedynamicvideo.com/', '386', '52', 'ne0phyte', '8/4/2016 11:52']\n",
      "['10975351', 'How to Use Open Source and Shut the Fuck Up at the Same Time', 'http://hueniverse.com/2016/01/26/how-to-use-open-source-and-shut-the-fuck-up-at-the-same-time/', '39', '10', 'josep2', '1/26/2016 19:30']\n",
      "['11964716', \"Florida DJs May Face Felony for April Fools' Water Joke\", 'http://www.thewire.com/entertainment/2013/04/florida-djs-april-fools-water-joke/63798/', '2', '1', 'vezycash', '6/23/2016 22:20']\n",
      "['11919867', 'Technology ventures: From Idea to Enterprise', 'https://www.amazon.com/Technology-Ventures-Enterprise-Thomas-Byers/dp/0073523429', '3', '1', 'hswarna', '6/17/2016 0:01']\n"
     ]
    }
   ],
   "source": [
    "from csv import reader\n",
    "\n",
    "file = open(\"hacker_news.csv\")\n",
    "hn = list(reader(file))\n",
    "\n",
    "print(\"First five rows of the 'Hacker News' dataset:\\n\")\n",
    "\n",
    "for i in range(0,5,1):\n",
    "    print(hn[i])"
   ]
  },
  {
   "cell_type": "markdown",
   "metadata": {},
   "source": [
    "## Data pre-processing\n",
    "\n",
    "We will separate the header into a separate variable **hn**."
   ]
  },
  {
   "cell_type": "code",
   "execution_count": 2,
   "metadata": {},
   "outputs": [
    {
     "name": "stdout",
     "output_type": "stream",
     "text": [
      "Headers: \n",
      " ['id', 'title', 'url', 'num_points', 'num_comments', 'author', 'created_at']\n",
      "\n",
      "First five lines of the dataset without headers:\n",
      " [['12224879', 'Interactive Dynamic Video', 'http://www.interactivedynamicvideo.com/', '386', '52', 'ne0phyte', '8/4/2016 11:52'], ['10975351', 'How to Use Open Source and Shut the Fuck Up at the Same Time', 'http://hueniverse.com/2016/01/26/how-to-use-open-source-and-shut-the-fuck-up-at-the-same-time/', '39', '10', 'josep2', '1/26/2016 19:30'], ['11964716', \"Florida DJs May Face Felony for April Fools' Water Joke\", 'http://www.thewire.com/entertainment/2013/04/florida-djs-april-fools-water-joke/63798/', '2', '1', 'vezycash', '6/23/2016 22:20'], ['11919867', 'Technology ventures: From Idea to Enterprise', 'https://www.amazon.com/Technology-Ventures-Enterprise-Thomas-Byers/dp/0073523429', '3', '1', 'hswarna', '6/17/2016 0:01'], ['10301696', 'Note by Note: The Making of Steinway L1037 (2007)', 'http://www.nytimes.com/2007/11/07/movies/07stein.html?_r=0', '8', '2', 'walterbell', '9/30/2015 4:12']]\n",
      "\n"
     ]
    }
   ],
   "source": [
    "headers = hn[0]\n",
    "hn = hn[1:]\n",
    "\n",
    "print(f\"Headers: \\n {headers}\\n\")\n",
    "print(f\"First five lines of the dataset without headers:\\n {hn[:5]}\\n\")"
   ]
  },
  {
   "cell_type": "markdown",
   "metadata": {},
   "source": [
    "All **Ask HN** posts will be extracted into **ask_posts** variable and respectivelyu **Show HN** posts into **show_posts** variable. \n",
    "All other posts will be stored in the **other_posts**."
   ]
  },
  {
   "cell_type": "code",
   "execution_count": 3,
   "metadata": {},
   "outputs": [
    {
     "name": "stdout",
     "output_type": "stream",
     "text": [
      "Number of ASK HN posts: 1744\n",
      "Number of SHOW HN posts: 1162\n",
      "Number of posts outside of this category: 17194\n"
     ]
    }
   ],
   "source": [
    "ask_posts = []\n",
    "show_posts = []\n",
    "other_posts = []\n",
    "\n",
    "TITLE_IDX = 1\n",
    "ASK_HN_PREFIX = \"ask hn\"\n",
    "SHOW_HN_PREFIX = \"show hn\"\n",
    "\n",
    "for row in hn:\n",
    "    title = row[TITLE_IDX].lower()\n",
    "    if title.startswith(ASK_HN_PREFIX):\n",
    "        ask_posts.append(row)\n",
    "    elif title.startswith(SHOW_HN_PREFIX):\n",
    "        show_posts.append(row)\n",
    "    else:\n",
    "        other_posts.append(row)\n",
    "        \n",
    "print(f\"Number of ASK HN posts: {len(ask_posts)}\")\n",
    "print(f\"Number of SHOW HN posts: {len(show_posts)}\")\n",
    "print(f\"Number of posts outside of this category: {len(other_posts)}\")"
   ]
  },
  {
   "cell_type": "code",
   "execution_count": 4,
   "metadata": {},
   "outputs": [
    {
     "name": "stdout",
     "output_type": "stream",
     "text": [
      "[['10627194', 'Show HN: Wio Link  ESP8266 Based Web of Things Hardware Development Platform', 'https://iot.seeed.cc', '26', '22', 'kfihihc', '11/25/2015 14:03'], ['10646440', 'Show HN: Something pointless I made', 'http://dn.ht/picklecat/', '747', '102', 'dhotson', '11/29/2015 22:46'], ['11590768', 'Show HN: Shanhu.io, a programming playground powered by e8vm', 'https://shanhu.io', '1', '1', 'h8liu', '4/28/2016 18:05'], ['12178806', 'Show HN: Webscope  Easy way for web developers to communicate with Clients', 'http://webscopeapp.com', '3', '3', 'fastbrick', '7/28/2016 7:11'], ['10872799', 'Show HN: GeoScreenshot  Easily test Geo-IP based web pages', 'https://www.geoscreenshot.com/', '1', '9', 'kpsychwave', '1/9/2016 20:45']]\n"
     ]
    }
   ],
   "source": [
    "print(f\"{show_posts[:5]}\")"
   ]
  },
  {
   "cell_type": "markdown",
   "metadata": {},
   "source": [
    "## Research question no. 1\n",
    "\n",
    "Below is the code of the helper method for calculating the average number of comments per post in the supplied dataset."
   ]
  },
  {
   "cell_type": "code",
   "execution_count": 5,
   "metadata": {},
   "outputs": [],
   "source": [
    "def get_average_number_of_comments(dataset):\n",
    "    total_comments = 0\n",
    "    NUM_COMMENT_IDX = 4\n",
    "    for row in dataset:\n",
    "        total_comments += int(row[NUM_COMMENT_IDX])\n",
    "    return total_comments/len(dataset)"
   ]
  },
  {
   "cell_type": "markdown",
   "metadata": {},
   "source": [
    "The average number of comments per post for each of the specified datasets:"
   ]
  },
  {
   "cell_type": "code",
   "execution_count": 6,
   "metadata": {},
   "outputs": [
    {
     "name": "stdout",
     "output_type": "stream",
     "text": [
      "Average number of comments per ASK HN post: 14.038417431192661\n",
      "Average number of comments per SHOW HN post: 10.31669535283993\n"
     ]
    }
   ],
   "source": [
    "avg_ask_comments = get_average_number_of_comments(ask_posts)\n",
    "avg_show_comments = get_average_number_of_comments(show_posts)\n",
    "\n",
    "print(f\"Average number of comments per ASK HN post: {avg_ask_comments}\")\n",
    "print(f\"Average number of comments per SHOW HN post: {avg_show_comments}\")"
   ]
  },
  {
   "cell_type": "markdown",
   "metadata": {},
   "source": [
    "On average the **Ask HN** posts receive more comments than **Show HN** comments but these values seem to be comparable."
   ]
  },
  {
   "cell_type": "markdown",
   "metadata": {},
   "source": [
    "## Research question no. 2\n",
    "\n",
    "Let us determine whether **Ask HN** posts created at certain hours of the day are more likely to attract comments. The function below calculates the average number of posts per hour for a specified posts subset. \n",
    "\n",
    "It is run it to calculate the average number of comments per hour for the **Ask HN** posts."
   ]
  },
  {
   "cell_type": "code",
   "execution_count": 7,
   "metadata": {},
   "outputs": [
    {
     "name": "stdout",
     "output_type": "stream",
     "text": [
      "Average comments per hour for the Ask HN posts:\n",
      "\n",
      "[[9, 5.5777777777777775], [13, 14.741176470588234], [10, 13.440677966101696], [14, 13.233644859813085], [16, 16.796296296296298], [23, 7.985294117647059], [12, 9.41095890410959], [17, 11.46], [15, 38.5948275862069], [21, 16.009174311926607], [20, 21.525], [2, 23.810344827586206], [18, 13.20183486238532], [3, 7.796296296296297], [5, 10.08695652173913], [19, 10.8], [1, 11.383333333333333], [22, 6.746478873239437], [8, 10.25], [4, 7.170212765957447], [0, 8.127272727272727], [6, 9.022727272727273], [7, 7.852941176470588], [11, 11.051724137931034]]\n"
     ]
    }
   ],
   "source": [
    "import datetime as dt\n",
    "\n",
    "def compute_avg_comments_per_hour(dataset):\n",
    "    avg_by_hour = []\n",
    "    result_list = []\n",
    "    counts_by_hour = {}\n",
    "    comments_by_hour = {}\n",
    "\n",
    "    DATE_COLUMN = 6\n",
    "    COMMENTS_COLUMN = 4\n",
    "\n",
    "    for post in dataset:\n",
    "        result_list.append( (dt.datetime.strptime(post[DATE_COLUMN], \n",
    "                                                 \"%m/%d/%Y %H:%M\"),\n",
    "                             int(post[COMMENTS_COLUMN])))\n",
    "\n",
    "    for element in result_list:\n",
    "        hour = element[0].hour\n",
    "        comments = element[1]\n",
    "        counts_by_hour[hour] = counts_by_hour.get(hour,0) + 1\n",
    "        comments_by_hour[hour] = comments_by_hour.get(hour,0) + comments\n",
    "        \n",
    "    for hour in comments_by_hour:\n",
    "        avg_by_hour.append([hour, comments_by_hour[hour] / counts_by_hour[hour] ])\n",
    "        \n",
    "    return(avg_by_hour)\n",
    "\n",
    "avg_by_hour = compute_avg_comments_per_hour(ask_posts)\n",
    "print(f\"Average comments per hour for the Ask HN posts:\\n\")\n",
    "print(avg_by_hour)"
   ]
  },
  {
   "cell_type": "markdown",
   "metadata": {},
   "source": [
    "The output data requires re-formatting and sorting according to the average number of comments per post for the sake of readability. Code executing that is wrapped into function."
   ]
  },
  {
   "cell_type": "code",
   "execution_count": 8,
   "metadata": {},
   "outputs": [
    {
     "name": "stdout",
     "output_type": "stream",
     "text": [
      "Average comments per hour for the Ask HN posts presented in readable format:\n",
      "\n",
      "15:00 -> 38.59\n",
      "02:00 -> 23.81\n",
      "20:00 -> 21.52\n",
      "16:00 -> 16.80\n",
      "21:00 -> 16.01\n",
      "13:00 -> 14.74\n",
      "10:00 -> 13.44\n",
      "14:00 -> 13.23\n",
      "18:00 -> 13.20\n",
      "17:00 -> 11.46\n",
      "01:00 -> 11.38\n",
      "11:00 -> 11.05\n",
      "19:00 -> 10.80\n",
      "08:00 -> 10.25\n",
      "05:00 -> 10.09\n",
      "12:00 -> 9.41\n",
      "06:00 -> 9.02\n",
      "00:00 -> 8.13\n",
      "23:00 -> 7.99\n",
      "07:00 -> 7.85\n",
      "03:00 -> 7.80\n",
      "04:00 -> 7.17\n",
      "22:00 -> 6.75\n",
      "09:00 -> 5.58\n"
     ]
    }
   ],
   "source": [
    "def print_avg_comments_per_hour_data(avg_by_hour):\n",
    "    sorted_swap = sorted([ [elem[1], elem[0]] for elem in avg_by_hour], reverse = True)\n",
    "\n",
    "    for elem in sorted_swap:\n",
    "        hour = dt.datetime.strftime(dt.datetime(2025, 12, 12, hour=elem[1]), \"%H:%M\")\n",
    "        print(f\"{hour} -> {elem[0]:.2f}\")\n",
    "    \n",
    "print(f\"Average comments per hour for the Ask HN posts presented in readable format:\\n\")\n",
    "print_avg_comments_per_hour_data(avg_by_hour)"
   ]
  },
  {
   "cell_type": "markdown",
   "metadata": {},
   "source": [
    "The **Ask HN** posts which attract most comments are created at 15:00 Eastern Time in US which translates to 8:00 Central European Time. Assuming this tendency continues, to attract most comments the **Ask HN** posts should be created at that hour."
   ]
  },
  {
   "cell_type": "markdown",
   "metadata": {},
   "source": [
    "## Additional problem 1: the average number of comments per hour the **Show HN** posts receive"
   ]
  },
  {
   "cell_type": "markdown",
   "metadata": {},
   "source": [
    "To answer this question we re-use functions written for previous research questions."
   ]
  },
  {
   "cell_type": "code",
   "execution_count": 9,
   "metadata": {},
   "outputs": [
    {
     "name": "stdout",
     "output_type": "stream",
     "text": [
      "Average comments per hour for the Show HN posts:\n",
      "\n",
      "18:00 -> 15.77\n",
      "00:00 -> 15.71\n",
      "14:00 -> 13.44\n",
      "23:00 -> 12.42\n",
      "22:00 -> 12.39\n",
      "12:00 -> 11.80\n",
      "16:00 -> 11.66\n",
      "07:00 -> 11.50\n",
      "11:00 -> 11.16\n",
      "03:00 -> 10.63\n",
      "20:00 -> 10.20\n",
      "19:00 -> 9.80\n",
      "17:00 -> 9.80\n",
      "09:00 -> 9.70\n",
      "13:00 -> 9.56\n",
      "04:00 -> 9.50\n",
      "06:00 -> 8.88\n",
      "01:00 -> 8.79\n",
      "10:00 -> 8.25\n",
      "15:00 -> 8.10\n",
      "21:00 -> 5.79\n",
      "08:00 -> 4.85\n",
      "02:00 -> 4.23\n",
      "05:00 -> 3.05\n"
     ]
    }
   ],
   "source": [
    "avg_show_hn_comments_by_hour = compute_avg_comments_per_hour(show_posts)\n",
    "\n",
    "print(f\"Average comments per hour for the Show HN posts:\\n\")\n",
    "print_avg_comments_per_hour_data(avg_show_hn_comments_by_hour)"
   ]
  },
  {
   "cell_type": "markdown",
   "metadata": {},
   "source": [
    "As we can see the number of comments per hour varies from 15.77 to 3.05 with the difference between max and min values equal:"
   ]
  },
  {
   "cell_type": "code",
   "execution_count": 10,
   "metadata": {},
   "outputs": [
    {
     "name": "stdout",
     "output_type": "stream",
     "text": [
      "The difference between max comments per hour and min comments per hour is equal to 12.719999999999999\n"
     ]
    }
   ],
   "source": [
    "difference = 15.77-3.05\n",
    "print(f\"The difference between max comments per hour and min comments per hour is equal to {difference}\")"
   ]
  },
  {
   "cell_type": "markdown",
   "metadata": {},
   "source": [
    "## Additional problem 2: whether  **Ask HN** or **Show HN** receive on average more points"
   ]
  },
  {
   "cell_type": "markdown",
   "metadata": {},
   "source": [
    "The following code calculates that:"
   ]
  },
  {
   "cell_type": "code",
   "execution_count": 11,
   "metadata": {},
   "outputs": [
    {
     "name": "stdout",
     "output_type": "stream",
     "text": [
      "Average number of points per Ask HN post is 15.061926605504587\n"
     ]
    }
   ],
   "source": [
    "ask_hn_points = [int(row[3]) for row in ask_posts]\n",
    "avg_points_per_ask_hn_post = sum(ask_hn_points)/len(ask_hn_points)\n",
    "\n",
    "print(f\"Average number of points per Ask HN post is {avg_points_per_ask_hn_post}\")\n"
   ]
  },
  {
   "cell_type": "code",
   "execution_count": 12,
   "metadata": {},
   "outputs": [
    {
     "name": "stdout",
     "output_type": "stream",
     "text": [
      "Average number of points per Show HN post is 27.555077452667813\n"
     ]
    }
   ],
   "source": [
    "show_hn_points = [int(row[3]) for row in show_posts]\n",
    "avg_points_per_show_hn_post = sum(show_hn_points)/len(show_hn_points)\n",
    "\n",
    "print(f\"Average number of points per Show HN post is {avg_points_per_show_hn_post}\")\n"
   ]
  },
  {
   "cell_type": "markdown",
   "metadata": {},
   "source": [
    "It occurs that **Show HN** posts receive almost twice as much points as the **Ask HN** posts. It supports the statement that **Show HN** posts engage the HackerNews\n",
    "users more."
   ]
  },
  {
   "cell_type": "markdown",
   "metadata": {},
   "source": [
    "We can also investigate the average number of points per **other** post."
   ]
  },
  {
   "cell_type": "code",
   "execution_count": 13,
   "metadata": {},
   "outputs": [
    {
     "name": "stdout",
     "output_type": "stream",
     "text": [
      "Average number of points per Other post is 55.4067698034198\n"
     ]
    }
   ],
   "source": [
    "other_points = [int(row[3]) for row in other_posts]\n",
    "avg_points_per_other_post = sum(other_points)/len(other_points)\n",
    "\n",
    "print(f\"Average number of points per Other post is {avg_points_per_other_post}\")"
   ]
  },
  {
   "cell_type": "markdown",
   "metadata": {},
   "source": [
    "It occurs that it is significantly bigger than the values for **Ask HN** and **Show HN** posts."
   ]
  },
  {
   "cell_type": "markdown",
   "metadata": {},
   "source": [
    "## Additional problem 3: determine if posts created at a certain time are more likely to receive more points."
   ]
  },
  {
   "cell_type": "markdown",
   "metadata": {},
   "source": [
    "The following function returns - for the specified dataset - the map containing as keys hours of the day and as values the average number of points for posts created at the specified hour. The result is sorted descending by the average number of points."
   ]
  },
  {
   "cell_type": "code",
   "execution_count": 14,
   "metadata": {},
   "outputs": [],
   "source": [
    "def compute_average_points_per_hour(dataset):\n",
    "    date_points = [ ( dt.datetime.strptime(row[6], \"%m/%d/%Y %H:%M\"), int(row[3])) for row in dataset]\n",
    "    hour_points = [(row[0].hour, row[1]) for row in date_points]\n",
    "    \n",
    "    hour_to_sum_points = {}\n",
    "    hour_to_num_posts = {}\n",
    "    \n",
    "    for row in hour_points:\n",
    "        hour = row[0]\n",
    "        points = row[1]\n",
    "        \n",
    "        hour_to_sum_points[hour] = hour_to_sum_points.get(hour,0) + points\n",
    "        hour_to_num_posts[hour] = hour_to_num_posts.get(hour,0) + 1\n",
    "        \n",
    "    for key in hour_to_sum_points:\n",
    "        hour_to_sum_points[key] = hour_to_sum_points[key] / hour_to_num_posts[key]\n",
    "        \n",
    "    return dict(sorted(hour_to_sum_points.items(), key = lambda item: item[1], reverse = True))\n",
    "        \n",
    "    \n",
    "    "
   ]
  },
  {
   "cell_type": "code",
   "execution_count": 15,
   "metadata": {},
   "outputs": [
    {
     "name": "stdout",
     "output_type": "stream",
     "text": [
      "Average number of points per ASK HN post\n",
      " --- \n"
     ]
    },
    {
     "data": {
      "text/plain": [
       "{15: 29.99137931034483,\n",
       " 13: 24.258823529411764,\n",
       " 16: 23.35185185185185,\n",
       " 17: 19.41,\n",
       " 10: 18.677966101694917,\n",
       " 18: 15.972477064220184,\n",
       " 21: 15.788990825688073,\n",
       " 20: 14.3875,\n",
       " 11: 14.224137931034482,\n",
       " 19: 13.754545454545454,\n",
       " 2: 13.672413793103448,\n",
       " 6: 13.431818181818182,\n",
       " 5: 12.0,\n",
       " 14: 11.981308411214954,\n",
       " 1: 11.666666666666666,\n",
       " 8: 10.729166666666666,\n",
       " 12: 10.712328767123287,\n",
       " 7: 10.617647058823529,\n",
       " 23: 8.544117647058824,\n",
       " 4: 8.27659574468085,\n",
       " 0: 8.2,\n",
       " 9: 7.311111111111111,\n",
       " 22: 7.197183098591549,\n",
       " 3: 6.925925925925926}"
      ]
     },
     "execution_count": 15,
     "metadata": {},
     "output_type": "execute_result"
    }
   ],
   "source": [
    "print(\"Average number of points per ASK HN post\")\n",
    "print(\" --- \")\n",
    "compute_average_points_per_hour(ask_posts)"
   ]
  },
  {
   "cell_type": "code",
   "execution_count": 16,
   "metadata": {},
   "outputs": [
    {
     "name": "stdout",
     "output_type": "stream",
     "text": [
      "Average number of points per Show HN posts\n",
      " --- \n"
     ]
    },
    {
     "data": {
      "text/plain": [
       "{23: 42.388888888888886,\n",
       " 12: 41.68852459016394,\n",
       " 22: 40.34782608695652,\n",
       " 0: 37.83870967741935,\n",
       " 18: 36.31147540983606,\n",
       " 11: 33.63636363636363,\n",
       " 19: 30.945454545454545,\n",
       " 20: 30.316666666666666,\n",
       " 15: 28.564102564102566,\n",
       " 16: 28.322580645161292,\n",
       " 17: 27.107526881720432,\n",
       " 14: 25.430232558139537,\n",
       " 3: 25.14814814814815,\n",
       " 1: 25.0,\n",
       " 13: 24.626262626262626,\n",
       " 6: 23.4375,\n",
       " 7: 19.0,\n",
       " 10: 18.916666666666668,\n",
       " 9: 18.433333333333334,\n",
       " 21: 18.425531914893618,\n",
       " 8: 15.264705882352942,\n",
       " 4: 14.846153846153847,\n",
       " 2: 11.333333333333334,\n",
       " 5: 5.473684210526316}"
      ]
     },
     "execution_count": 16,
     "metadata": {},
     "output_type": "execute_result"
    }
   ],
   "source": [
    "print(\"Average number of points per Show HN posts\")\n",
    "print(\" --- \")\n",
    "compute_average_points_per_hour(show_posts)"
   ]
  },
  {
   "cell_type": "code",
   "execution_count": 17,
   "metadata": {},
   "outputs": [
    {
     "name": "stdout",
     "output_type": "stream",
     "text": [
      "Average number of points per other post\n",
      " --- \n"
     ]
    },
    {
     "data": {
      "text/plain": [
       "{13: 62.525054466230934,\n",
       " 14: 61.78601252609603,\n",
       " 15: 60.542307692307695,\n",
       " 10: 60.4839255499154,\n",
       " 19: 60.01122448979592,\n",
       " 2: 58.471655328798185,\n",
       " 0: 58.4582651391162,\n",
       " 17: 57.97861420017109,\n",
       " 11: 57.56818181818182,\n",
       " 12: 57.3979721166033,\n",
       " 3: 56.92137592137592,\n",
       " 7: 56.832589285714285,\n",
       " 16: 54.182561307901906,\n",
       " 8: 54.09274193548387,\n",
       " 9: 53.93632958801498,\n",
       " 18: 53.928966789667896,\n",
       " 23: 52.02967359050445,\n",
       " 1: 50.606,\n",
       " 22: 50.236147757255935,\n",
       " 5: 49.96649484536083,\n",
       " 4: 49.66740088105727,\n",
       " 21: 49.369565217391305,\n",
       " 6: 46.23529411764706,\n",
       " 20: 45.24478594950604}"
      ]
     },
     "execution_count": 17,
     "metadata": {},
     "output_type": "execute_result"
    }
   ],
   "source": [
    "print(\"Average number of points per other post\")\n",
    "print(\" --- \")\n",
    "compute_average_points_per_hour(other_posts)"
   ]
  },
  {
   "cell_type": "markdown",
   "metadata": {},
   "source": [
    "It occurs that the hour the post was created is correlated with the number of points it receives:\n",
    "1. for the **Ask HN** posts - the best hours are 15 and 13.\n",
    "2. for the **Show HN** posts - the best hours are 23 and 12.\n",
    "3. for the **Other** posts - these are 13 and 14.\n",
    "\n",
    "It is worth noting that for the **Other** posts the tendency is not so strong the biggest average number of points per hour is 62.52 and the smalles 45.24, while for the **Ask HN** and **Show HN** the smallest average number of points is not bigger than 7."
   ]
  },
  {
   "cell_type": "code",
   "execution_count": null,
   "metadata": {},
   "outputs": [],
   "source": []
  }
 ],
 "metadata": {
  "kernelspec": {
   "display_name": "Python 3 (ipykernel)",
   "language": "python",
   "name": "python3"
  },
  "language_info": {
   "codemirror_mode": {
    "name": "ipython",
    "version": 3
   },
   "file_extension": ".py",
   "mimetype": "text/x-python",
   "name": "python",
   "nbconvert_exporter": "python",
   "pygments_lexer": "ipython3",
   "version": "3.11.0rc1"
  }
 },
 "nbformat": 4,
 "nbformat_minor": 4
}
